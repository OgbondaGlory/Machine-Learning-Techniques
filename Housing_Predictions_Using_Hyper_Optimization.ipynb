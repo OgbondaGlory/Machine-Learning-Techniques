{
 "cells": [
  {
   "cell_type": "markdown",
   "id": "decfd53c",
   "metadata": {
    "papermill": {
     "duration": 0.005582,
     "end_time": "2022-12-31T16:04:49.129348",
     "exception": false,
     "start_time": "2022-12-31T16:04:49.123766",
     "status": "completed"
    },
    "tags": []
   },
   "source": [
    "# Introduction\n",
    "\n",
    "This is a perfect competition for data science students who have completed a course in machine learning and are looking to expand their skill set before trying a featured competition. \n",
    "\n",
    "**Competition Description**\n",
    "\n",
    "Ask a home buyer to describe their dream house, and they probably won't begin with the height of the basement ceiling or the proximity to an east-west railroad. But this playground competition's dataset proves that much more influences price negotiations than the number of bedrooms or a white-picket fence. With 79 explanatory variables describing (almost) every aspect of residential homes in Ames, Iowa, this competition challenges you to predict the final price of each home.\n",
    "\n",
    "The dataset is in csv format and has a predictor variable called SalePrice. The SalePrice is determined by a number of X features contained in the dataset. In this version of prediciting the home prices we will preprocess but categorical and numerical variables in the training set data using pipeline ML techniques and create a hyper optimization function to help us decide the best fit optimization parameters for our Random Forest Regressor Model. \n",
    "\n",
    "---"
   ]
  },
  {
   "cell_type": "markdown",
   "id": "1bf24d35",
   "metadata": {
    "papermill": {
     "duration": 0.004412,
     "end_time": "2022-12-31T16:04:49.138701",
     "exception": false,
     "start_time": "2022-12-31T16:04:49.134289",
     "status": "completed"
    },
    "tags": []
   },
   "source": [
    "### Importing Relevant Packages "
   ]
  },
  {
   "cell_type": "code",
   "execution_count": 1,
   "id": "026906c8",
   "metadata": {
    "execution": {
     "iopub.execute_input": "2022-12-31T16:04:49.150325Z",
     "iopub.status.busy": "2022-12-31T16:04:49.149753Z",
     "iopub.status.idle": "2022-12-31T16:04:50.485382Z",
     "shell.execute_reply": "2022-12-31T16:04:50.484326Z"
    },
    "papermill": {
     "duration": 1.344319,
     "end_time": "2022-12-31T16:04:50.487863",
     "exception": false,
     "start_time": "2022-12-31T16:04:49.143544",
     "status": "completed"
    },
    "tags": []
   },
   "outputs": [
    {
     "name": "stdout",
     "output_type": "stream",
     "text": [
      "/kaggle/input/sample_submission.csv\n",
      "/kaggle/input/sample_submission.csv.gz\n",
      "/kaggle/input/train.csv.gz\n",
      "/kaggle/input/data_description.txt\n",
      "/kaggle/input/test.csv.gz\n",
      "/kaggle/input/train.csv\n",
      "/kaggle/input/test.csv\n"
     ]
    }
   ],
   "source": [
    "# This Python 3 environment comes with many helpful analytics libraries installed\n",
    "# It is defined by the kaggle/python Docker image: https://github.com/kaggle/docker-python\n",
    "# For example, here's several helpful packages to load\n",
    "\n",
    "import numpy as np # linear algebra\n",
    "import pandas as pd # data processing, CSV file I/O (e.g. pd.read_csv)\n",
    "\n",
    "# Input data files are available in the read-only \"../input/\" directory\n",
    "# For example, running this (by clicking run or pressing Shift+Enter) will list all files under the input directory\n",
    "\n",
    "import os\n",
    "for dirname, _, filenames in os.walk('/kaggle/input'):\n",
    "    for filename in filenames:\n",
    "        print(os.path.join(dirname, filename))\n",
    "\n",
    "# You can write up to 20GB to the current directory (/kaggle/working/) that gets preserved as output when you create a version using \"Save & Run All\" \n",
    "# You can also write temporary files to /kaggle/temp/, but they won't be saved outside of the current session\n",
    "import pandas as pd\n",
    "import matplotlib.pyplot as plt\n",
    "from sklearn.model_selection import train_test_split\n",
    "from sklearn.compose import ColumnTransformer\n",
    "from sklearn.pipeline import Pipeline\n",
    "from sklearn.impute import SimpleImputer\n",
    "from sklearn.preprocessing import OneHotEncoder\n",
    "from sklearn.ensemble import RandomForestRegressor\n",
    "from sklearn.metrics import mean_absolute_error\n",
    "from sklearn.model_selection import cross_val_score"
   ]
  },
  {
   "cell_type": "markdown",
   "id": "cb5818b0",
   "metadata": {
    "papermill": {
     "duration": 0.004701,
     "end_time": "2022-12-31T16:04:50.498114",
     "exception": false,
     "start_time": "2022-12-31T16:04:50.493413",
     "status": "completed"
    },
    "tags": []
   },
   "source": [
    "## 1. Data handling and visualisation\n",
    "### (a) Use the ‘pandas’ library or the ‘numpy’ library to read the data set.\n",
    "\n",
    "---"
   ]
  },
  {
   "cell_type": "markdown",
   "id": "d3b73f20",
   "metadata": {
    "papermill": {
     "duration": 0.004574,
     "end_time": "2022-12-31T16:04:50.507553",
     "exception": false,
     "start_time": "2022-12-31T16:04:50.502979",
     "status": "completed"
    },
    "tags": []
   },
   "source": [
    "The read csv() function in pandas lets you get data from a.csv file and put it into a DataFrame. pandas works right out of the box with many different file formats or data sources, such as csv, excel, sql, json, parquet, etc., and each of these has a prefix that starts with read_.\n",
    "\n",
    "Make sure to check the data every time after you read it in. By default, when a DataFrame is shown, only the first and last 5 rows are shown: However, we can check only the first 5 rows using pandas head(). method."
   ]
  },
  {
   "cell_type": "code",
   "execution_count": 2,
   "id": "d69a43a3",
   "metadata": {
    "execution": {
     "iopub.execute_input": "2022-12-31T16:04:50.519720Z",
     "iopub.status.busy": "2022-12-31T16:04:50.518483Z",
     "iopub.status.idle": "2022-12-31T16:04:50.630057Z",
     "shell.execute_reply": "2022-12-31T16:04:50.629108Z"
    },
    "papermill": {
     "duration": 0.120045,
     "end_time": "2022-12-31T16:04:50.632521",
     "exception": false,
     "start_time": "2022-12-31T16:04:50.512476",
     "status": "completed"
    },
    "tags": []
   },
   "outputs": [
    {
     "data": {
      "text/html": [
       "<div>\n",
       "<style scoped>\n",
       "    .dataframe tbody tr th:only-of-type {\n",
       "        vertical-align: middle;\n",
       "    }\n",
       "\n",
       "    .dataframe tbody tr th {\n",
       "        vertical-align: top;\n",
       "    }\n",
       "\n",
       "    .dataframe thead th {\n",
       "        text-align: right;\n",
       "    }\n",
       "</style>\n",
       "<table border=\"1\" class=\"dataframe\">\n",
       "  <thead>\n",
       "    <tr style=\"text-align: right;\">\n",
       "      <th></th>\n",
       "      <th>MSSubClass</th>\n",
       "      <th>MSZoning</th>\n",
       "      <th>LotFrontage</th>\n",
       "      <th>LotArea</th>\n",
       "      <th>Street</th>\n",
       "      <th>Alley</th>\n",
       "      <th>LotShape</th>\n",
       "      <th>LandContour</th>\n",
       "      <th>Utilities</th>\n",
       "      <th>LotConfig</th>\n",
       "      <th>...</th>\n",
       "      <th>ScreenPorch</th>\n",
       "      <th>PoolArea</th>\n",
       "      <th>PoolQC</th>\n",
       "      <th>Fence</th>\n",
       "      <th>MiscFeature</th>\n",
       "      <th>MiscVal</th>\n",
       "      <th>MoSold</th>\n",
       "      <th>YrSold</th>\n",
       "      <th>SaleType</th>\n",
       "      <th>SaleCondition</th>\n",
       "    </tr>\n",
       "    <tr>\n",
       "      <th>Id</th>\n",
       "      <th></th>\n",
       "      <th></th>\n",
       "      <th></th>\n",
       "      <th></th>\n",
       "      <th></th>\n",
       "      <th></th>\n",
       "      <th></th>\n",
       "      <th></th>\n",
       "      <th></th>\n",
       "      <th></th>\n",
       "      <th></th>\n",
       "      <th></th>\n",
       "      <th></th>\n",
       "      <th></th>\n",
       "      <th></th>\n",
       "      <th></th>\n",
       "      <th></th>\n",
       "      <th></th>\n",
       "      <th></th>\n",
       "      <th></th>\n",
       "      <th></th>\n",
       "    </tr>\n",
       "  </thead>\n",
       "  <tbody>\n",
       "    <tr>\n",
       "      <th>1</th>\n",
       "      <td>60</td>\n",
       "      <td>RL</td>\n",
       "      <td>65.0</td>\n",
       "      <td>8450</td>\n",
       "      <td>Pave</td>\n",
       "      <td>NaN</td>\n",
       "      <td>Reg</td>\n",
       "      <td>Lvl</td>\n",
       "      <td>AllPub</td>\n",
       "      <td>Inside</td>\n",
       "      <td>...</td>\n",
       "      <td>0</td>\n",
       "      <td>0</td>\n",
       "      <td>NaN</td>\n",
       "      <td>NaN</td>\n",
       "      <td>NaN</td>\n",
       "      <td>0</td>\n",
       "      <td>2</td>\n",
       "      <td>2008</td>\n",
       "      <td>WD</td>\n",
       "      <td>Normal</td>\n",
       "    </tr>\n",
       "    <tr>\n",
       "      <th>2</th>\n",
       "      <td>20</td>\n",
       "      <td>RL</td>\n",
       "      <td>80.0</td>\n",
       "      <td>9600</td>\n",
       "      <td>Pave</td>\n",
       "      <td>NaN</td>\n",
       "      <td>Reg</td>\n",
       "      <td>Lvl</td>\n",
       "      <td>AllPub</td>\n",
       "      <td>FR2</td>\n",
       "      <td>...</td>\n",
       "      <td>0</td>\n",
       "      <td>0</td>\n",
       "      <td>NaN</td>\n",
       "      <td>NaN</td>\n",
       "      <td>NaN</td>\n",
       "      <td>0</td>\n",
       "      <td>5</td>\n",
       "      <td>2007</td>\n",
       "      <td>WD</td>\n",
       "      <td>Normal</td>\n",
       "    </tr>\n",
       "    <tr>\n",
       "      <th>3</th>\n",
       "      <td>60</td>\n",
       "      <td>RL</td>\n",
       "      <td>68.0</td>\n",
       "      <td>11250</td>\n",
       "      <td>Pave</td>\n",
       "      <td>NaN</td>\n",
       "      <td>IR1</td>\n",
       "      <td>Lvl</td>\n",
       "      <td>AllPub</td>\n",
       "      <td>Inside</td>\n",
       "      <td>...</td>\n",
       "      <td>0</td>\n",
       "      <td>0</td>\n",
       "      <td>NaN</td>\n",
       "      <td>NaN</td>\n",
       "      <td>NaN</td>\n",
       "      <td>0</td>\n",
       "      <td>9</td>\n",
       "      <td>2008</td>\n",
       "      <td>WD</td>\n",
       "      <td>Normal</td>\n",
       "    </tr>\n",
       "    <tr>\n",
       "      <th>4</th>\n",
       "      <td>70</td>\n",
       "      <td>RL</td>\n",
       "      <td>60.0</td>\n",
       "      <td>9550</td>\n",
       "      <td>Pave</td>\n",
       "      <td>NaN</td>\n",
       "      <td>IR1</td>\n",
       "      <td>Lvl</td>\n",
       "      <td>AllPub</td>\n",
       "      <td>Corner</td>\n",
       "      <td>...</td>\n",
       "      <td>0</td>\n",
       "      <td>0</td>\n",
       "      <td>NaN</td>\n",
       "      <td>NaN</td>\n",
       "      <td>NaN</td>\n",
       "      <td>0</td>\n",
       "      <td>2</td>\n",
       "      <td>2006</td>\n",
       "      <td>WD</td>\n",
       "      <td>Abnorml</td>\n",
       "    </tr>\n",
       "    <tr>\n",
       "      <th>5</th>\n",
       "      <td>60</td>\n",
       "      <td>RL</td>\n",
       "      <td>84.0</td>\n",
       "      <td>14260</td>\n",
       "      <td>Pave</td>\n",
       "      <td>NaN</td>\n",
       "      <td>IR1</td>\n",
       "      <td>Lvl</td>\n",
       "      <td>AllPub</td>\n",
       "      <td>FR2</td>\n",
       "      <td>...</td>\n",
       "      <td>0</td>\n",
       "      <td>0</td>\n",
       "      <td>NaN</td>\n",
       "      <td>NaN</td>\n",
       "      <td>NaN</td>\n",
       "      <td>0</td>\n",
       "      <td>12</td>\n",
       "      <td>2008</td>\n",
       "      <td>WD</td>\n",
       "      <td>Normal</td>\n",
       "    </tr>\n",
       "  </tbody>\n",
       "</table>\n",
       "<p>5 rows × 79 columns</p>\n",
       "</div>"
      ],
      "text/plain": [
       "    MSSubClass MSZoning  LotFrontage  LotArea Street Alley LotShape  \\\n",
       "Id                                                                    \n",
       "1           60       RL         65.0     8450   Pave   NaN      Reg   \n",
       "2           20       RL         80.0     9600   Pave   NaN      Reg   \n",
       "3           60       RL         68.0    11250   Pave   NaN      IR1   \n",
       "4           70       RL         60.0     9550   Pave   NaN      IR1   \n",
       "5           60       RL         84.0    14260   Pave   NaN      IR1   \n",
       "\n",
       "   LandContour Utilities LotConfig  ... ScreenPorch PoolArea PoolQC Fence  \\\n",
       "Id                                  ...                                     \n",
       "1          Lvl    AllPub    Inside  ...           0        0    NaN   NaN   \n",
       "2          Lvl    AllPub       FR2  ...           0        0    NaN   NaN   \n",
       "3          Lvl    AllPub    Inside  ...           0        0    NaN   NaN   \n",
       "4          Lvl    AllPub    Corner  ...           0        0    NaN   NaN   \n",
       "5          Lvl    AllPub       FR2  ...           0        0    NaN   NaN   \n",
       "\n",
       "   MiscFeature MiscVal  MoSold  YrSold  SaleType  SaleCondition  \n",
       "Id                                                               \n",
       "1          NaN       0       2    2008        WD         Normal  \n",
       "2          NaN       0       5    2007        WD         Normal  \n",
       "3          NaN       0       9    2008        WD         Normal  \n",
       "4          NaN       0       2    2006        WD        Abnorml  \n",
       "5          NaN       0      12    2008        WD         Normal  \n",
       "\n",
       "[5 rows x 79 columns]"
      ]
     },
     "execution_count": 2,
     "metadata": {},
     "output_type": "execute_result"
    }
   ],
   "source": [
    "# Read the data\n",
    "train_full_data = pd.read_csv(\"../input/train.csv\", index_col='Id')\n",
    "\n",
    "#Read Test data\n",
    "X_test_full = pd.read_csv(\"../input/test.csv\", index_col='Id')\n",
    "\n",
    "# Separate target from predictors\n",
    "train_full_data.dropna(axis=0, subset=['SalePrice'], inplace=True)\n",
    "y = train_full_data[\"SalePrice\"]\n",
    "X = train_full_data.drop([\"SalePrice\"], axis=1)\n",
    "\n",
    "X.head()"
   ]
  },
  {
   "cell_type": "markdown",
   "id": "417c5ecf",
   "metadata": {
    "papermill": {
     "duration": 0.005001,
     "end_time": "2022-12-31T16:04:50.642924",
     "exception": false,
     "start_time": "2022-12-31T16:04:50.637923",
     "status": "completed"
    },
    "tags": []
   },
   "source": [
    "Print first 5 rows of Dependant variable y"
   ]
  },
  {
   "cell_type": "code",
   "execution_count": 3,
   "id": "4700dfc5",
   "metadata": {
    "execution": {
     "iopub.execute_input": "2022-12-31T16:04:50.654698Z",
     "iopub.status.busy": "2022-12-31T16:04:50.654318Z",
     "iopub.status.idle": "2022-12-31T16:04:50.661317Z",
     "shell.execute_reply": "2022-12-31T16:04:50.660440Z"
    },
    "papermill": {
     "duration": 0.014962,
     "end_time": "2022-12-31T16:04:50.663026",
     "exception": false,
     "start_time": "2022-12-31T16:04:50.648064",
     "status": "completed"
    },
    "tags": []
   },
   "outputs": [
    {
     "data": {
      "text/plain": [
       "Id\n",
       "1    208500\n",
       "2    181500\n",
       "3    223500\n",
       "4    140000\n",
       "5    250000\n",
       "Name: SalePrice, dtype: int64"
      ]
     },
     "execution_count": 3,
     "metadata": {},
     "output_type": "execute_result"
    }
   ],
   "source": [
    "y.head()"
   ]
  },
  {
   "cell_type": "markdown",
   "id": "de66fe71",
   "metadata": {
    "papermill": {
     "duration": 0.00465,
     "end_time": "2022-12-31T16:04:50.673740",
     "exception": false,
     "start_time": "2022-12-31T16:04:50.669090",
     "status": "completed"
    },
    "tags": []
   },
   "source": [
    "### (b) Subsequently, split the data set into training and validation sets\n",
    "\n",
    "___"
   ]
  },
  {
   "cell_type": "markdown",
   "id": "f3dc5e3b",
   "metadata": {
    "papermill": {
     "duration": 0.004663,
     "end_time": "2022-12-31T16:04:50.683175",
     "exception": false,
     "start_time": "2022-12-31T16:04:50.678512",
     "status": "completed"
    },
    "tags": []
   },
   "source": [
    "Here we Split the Dataset into training and Validation sets using sklearn train test split class. \n",
    "\n",
    "X: This array contains all the Feature X colunns of the data set except the Predictor column known as (SalePrice).\n",
    "\n",
    "y : This array contains only the predictor column.\n",
    "\n",
    "We will also check the cardinality of X features and assign those features with cardinals less than 26 to X_Train and X_Valid. For easier processing we will assign all numerical columns in the dataset to a new variable."
   ]
  },
  {
   "cell_type": "code",
   "execution_count": 4,
   "id": "20832751",
   "metadata": {
    "execution": {
     "iopub.execute_input": "2022-12-31T16:04:50.694967Z",
     "iopub.status.busy": "2022-12-31T16:04:50.694361Z",
     "iopub.status.idle": "2022-12-31T16:04:50.736840Z",
     "shell.execute_reply": "2022-12-31T16:04:50.735965Z"
    },
    "papermill": {
     "duration": 0.050684,
     "end_time": "2022-12-31T16:04:50.738717",
     "exception": false,
     "start_time": "2022-12-31T16:04:50.688033",
     "status": "completed"
    },
    "tags": []
   },
   "outputs": [
    {
     "data": {
      "text/html": [
       "<div>\n",
       "<style scoped>\n",
       "    .dataframe tbody tr th:only-of-type {\n",
       "        vertical-align: middle;\n",
       "    }\n",
       "\n",
       "    .dataframe tbody tr th {\n",
       "        vertical-align: top;\n",
       "    }\n",
       "\n",
       "    .dataframe thead th {\n",
       "        text-align: right;\n",
       "    }\n",
       "</style>\n",
       "<table border=\"1\" class=\"dataframe\">\n",
       "  <thead>\n",
       "    <tr style=\"text-align: right;\">\n",
       "      <th></th>\n",
       "      <th>MSZoning</th>\n",
       "      <th>Street</th>\n",
       "      <th>Alley</th>\n",
       "      <th>LotShape</th>\n",
       "      <th>LandContour</th>\n",
       "      <th>Utilities</th>\n",
       "      <th>LotConfig</th>\n",
       "      <th>LandSlope</th>\n",
       "      <th>Neighborhood</th>\n",
       "      <th>Condition1</th>\n",
       "      <th>...</th>\n",
       "      <th>GarageArea</th>\n",
       "      <th>WoodDeckSF</th>\n",
       "      <th>OpenPorchSF</th>\n",
       "      <th>EnclosedPorch</th>\n",
       "      <th>3SsnPorch</th>\n",
       "      <th>ScreenPorch</th>\n",
       "      <th>PoolArea</th>\n",
       "      <th>MiscVal</th>\n",
       "      <th>MoSold</th>\n",
       "      <th>YrSold</th>\n",
       "    </tr>\n",
       "    <tr>\n",
       "      <th>Id</th>\n",
       "      <th></th>\n",
       "      <th></th>\n",
       "      <th></th>\n",
       "      <th></th>\n",
       "      <th></th>\n",
       "      <th></th>\n",
       "      <th></th>\n",
       "      <th></th>\n",
       "      <th></th>\n",
       "      <th></th>\n",
       "      <th></th>\n",
       "      <th></th>\n",
       "      <th></th>\n",
       "      <th></th>\n",
       "      <th></th>\n",
       "      <th></th>\n",
       "      <th></th>\n",
       "      <th></th>\n",
       "      <th></th>\n",
       "      <th></th>\n",
       "      <th></th>\n",
       "    </tr>\n",
       "  </thead>\n",
       "  <tbody>\n",
       "    <tr>\n",
       "      <th>619</th>\n",
       "      <td>RL</td>\n",
       "      <td>Pave</td>\n",
       "      <td>NaN</td>\n",
       "      <td>Reg</td>\n",
       "      <td>Lvl</td>\n",
       "      <td>AllPub</td>\n",
       "      <td>Inside</td>\n",
       "      <td>Gtl</td>\n",
       "      <td>NridgHt</td>\n",
       "      <td>Norm</td>\n",
       "      <td>...</td>\n",
       "      <td>774</td>\n",
       "      <td>0</td>\n",
       "      <td>108</td>\n",
       "      <td>0</td>\n",
       "      <td>0</td>\n",
       "      <td>260</td>\n",
       "      <td>0</td>\n",
       "      <td>0</td>\n",
       "      <td>7</td>\n",
       "      <td>2007</td>\n",
       "    </tr>\n",
       "    <tr>\n",
       "      <th>871</th>\n",
       "      <td>RL</td>\n",
       "      <td>Pave</td>\n",
       "      <td>NaN</td>\n",
       "      <td>Reg</td>\n",
       "      <td>Lvl</td>\n",
       "      <td>AllPub</td>\n",
       "      <td>Inside</td>\n",
       "      <td>Gtl</td>\n",
       "      <td>NAmes</td>\n",
       "      <td>PosN</td>\n",
       "      <td>...</td>\n",
       "      <td>308</td>\n",
       "      <td>0</td>\n",
       "      <td>0</td>\n",
       "      <td>0</td>\n",
       "      <td>0</td>\n",
       "      <td>0</td>\n",
       "      <td>0</td>\n",
       "      <td>0</td>\n",
       "      <td>8</td>\n",
       "      <td>2009</td>\n",
       "    </tr>\n",
       "    <tr>\n",
       "      <th>93</th>\n",
       "      <td>RL</td>\n",
       "      <td>Pave</td>\n",
       "      <td>Grvl</td>\n",
       "      <td>IR1</td>\n",
       "      <td>HLS</td>\n",
       "      <td>AllPub</td>\n",
       "      <td>Inside</td>\n",
       "      <td>Gtl</td>\n",
       "      <td>Crawfor</td>\n",
       "      <td>Norm</td>\n",
       "      <td>...</td>\n",
       "      <td>432</td>\n",
       "      <td>0</td>\n",
       "      <td>0</td>\n",
       "      <td>44</td>\n",
       "      <td>0</td>\n",
       "      <td>0</td>\n",
       "      <td>0</td>\n",
       "      <td>0</td>\n",
       "      <td>8</td>\n",
       "      <td>2009</td>\n",
       "    </tr>\n",
       "    <tr>\n",
       "      <th>818</th>\n",
       "      <td>RL</td>\n",
       "      <td>Pave</td>\n",
       "      <td>NaN</td>\n",
       "      <td>IR1</td>\n",
       "      <td>Lvl</td>\n",
       "      <td>AllPub</td>\n",
       "      <td>CulDSac</td>\n",
       "      <td>Gtl</td>\n",
       "      <td>Mitchel</td>\n",
       "      <td>Norm</td>\n",
       "      <td>...</td>\n",
       "      <td>857</td>\n",
       "      <td>150</td>\n",
       "      <td>59</td>\n",
       "      <td>0</td>\n",
       "      <td>0</td>\n",
       "      <td>0</td>\n",
       "      <td>0</td>\n",
       "      <td>0</td>\n",
       "      <td>7</td>\n",
       "      <td>2008</td>\n",
       "    </tr>\n",
       "    <tr>\n",
       "      <th>303</th>\n",
       "      <td>RL</td>\n",
       "      <td>Pave</td>\n",
       "      <td>NaN</td>\n",
       "      <td>IR1</td>\n",
       "      <td>Lvl</td>\n",
       "      <td>AllPub</td>\n",
       "      <td>Corner</td>\n",
       "      <td>Gtl</td>\n",
       "      <td>CollgCr</td>\n",
       "      <td>Norm</td>\n",
       "      <td>...</td>\n",
       "      <td>843</td>\n",
       "      <td>468</td>\n",
       "      <td>81</td>\n",
       "      <td>0</td>\n",
       "      <td>0</td>\n",
       "      <td>0</td>\n",
       "      <td>0</td>\n",
       "      <td>0</td>\n",
       "      <td>1</td>\n",
       "      <td>2006</td>\n",
       "    </tr>\n",
       "  </tbody>\n",
       "</table>\n",
       "<p>5 rows × 79 columns</p>\n",
       "</div>"
      ],
      "text/plain": [
       "    MSZoning Street Alley LotShape LandContour Utilities LotConfig LandSlope  \\\n",
       "Id                                                                             \n",
       "619       RL   Pave   NaN      Reg         Lvl    AllPub    Inside       Gtl   \n",
       "871       RL   Pave   NaN      Reg         Lvl    AllPub    Inside       Gtl   \n",
       "93        RL   Pave  Grvl      IR1         HLS    AllPub    Inside       Gtl   \n",
       "818       RL   Pave   NaN      IR1         Lvl    AllPub   CulDSac       Gtl   \n",
       "303       RL   Pave   NaN      IR1         Lvl    AllPub    Corner       Gtl   \n",
       "\n",
       "    Neighborhood Condition1  ... GarageArea WoodDeckSF OpenPorchSF  \\\n",
       "Id                           ...                                     \n",
       "619      NridgHt       Norm  ...        774          0         108   \n",
       "871        NAmes       PosN  ...        308          0           0   \n",
       "93       Crawfor       Norm  ...        432          0           0   \n",
       "818      Mitchel       Norm  ...        857        150          59   \n",
       "303      CollgCr       Norm  ...        843        468          81   \n",
       "\n",
       "    EnclosedPorch 3SsnPorch ScreenPorch PoolArea MiscVal MoSold YrSold  \n",
       "Id                                                                      \n",
       "619             0         0         260        0       0      7   2007  \n",
       "871             0         0           0        0       0      8   2009  \n",
       "93             44         0           0        0       0      8   2009  \n",
       "818             0         0           0        0       0      7   2008  \n",
       "303             0         0           0        0       0      1   2006  \n",
       "\n",
       "[5 rows x 79 columns]"
      ]
     },
     "execution_count": 4,
     "metadata": {},
     "output_type": "execute_result"
    }
   ],
   "source": [
    "# Divide data into training and validation subsets\n",
    "X_train_full, X_valid_full, y_train, y_valid = train_test_split(X, y, train_size=0.8, test_size=0.2,\n",
    "                                                                random_state=0)\n",
    "\n",
    "# \"Cardinality\" means the number of unique values in a column\n",
    "# Select categorical columns with relatively low cardinality (convenient but arbitrary)\n",
    "categorical_cols = [cname for cname in X_train_full.columns if X_train_full[cname].nunique() < 26 and \n",
    "                        X_train_full[cname].dtype == \"object\"]\n",
    "\n",
    "# Select numerical columns\n",
    "numerical_cols = [cname for cname in X_train_full.columns if X_train_full[cname].dtype in ['int64', 'float64']]\n",
    "\n",
    "# Keep selected columns only\n",
    "my_cols = categorical_cols + numerical_cols\n",
    "X_train = X_train_full[my_cols].copy()\n",
    "X_valid = X_valid_full[my_cols].copy()\n",
    "X_train.head()\n"
   ]
  },
  {
   "cell_type": "markdown",
   "id": "764c7f41",
   "metadata": {
    "papermill": {
     "duration": 0.005358,
     "end_time": "2022-12-31T16:04:50.749881",
     "exception": false,
     "start_time": "2022-12-31T16:04:50.744523",
     "status": "completed"
    },
    "tags": []
   },
   "source": [
    "## 2. Preprocessing using Pipelines and Simple Imputer\n",
    "### (a) Use the ‘sklearn.impute’ library to handle missing values \n",
    "\n",
    "---"
   ]
  },
  {
   "cell_type": "markdown",
   "id": "485c0bce",
   "metadata": {
    "papermill": {
     "duration": 0.005416,
     "end_time": "2022-12-31T16:04:50.761046",
     "exception": false,
     "start_time": "2022-12-31T16:04:50.755630",
     "status": "completed"
    },
    "tags": []
   },
   "source": [
    "For instance, the pipeline below will use SimpleImputer() to replace missing values in the data, before using RandomForestRegressor() to train a random forest model to make predictions. We set the number of trees in the random forest model with the n_estimators parameter, and setting random_state ensures reproducibility. \n",
    "\n",
    "Begin by writing a function get_score() that reports the average (over three cross-validation folds) MAE of a machine learning pipeline that uses:\n",
    "\n",
    "the data in X and y to create folds,\n",
    "SimpleImputer() (with all parameters left as default) to replace missing values, and\n",
    "RandomForestRegressor() (with random_state=0) to fit a random forest model.\n",
    "The n_estimators parameter supplied to get_score() is used when setting the number of trees in the random forest model."
   ]
  },
  {
   "cell_type": "code",
   "execution_count": 5,
   "id": "e26092be",
   "metadata": {
    "execution": {
     "iopub.execute_input": "2022-12-31T16:04:50.773912Z",
     "iopub.status.busy": "2022-12-31T16:04:50.773554Z",
     "iopub.status.idle": "2022-12-31T16:04:50.779941Z",
     "shell.execute_reply": "2022-12-31T16:04:50.779058Z"
    },
    "papermill": {
     "duration": 0.015136,
     "end_time": "2022-12-31T16:04:50.781808",
     "exception": false,
     "start_time": "2022-12-31T16:04:50.766672",
     "status": "completed"
    },
    "tags": []
   },
   "outputs": [],
   "source": [
    "def get_score(n_estimators):\n",
    "    \n",
    "        # Preprocessing for numerical data\n",
    "    numerical_transformer = SimpleImputer(strategy='constant')\n",
    "\n",
    "    # Preprocessing for categorical data\n",
    "    categorical_transformer = Pipeline(steps=[\n",
    "        ('imputer', SimpleImputer(strategy='most_frequent')),\n",
    "        ('onehot', OneHotEncoder(handle_unknown='ignore'))\n",
    "    ])\n",
    "\n",
    "    # Bundle preprocessing for numerical and categorical data\n",
    "    preprocessor = ColumnTransformer(\n",
    "        transformers=[\n",
    "            ('num', numerical_transformer, numerical_cols),\n",
    "            ('cat', categorical_transformer, categorical_cols)\n",
    "        ])\n",
    "    \n",
    "    my_pipeline = Pipeline(steps=[('preprocessor', preprocessor),\n",
    "                              ('model', RandomForestRegressor(n_estimators, random_state=1))\n",
    "                             ])\n",
    "    scores = -1 * cross_val_score(my_pipeline, X, y,\n",
    "                                  cv=4,\n",
    "                                  scoring='neg_mean_absolute_error')\n",
    "    return scores.mean()"
   ]
  },
  {
   "cell_type": "markdown",
   "id": "f14626dc",
   "metadata": {
    "papermill": {
     "duration": 0.005295,
     "end_time": "2022-12-31T16:04:50.792772",
     "exception": false,
     "start_time": "2022-12-31T16:04:50.787477",
     "status": "completed"
    },
    "tags": []
   },
   "source": [
    "### 2(b) Test different parameter values\n",
    "\n",
    "Now, we will use the function that was defined in Step 1 to evaluate the model performance corresponding to eight different values for the number of trees in the random forest: 50, 100, 150, ..., 300, 350, 400.\n",
    "\n",
    "Store your results in a Python dictionary results, where results[i] is the average MAE returned by get_score(i).\n",
    "\n",
    "This is done to enable visualize and select the best parameters for building our RandForestRegressor Model\n",
    "___"
   ]
  },
  {
   "cell_type": "code",
   "execution_count": 6,
   "id": "2311d268",
   "metadata": {
    "execution": {
     "iopub.execute_input": "2022-12-31T16:04:50.806053Z",
     "iopub.status.busy": "2022-12-31T16:04:50.805368Z",
     "iopub.status.idle": "2022-12-31T16:04:50.809384Z",
     "shell.execute_reply": "2022-12-31T16:04:50.808695Z"
    },
    "papermill": {
     "duration": 0.012768,
     "end_time": "2022-12-31T16:04:50.811169",
     "exception": false,
     "start_time": "2022-12-31T16:04:50.798401",
     "status": "completed"
    },
    "tags": []
   },
   "outputs": [],
   "source": [
    "#  results = {}\n",
    "#  for i in range(1,17):\n",
    "#      results[50*i] = get_score(50*i)"
   ]
  },
  {
   "cell_type": "markdown",
   "id": "0a3c6229",
   "metadata": {
    "papermill": {
     "duration": 0.005291,
     "end_time": "2022-12-31T16:04:50.822127",
     "exception": false,
     "start_time": "2022-12-31T16:04:50.816836",
     "status": "completed"
    },
    "tags": []
   },
   "source": [
    "Use the next cell to visualize your results from Step 2.\n"
   ]
  },
  {
   "cell_type": "code",
   "execution_count": 7,
   "id": "07cfef51",
   "metadata": {
    "execution": {
     "iopub.execute_input": "2022-12-31T16:04:50.835728Z",
     "iopub.status.busy": "2022-12-31T16:04:50.834608Z",
     "iopub.status.idle": "2022-12-31T16:04:50.839439Z",
     "shell.execute_reply": "2022-12-31T16:04:50.838754Z"
    },
    "papermill": {
     "duration": 0.013628,
     "end_time": "2022-12-31T16:04:50.841360",
     "exception": false,
     "start_time": "2022-12-31T16:04:50.827732",
     "status": "completed"
    },
    "tags": []
   },
   "outputs": [],
   "source": [
    "# %matplotlib inline\n",
    "# plt.title('Plot of different parameter values')\n",
    "# plt.plot(list(results.keys()), list(results.values()))\n",
    "# plt.xlabel(\"N Estimators\")\n",
    "# plt.ylabel(\"Mean Absolute Error\")\n",
    "# plt.figure(figsize=(7,7))\n",
    "# plt.show()"
   ]
  },
  {
   "cell_type": "markdown",
   "id": "0207a703",
   "metadata": {
    "papermill": {
     "duration": 0.005572,
     "end_time": "2022-12-31T16:04:50.852776",
     "exception": false,
     "start_time": "2022-12-31T16:04:50.847204",
     "status": "completed"
    },
    "tags": []
   },
   "source": [
    "We can see that n_estimators from 700 above performs better with the model so we set our n_estimators to our best fit mean absolute error for our model and predict our validation dataset"
   ]
  },
  {
   "cell_type": "code",
   "execution_count": 8,
   "id": "3fac71ef",
   "metadata": {
    "execution": {
     "iopub.execute_input": "2022-12-31T16:04:50.866165Z",
     "iopub.status.busy": "2022-12-31T16:04:50.865060Z",
     "iopub.status.idle": "2022-12-31T16:05:41.786540Z",
     "shell.execute_reply": "2022-12-31T16:05:41.785158Z"
    },
    "papermill": {
     "duration": 50.934855,
     "end_time": "2022-12-31T16:05:41.793177",
     "exception": false,
     "start_time": "2022-12-31T16:04:50.858322",
     "status": "completed"
    },
    "tags": []
   },
   "outputs": [
    {
     "name": "stdout",
     "output_type": "stream",
     "text": [
      "MAE: 17342.208578767124\n"
     ]
    }
   ],
   "source": [
    "# Preprocessing for numerical data\n",
    "numerical_transformer = SimpleImputer(strategy='constant')\n",
    "\n",
    "# Preprocessing for categorical data\n",
    "categorical_transformer = Pipeline(steps=[\n",
    "    ('imputer', SimpleImputer(strategy='most_frequent')),\n",
    "    ('onehot', OneHotEncoder(handle_unknown='ignore'))\n",
    "])\n",
    "\n",
    "# Bundle preprocessing for numerical and categorical data\n",
    "preprocessor = ColumnTransformer(\n",
    "    transformers=[\n",
    "        ('num', numerical_transformer, numerical_cols),\n",
    "        ('cat', categorical_transformer, categorical_cols)\n",
    "    ])\n",
    "\n",
    "\n",
    "\n",
    "model = RandomForestRegressor(n_estimators=800, random_state=1)\n",
    "\n",
    "\n",
    "# Bundle preprocessing and modeling code in a pipeline\n",
    "my_pipeline = Pipeline(steps=[('preprocessor', preprocessor),\n",
    "                              ('model', model)\n",
    "                             ])\n",
    "\n",
    "# Preprocessing of training data, fit model \n",
    "my_pipeline.fit(X_train, y_train)\n",
    "\n",
    "# Preprocessing of validation data, get predictions\n",
    "preds = my_pipeline.predict(X_valid)\n",
    "\n",
    "# Evaluate the model\n",
    "score = mean_absolute_error(y_valid, preds)\n",
    "print('MAE:', score)\n"
   ]
  },
  {
   "cell_type": "markdown",
   "id": "945c49ff",
   "metadata": {
    "papermill": {
     "duration": 0.00541,
     "end_time": "2022-12-31T16:05:41.804176",
     "exception": false,
     "start_time": "2022-12-31T16:05:41.798766",
     "status": "completed"
    },
    "tags": []
   },
   "source": [
    "### 3(a) Predicting Test Results for the competition \n",
    "\n",
    "Here we predict test results for the competition and submit our predicitions.\n",
    "\n",
    "___\n"
   ]
  },
  {
   "cell_type": "code",
   "execution_count": 9,
   "id": "6984cc6c",
   "metadata": {
    "execution": {
     "iopub.execute_input": "2022-12-31T16:05:41.817173Z",
     "iopub.status.busy": "2022-12-31T16:05:41.816792Z",
     "iopub.status.idle": "2022-12-31T16:05:42.300475Z",
     "shell.execute_reply": "2022-12-31T16:05:42.299341Z"
    },
    "papermill": {
     "duration": 0.492718,
     "end_time": "2022-12-31T16:05:42.302525",
     "exception": false,
     "start_time": "2022-12-31T16:05:41.809807",
     "status": "completed"
    },
    "tags": []
   },
   "outputs": [
    {
     "data": {
      "text/plain": [
       "array([128097.8725 , 154711.48625, 184409.53   , ..., 151654.38125,\n",
       "       109218.7325 , 227193.63125])"
      ]
     },
     "execution_count": 9,
     "metadata": {},
     "output_type": "execute_result"
    }
   ],
   "source": [
    "pred_test = my_pipeline.predict(X_test_full)\n",
    "# pred_test = (np.rint(pred_test)).astype(int)\n",
    "pred_test"
   ]
  },
  {
   "cell_type": "code",
   "execution_count": 10,
   "id": "a556c0cc",
   "metadata": {
    "execution": {
     "iopub.execute_input": "2022-12-31T16:05:42.315726Z",
     "iopub.status.busy": "2022-12-31T16:05:42.315394Z",
     "iopub.status.idle": "2022-12-31T16:05:42.327040Z",
     "shell.execute_reply": "2022-12-31T16:05:42.325593Z"
    },
    "papermill": {
     "duration": 0.021105,
     "end_time": "2022-12-31T16:05:42.329522",
     "exception": false,
     "start_time": "2022-12-31T16:05:42.308417",
     "status": "completed"
    },
    "tags": []
   },
   "outputs": [
    {
     "name": "stdout",
     "output_type": "stream",
     "text": [
      "Your submission was successfully saved!\n"
     ]
    }
   ],
   "source": [
    "# Run the code to save predictions in the format used for competition scoring\n",
    "\n",
    "output = pd.DataFrame({'Id': X_test_full.index,\n",
    "                       'SalePrice': pred_test})\n",
    "output.to_csv('submission.csv', index=False)\n",
    "print(\"Your submission was successfully saved!\")\n",
    "\n"
   ]
  },
  {
   "cell_type": "code",
   "execution_count": null,
   "id": "090e49d5",
   "metadata": {
    "papermill": {
     "duration": 0.005373,
     "end_time": "2022-12-31T16:05:42.340850",
     "exception": false,
     "start_time": "2022-12-31T16:05:42.335477",
     "status": "completed"
    },
    "tags": []
   },
   "outputs": [],
   "source": []
  }
 ],
 "metadata": {
  "kernelspec": {
   "display_name": "Python 3",
   "language": "python",
   "name": "python3"
  },
  "language_info": {
   "codemirror_mode": {
    "name": "ipython",
    "version": 3
   },
   "file_extension": ".py",
   "mimetype": "text/x-python",
   "name": "python",
   "nbconvert_exporter": "python",
   "pygments_lexer": "ipython3",
   "version": "3.7.12"
  },
  "papermill": {
   "default_parameters": {},
   "duration": 63.014031,
   "end_time": "2022-12-31T16:05:43.067532",
   "environment_variables": {},
   "exception": null,
   "input_path": "__notebook__.ipynb",
   "output_path": "__notebook__.ipynb",
   "parameters": {},
   "start_time": "2022-12-31T16:04:40.053501",
   "version": "2.3.4"
  }
 },
 "nbformat": 4,
 "nbformat_minor": 5
}
