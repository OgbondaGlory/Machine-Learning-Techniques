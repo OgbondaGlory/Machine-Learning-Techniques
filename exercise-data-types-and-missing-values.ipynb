{
 "cells": [
  {
   "cell_type": "markdown",
   "id": "33069abf",
   "metadata": {
    "papermill": {
     "duration": 0.004361,
     "end_time": "2023-01-01T18:34:37.187846",
     "exception": false,
     "start_time": "2023-01-01T18:34:37.183485",
     "status": "completed"
    },
    "tags": []
   },
   "source": [
    "# Introduction\n",
    "\n",
    "Run the following cell to load your data and some utility functions."
   ]
  },
  {
   "cell_type": "code",
   "execution_count": 1,
   "id": "c6a22c5e",
   "metadata": {
    "execution": {
     "iopub.execute_input": "2023-01-01T18:34:37.196738Z",
     "iopub.status.busy": "2023-01-01T18:34:37.196307Z",
     "iopub.status.idle": "2023-01-01T18:34:39.553734Z",
     "shell.execute_reply": "2023-01-01T18:34:39.551841Z"
    },
    "papermill": {
     "duration": 2.364523,
     "end_time": "2023-01-01T18:34:39.555997",
     "exception": false,
     "start_time": "2023-01-01T18:34:37.191474",
     "status": "completed"
    },
    "tags": []
   },
   "outputs": [
    {
     "name": "stdout",
     "output_type": "stream",
     "text": [
      "Setup complete.\n"
     ]
    }
   ],
   "source": [
    "import pandas as pd\n",
    "\n",
    "reviews = pd.read_csv(\"../input/wine-reviews/winemag-data-130k-v2.csv\", index_col=0)\n",
    "\n",
    "from learntools.core import binder; binder.bind(globals())\n",
    "from learntools.pandas.data_types_and_missing_data import *\n",
    "print(\"Setup complete.\")"
   ]
  },
  {
   "cell_type": "markdown",
   "id": "cf065be8",
   "metadata": {
    "papermill": {
     "duration": 0.004004,
     "end_time": "2023-01-01T18:34:39.563854",
     "exception": false,
     "start_time": "2023-01-01T18:34:39.559850",
     "status": "completed"
    },
    "tags": []
   },
   "source": [
    "# Exercises"
   ]
  },
  {
   "cell_type": "markdown",
   "id": "a677f818",
   "metadata": {
    "papermill": {
     "duration": 0.003393,
     "end_time": "2023-01-01T18:34:39.571066",
     "exception": false,
     "start_time": "2023-01-01T18:34:39.567673",
     "status": "completed"
    },
    "tags": []
   },
   "source": [
    "## 1. \n",
    "What is the data type of the `points` column in the dataset?"
   ]
  },
  {
   "cell_type": "code",
   "execution_count": 2,
   "id": "e8d1c5b6",
   "metadata": {
    "execution": {
     "iopub.execute_input": "2023-01-01T18:34:39.580003Z",
     "iopub.status.busy": "2023-01-01T18:34:39.579378Z",
     "iopub.status.idle": "2023-01-01T18:34:39.591097Z",
     "shell.execute_reply": "2023-01-01T18:34:39.590253Z"
    },
    "papermill": {
     "duration": 0.020123,
     "end_time": "2023-01-01T18:34:39.594740",
     "exception": false,
     "start_time": "2023-01-01T18:34:39.574617",
     "status": "completed"
    },
    "tags": []
   },
   "outputs": [
    {
     "data": {
      "application/javascript": "parent.postMessage({\"jupyterEvent\": \"custom.exercise_interaction\", \"data\": {\"outcomeType\": 1, \"valueTowardsCompletion\": 0.25, \"interactionType\": 1, \"questionType\": 1, \"questionId\": \"1_PointsDtype\", \"learnToolsVersion\": \"0.3.4\", \"failureMessage\": \"\", \"exceptionClass\": \"\", \"trace\": \"\"}}, \"*\")",
      "text/plain": [
       "<IPython.core.display.Javascript object>"
      ]
     },
     "metadata": {},
     "output_type": "display_data"
    },
    {
     "data": {
      "text/markdown": [
       "<span style=\"color:#33cc33\">Correct</span>"
      ],
      "text/plain": [
       "Correct"
      ]
     },
     "metadata": {},
     "output_type": "display_data"
    },
    {
     "data": {
      "text/plain": [
       "dtype('int64')"
      ]
     },
     "execution_count": 2,
     "metadata": {},
     "output_type": "execute_result"
    }
   ],
   "source": [
    "# Your code here\n",
    "dtype = reviews.points.dtype\n",
    "\n",
    "# Check your answer\n",
    "q1.check()\n",
    "dtype"
   ]
  },
  {
   "cell_type": "code",
   "execution_count": 3,
   "id": "46c34407",
   "metadata": {
    "execution": {
     "iopub.execute_input": "2023-01-01T18:34:39.604201Z",
     "iopub.status.busy": "2023-01-01T18:34:39.603875Z",
     "iopub.status.idle": "2023-01-01T18:34:39.607369Z",
     "shell.execute_reply": "2023-01-01T18:34:39.606448Z"
    },
    "papermill": {
     "duration": 0.010362,
     "end_time": "2023-01-01T18:34:39.609137",
     "exception": false,
     "start_time": "2023-01-01T18:34:39.598775",
     "status": "completed"
    },
    "tags": []
   },
   "outputs": [],
   "source": [
    "#q1.hint()\n",
    "q1.solution()"
   ]
  },
  {
   "cell_type": "markdown",
   "id": "63c00b1e",
   "metadata": {
    "papermill": {
     "duration": 0.003776,
     "end_time": "2023-01-01T18:34:39.617034",
     "exception": false,
     "start_time": "2023-01-01T18:34:39.613258",
     "status": "completed"
    },
    "tags": []
   },
   "source": [
    "## 2. \n",
    "Create a Series from entries in the `points` column, but convert the entries to strings. Hint: strings are `str` in native Python."
   ]
  },
  {
   "cell_type": "code",
   "execution_count": 4,
   "id": "0aa04840",
   "metadata": {
    "execution": {
     "iopub.execute_input": "2023-01-01T18:34:39.627036Z",
     "iopub.status.busy": "2023-01-01T18:34:39.626015Z",
     "iopub.status.idle": "2023-01-01T18:34:39.695436Z",
     "shell.execute_reply": "2023-01-01T18:34:39.694386Z"
    },
    "papermill": {
     "duration": 0.076336,
     "end_time": "2023-01-01T18:34:39.697353",
     "exception": false,
     "start_time": "2023-01-01T18:34:39.621017",
     "status": "completed"
    },
    "tags": []
   },
   "outputs": [
    {
     "data": {
      "application/javascript": "parent.postMessage({\"jupyterEvent\": \"custom.exercise_interaction\", \"data\": {\"outcomeType\": 1, \"valueTowardsCompletion\": 0.25, \"interactionType\": 1, \"questionType\": 1, \"questionId\": \"2_StrPoints\", \"learnToolsVersion\": \"0.3.4\", \"failureMessage\": \"\", \"exceptionClass\": \"\", \"trace\": \"\"}}, \"*\")",
      "text/plain": [
       "<IPython.core.display.Javascript object>"
      ]
     },
     "metadata": {},
     "output_type": "display_data"
    },
    {
     "data": {
      "text/markdown": [
       "<span style=\"color:#33cc33\">Correct</span>"
      ],
      "text/plain": [
       "Correct"
      ]
     },
     "metadata": {},
     "output_type": "display_data"
    },
    {
     "data": {
      "text/plain": [
       "0         87\n",
       "1         87\n",
       "2         87\n",
       "3         87\n",
       "4         87\n",
       "          ..\n",
       "129966    90\n",
       "129967    90\n",
       "129968    90\n",
       "129969    90\n",
       "129970    90\n",
       "Name: points, Length: 129971, dtype: object"
      ]
     },
     "execution_count": 4,
     "metadata": {},
     "output_type": "execute_result"
    }
   ],
   "source": [
    "point_strings = reviews.points.astype(str)\n",
    "\n",
    "# Check your answer\n",
    "q2.check()\n",
    "point_strings"
   ]
  },
  {
   "cell_type": "code",
   "execution_count": 5,
   "id": "d77cbef8",
   "metadata": {
    "execution": {
     "iopub.execute_input": "2023-01-01T18:34:39.708168Z",
     "iopub.status.busy": "2023-01-01T18:34:39.707164Z",
     "iopub.status.idle": "2023-01-01T18:34:39.712049Z",
     "shell.execute_reply": "2023-01-01T18:34:39.711011Z"
    },
    "papermill": {
     "duration": 0.012305,
     "end_time": "2023-01-01T18:34:39.713925",
     "exception": false,
     "start_time": "2023-01-01T18:34:39.701620",
     "status": "completed"
    },
    "tags": []
   },
   "outputs": [],
   "source": [
    "#q2.hint()\n",
    "#q2.solution()"
   ]
  },
  {
   "cell_type": "markdown",
   "id": "dbeaa5f7",
   "metadata": {
    "papermill": {
     "duration": 0.00389,
     "end_time": "2023-01-01T18:34:39.722018",
     "exception": false,
     "start_time": "2023-01-01T18:34:39.718128",
     "status": "completed"
    },
    "tags": []
   },
   "source": [
    "## 3.\n",
    "Sometimes the price column is null. How many reviews in the dataset are missing a price?"
   ]
  },
  {
   "cell_type": "code",
   "execution_count": 6,
   "id": "87bf7e95",
   "metadata": {
    "execution": {
     "iopub.execute_input": "2023-01-01T18:34:39.731787Z",
     "iopub.status.busy": "2023-01-01T18:34:39.731410Z",
     "iopub.status.idle": "2023-01-01T18:34:39.744618Z",
     "shell.execute_reply": "2023-01-01T18:34:39.743032Z"
    },
    "papermill": {
     "duration": 0.020505,
     "end_time": "2023-01-01T18:34:39.746603",
     "exception": false,
     "start_time": "2023-01-01T18:34:39.726098",
     "status": "completed"
    },
    "tags": []
   },
   "outputs": [
    {
     "data": {
      "application/javascript": "parent.postMessage({\"jupyterEvent\": \"custom.exercise_interaction\", \"data\": {\"outcomeType\": 1, \"valueTowardsCompletion\": 0.25, \"interactionType\": 1, \"questionType\": 1, \"questionId\": \"3_CountMissingPrices\", \"learnToolsVersion\": \"0.3.4\", \"failureMessage\": \"\", \"exceptionClass\": \"\", \"trace\": \"\"}}, \"*\")",
      "text/plain": [
       "<IPython.core.display.Javascript object>"
      ]
     },
     "metadata": {},
     "output_type": "display_data"
    },
    {
     "data": {
      "text/markdown": [
       "<span style=\"color:#33cc33\">Correct</span>"
      ],
      "text/plain": [
       "Correct"
      ]
     },
     "metadata": {},
     "output_type": "display_data"
    },
    {
     "data": {
      "text/plain": [
       "8996"
      ]
     },
     "execution_count": 6,
     "metadata": {},
     "output_type": "execute_result"
    }
   ],
   "source": [
    "# missing_prices = reviews[reviews.price.isnull()]\n",
    "# n_missing_prices = len(missing_prices)\n",
    "n_missing_prices = reviews.price.isnull().sum()\n",
    "\n",
    "\n",
    "# Check your answer\n",
    "q3.check()\n",
    "\n",
    "n_missing_prices"
   ]
  },
  {
   "cell_type": "code",
   "execution_count": 7,
   "id": "72c5b104",
   "metadata": {
    "execution": {
     "iopub.execute_input": "2023-01-01T18:34:39.756966Z",
     "iopub.status.busy": "2023-01-01T18:34:39.756656Z",
     "iopub.status.idle": "2023-01-01T18:34:39.761196Z",
     "shell.execute_reply": "2023-01-01T18:34:39.759722Z"
    },
    "papermill": {
     "duration": 0.011696,
     "end_time": "2023-01-01T18:34:39.762926",
     "exception": false,
     "start_time": "2023-01-01T18:34:39.751230",
     "status": "completed"
    },
    "tags": []
   },
   "outputs": [],
   "source": [
    "#q3.hint()\n",
    "#q3.solution()"
   ]
  },
  {
   "cell_type": "markdown",
   "id": "d5fd879f",
   "metadata": {
    "papermill": {
     "duration": 0.004245,
     "end_time": "2023-01-01T18:34:39.771681",
     "exception": false,
     "start_time": "2023-01-01T18:34:39.767436",
     "status": "completed"
    },
    "tags": []
   },
   "source": [
    "## 4.\n",
    "What are the most common wine-producing regions? Create a Series counting the number of times each value occurs in the `region_1` field. This field is often missing data, so replace missing values with `Unknown`. Sort in descending order.  Your output should look something like this:\n",
    "\n",
    "```\n",
    "Unknown                    21247\n",
    "Napa Valley                 4480\n",
    "                           ...  \n",
    "Bardolino Superiore            1\n",
    "Primitivo del Tarantino        1\n",
    "Name: region_1, Length: 1230, dtype: int64\n",
    "```"
   ]
  },
  {
   "cell_type": "code",
   "execution_count": 8,
   "id": "73d419cb",
   "metadata": {
    "execution": {
     "iopub.execute_input": "2023-01-01T18:34:39.782070Z",
     "iopub.status.busy": "2023-01-01T18:34:39.781719Z",
     "iopub.status.idle": "2023-01-01T18:34:39.820731Z",
     "shell.execute_reply": "2023-01-01T18:34:39.819754Z"
    },
    "papermill": {
     "duration": 0.047053,
     "end_time": "2023-01-01T18:34:39.823117",
     "exception": false,
     "start_time": "2023-01-01T18:34:39.776064",
     "status": "completed"
    },
    "tags": []
   },
   "outputs": [
    {
     "data": {
      "application/javascript": "parent.postMessage({\"jupyterEvent\": \"custom.exercise_interaction\", \"data\": {\"outcomeType\": 1, \"valueTowardsCompletion\": 0.25, \"interactionType\": 1, \"questionType\": 2, \"questionId\": \"4_ReviewsPerRegion\", \"learnToolsVersion\": \"0.3.4\", \"failureMessage\": \"\", \"exceptionClass\": \"\", \"trace\": \"\"}}, \"*\")",
      "text/plain": [
       "<IPython.core.display.Javascript object>"
      ]
     },
     "metadata": {},
     "output_type": "display_data"
    },
    {
     "data": {
      "text/markdown": [
       "<span style=\"color:#33cc33\">Correct</span>"
      ],
      "text/plain": [
       "Correct"
      ]
     },
     "metadata": {},
     "output_type": "display_data"
    },
    {
     "data": {
      "text/plain": [
       "Unknown                 21247\n",
       "Napa Valley              4480\n",
       "Columbia Valley (WA)     4124\n",
       "Russian River Valley     3091\n",
       "California               2629\n",
       "                        ...  \n",
       "Offida Rosso                1\n",
       "Corton Perrières            1\n",
       "Isle St. George             1\n",
       "Geelong                     1\n",
       "Paestum                     1\n",
       "Name: region_1, Length: 1230, dtype: int64"
      ]
     },
     "execution_count": 8,
     "metadata": {},
     "output_type": "execute_result"
    }
   ],
   "source": [
    "reviews_per_region = reviews.region_1.fillna('Unknown').value_counts().sort_values(ascending=False)\n",
    "\n",
    "# Check your answer\n",
    "q4.check()\n",
    "reviews_per_region"
   ]
  },
  {
   "cell_type": "code",
   "execution_count": 9,
   "id": "643da05a",
   "metadata": {
    "execution": {
     "iopub.execute_input": "2023-01-01T18:34:39.835501Z",
     "iopub.status.busy": "2023-01-01T18:34:39.835254Z",
     "iopub.status.idle": "2023-01-01T18:34:39.839406Z",
     "shell.execute_reply": "2023-01-01T18:34:39.838457Z"
    },
    "papermill": {
     "duration": 0.012917,
     "end_time": "2023-01-01T18:34:39.841279",
     "exception": false,
     "start_time": "2023-01-01T18:34:39.828362",
     "status": "completed"
    },
    "tags": []
   },
   "outputs": [],
   "source": [
    "#q4.hint()\n",
    "#q4.solution()"
   ]
  }
 ],
 "metadata": {
  "kernelspec": {
   "display_name": "Python 3",
   "language": "python",
   "name": "python3"
  },
  "language_info": {
   "codemirror_mode": {
    "name": "ipython",
    "version": 3
   },
   "file_extension": ".py",
   "mimetype": "text/x-python",
   "name": "python",
   "nbconvert_exporter": "python",
   "pygments_lexer": "ipython3",
   "version": "3.7.12"
  },
  "papermill": {
   "default_parameters": {},
   "duration": 10.380087,
   "end_time": "2023-01-01T18:34:40.486663",
   "environment_variables": {},
   "exception": null,
   "input_path": "__notebook__.ipynb",
   "output_path": "__notebook__.ipynb",
   "parameters": {},
   "start_time": "2023-01-01T18:34:30.106576",
   "version": "2.3.4"
  }
 },
 "nbformat": 4,
 "nbformat_minor": 5
}
