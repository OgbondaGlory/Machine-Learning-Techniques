{
 "cells": [
  {
   "cell_type": "markdown",
   "id": "52996c8b",
   "metadata": {
    "papermill": {
     "duration": 0.005588,
     "end_time": "2023-01-15T09:26:48.173871",
     "exception": false,
     "start_time": "2023-01-15T09:26:48.168283",
     "status": "completed"
    },
    "tags": []
   },
   "source": [
    "**This notebook is an exercise in the [Intro to Deep Learning](https://www.kaggle.com/learn/intro-to-deep-learning) course.  You can reference the tutorial at [this link](https://www.kaggle.com/ryanholbrook/overfitting-and-underfitting).**\n",
    "\n",
    "---\n"
   ]
  },
  {
   "cell_type": "markdown",
   "id": "f6e00d8e",
   "metadata": {
    "papermill": {
     "duration": 0.004056,
     "end_time": "2023-01-15T09:26:48.182362",
     "exception": false,
     "start_time": "2023-01-15T09:26:48.178306",
     "status": "completed"
    },
    "tags": []
   },
   "source": [
    "# Introduction #\n",
    "\n",
    "In this exercise, you’ll learn how to improve training outcomes by including an early stopping callback to prevent overfitting.\n",
    "\n",
    "When you're ready, run this next cell to set everything up!"
   ]
  },
  {
   "cell_type": "code",
   "execution_count": 1,
   "id": "1bf95671",
   "metadata": {
    "execution": {
     "iopub.execute_input": "2023-01-15T09:26:48.192759Z",
     "iopub.status.busy": "2023-01-15T09:26:48.192214Z",
     "iopub.status.idle": "2023-01-15T09:26:48.227706Z",
     "shell.execute_reply": "2023-01-15T09:26:48.226522Z"
    },
    "papermill": {
     "duration": 0.046071,
     "end_time": "2023-01-15T09:26:48.232687",
     "exception": false,
     "start_time": "2023-01-15T09:26:48.186616",
     "status": "completed"
    },
    "tags": []
   },
   "outputs": [],
   "source": [
    "# Setup plotting\n",
    "import matplotlib.pyplot as plt\n",
    "plt.style.use('seaborn-whitegrid')\n",
    "# Set Matplotlib defaults\n",
    "plt.rc('figure', autolayout=True)\n",
    "plt.rc('axes', labelweight='bold', labelsize='large',\n",
    "       titleweight='bold', titlesize=18, titlepad=10)\n",
    "plt.rc('animation', html='html5')\n",
    "\n",
    "# Setup feedback system\n",
    "from learntools.core import binder\n",
    "binder.bind(globals())\n",
    "from learntools.deep_learning_intro.ex4 import *"
   ]
  },
  {
   "cell_type": "markdown",
   "id": "a38b9e8e",
   "metadata": {
    "papermill": {
     "duration": 0.006013,
     "end_time": "2023-01-15T09:26:48.247637",
     "exception": false,
     "start_time": "2023-01-15T09:26:48.241624",
     "status": "completed"
    },
    "tags": []
   },
   "source": [
    "First load the *Spotify* dataset. Your task will be to predict the popularity of a song based on various audio features, like `'tempo'`, `'danceability'`, and `'mode'`."
   ]
  },
  {
   "cell_type": "code",
   "execution_count": 2,
   "id": "82264783",
   "metadata": {
    "execution": {
     "iopub.execute_input": "2023-01-15T09:26:48.261320Z",
     "iopub.status.busy": "2023-01-15T09:26:48.260324Z",
     "iopub.status.idle": "2023-01-15T09:26:54.748771Z",
     "shell.execute_reply": "2023-01-15T09:26:54.747714Z"
    },
    "papermill": {
     "duration": 6.497663,
     "end_time": "2023-01-15T09:26:54.751429",
     "exception": false,
     "start_time": "2023-01-15T09:26:48.253766",
     "status": "completed"
    },
    "tags": []
   },
   "outputs": [
    {
     "name": "stdout",
     "output_type": "stream",
     "text": [
      "Input shape: [18]\n"
     ]
    }
   ],
   "source": [
    "import pandas as pd\n",
    "from sklearn.preprocessing import StandardScaler, OneHotEncoder\n",
    "from sklearn.compose import make_column_transformer\n",
    "from sklearn.model_selection import GroupShuffleSplit\n",
    "\n",
    "from tensorflow import keras\n",
    "from tensorflow.keras import layers\n",
    "from tensorflow.keras import callbacks\n",
    "\n",
    "spotify = pd.read_csv('../input/dl-course-data/spotify.csv')\n",
    "\n",
    "X = spotify.copy().dropna()\n",
    "y = X.pop('track_popularity')\n",
    "artists = X['track_artist']\n",
    "\n",
    "features_num = ['danceability', 'energy', 'key', 'loudness', 'mode',\n",
    "                'speechiness', 'acousticness', 'instrumentalness',\n",
    "                'liveness', 'valence', 'tempo', 'duration_ms']\n",
    "features_cat = ['playlist_genre']\n",
    "\n",
    "preprocessor = make_column_transformer(\n",
    "    (StandardScaler(), features_num),\n",
    "    (OneHotEncoder(), features_cat),\n",
    ")\n",
    "\n",
    "# We'll do a \"grouped\" split to keep all of an artist's songs in one\n",
    "# split or the other. This is to help prevent signal leakage.\n",
    "def group_split(X, y, group, train_size=0.75):\n",
    "    splitter = GroupShuffleSplit(train_size=train_size)\n",
    "    train, test = next(splitter.split(X, y, groups=group))\n",
    "    return (X.iloc[train], X.iloc[test], y.iloc[train], y.iloc[test])\n",
    "\n",
    "X_train, X_valid, y_train, y_valid = group_split(X, y, artists)\n",
    "\n",
    "X_train = preprocessor.fit_transform(X_train)\n",
    "X_valid = preprocessor.transform(X_valid)\n",
    "y_train = y_train / 100 # popularity is on a scale 0-100, so this rescales to 0-1.\n",
    "y_valid = y_valid / 100\n",
    "\n",
    "input_shape = [X_train.shape[1]]\n",
    "print(\"Input shape: {}\".format(input_shape))"
   ]
  },
  {
   "cell_type": "markdown",
   "id": "8362d204",
   "metadata": {
    "papermill": {
     "duration": 0.004718,
     "end_time": "2023-01-15T09:26:54.760828",
     "exception": false,
     "start_time": "2023-01-15T09:26:54.756110",
     "status": "completed"
    },
    "tags": []
   },
   "source": [
    "Let's start with the simplest network, a linear model. This model has low capacity.\n",
    "\n",
    "Run this next cell without any changes to train a linear model on the *Spotify* dataset."
   ]
  },
  {
   "cell_type": "code",
   "execution_count": 3,
   "id": "bd6e5ff0",
   "metadata": {
    "execution": {
     "iopub.execute_input": "2023-01-15T09:26:54.770919Z",
     "iopub.status.busy": "2023-01-15T09:26:54.770606Z",
     "iopub.status.idle": "2023-01-15T09:27:08.422377Z",
     "shell.execute_reply": "2023-01-15T09:27:08.420037Z"
    },
    "lines_to_next_cell": 0,
    "papermill": {
     "duration": 13.659353,
     "end_time": "2023-01-15T09:27:08.424578",
     "exception": false,
     "start_time": "2023-01-15T09:26:54.765225",
     "status": "completed"
    },
    "tags": []
   },
   "outputs": [
    {
     "name": "stderr",
     "output_type": "stream",
     "text": [
      "2023-01-15 09:26:54.863558: I tensorflow/stream_executor/cuda/cuda_gpu_executor.cc:937] successful NUMA node read from SysFS had negative value (-1), but there must be at least one NUMA node, so returning NUMA node zero\n",
      "2023-01-15 09:26:54.954089: I tensorflow/stream_executor/cuda/cuda_gpu_executor.cc:937] successful NUMA node read from SysFS had negative value (-1), but there must be at least one NUMA node, so returning NUMA node zero\n",
      "2023-01-15 09:26:54.954886: I tensorflow/stream_executor/cuda/cuda_gpu_executor.cc:937] successful NUMA node read from SysFS had negative value (-1), but there must be at least one NUMA node, so returning NUMA node zero\n",
      "2023-01-15 09:26:54.957303: I tensorflow/core/platform/cpu_feature_guard.cc:142] This TensorFlow binary is optimized with oneAPI Deep Neural Network Library (oneDNN) to use the following CPU instructions in performance-critical operations:  AVX2 AVX512F FMA\n",
      "To enable them in other operations, rebuild TensorFlow with the appropriate compiler flags.\n",
      "2023-01-15 09:26:54.957665: I tensorflow/stream_executor/cuda/cuda_gpu_executor.cc:937] successful NUMA node read from SysFS had negative value (-1), but there must be at least one NUMA node, so returning NUMA node zero\n",
      "2023-01-15 09:26:54.958623: I tensorflow/stream_executor/cuda/cuda_gpu_executor.cc:937] successful NUMA node read from SysFS had negative value (-1), but there must be at least one NUMA node, so returning NUMA node zero\n",
      "2023-01-15 09:26:54.959505: I tensorflow/stream_executor/cuda/cuda_gpu_executor.cc:937] successful NUMA node read from SysFS had negative value (-1), but there must be at least one NUMA node, so returning NUMA node zero\n",
      "2023-01-15 09:26:57.088504: I tensorflow/stream_executor/cuda/cuda_gpu_executor.cc:937] successful NUMA node read from SysFS had negative value (-1), but there must be at least one NUMA node, so returning NUMA node zero\n",
      "2023-01-15 09:26:57.089334: I tensorflow/stream_executor/cuda/cuda_gpu_executor.cc:937] successful NUMA node read from SysFS had negative value (-1), but there must be at least one NUMA node, so returning NUMA node zero\n",
      "2023-01-15 09:26:57.090042: I tensorflow/stream_executor/cuda/cuda_gpu_executor.cc:937] successful NUMA node read from SysFS had negative value (-1), but there must be at least one NUMA node, so returning NUMA node zero\n",
      "2023-01-15 09:26:57.090685: I tensorflow/core/common_runtime/gpu/gpu_device.cc:1510] Created device /job:localhost/replica:0/task:0/device:GPU:0 with 15401 MB memory:  -> device: 0, name: Tesla P100-PCIE-16GB, pci bus id: 0000:00:04.0, compute capability: 6.0\n",
      "2023-01-15 09:26:57.558330: I tensorflow/compiler/mlir/mlir_graph_optimization_pass.cc:185] None of the MLIR Optimization Passes are enabled (registered 2)\n"
     ]
    },
    {
     "name": "stdout",
     "output_type": "stream",
     "text": [
      "Minimum Validation Loss: 0.1961\n"
     ]
    },
    {
     "data": {
      "image/png": "[encoded data removed]",
      "text/plain": [
       "<Figure size 432x288 with 1 Axes>"
      ]
     },
     "metadata": {},
     "output_type": "display_data"
    }
   ],
   "source": [
    "model = keras.Sequential([\n",
    "    layers.Dense(1, input_shape=input_shape),\n",
    "])\n",
    "model.compile(\n",
    "    optimizer='adam',\n",
    "    loss='mae',\n",
    ")\n",
    "history = model.fit(\n",
    "    X_train, y_train,\n",
    "    validation_data=(X_valid, y_valid),\n",
    "    batch_size=512,\n",
    "    epochs=50,\n",
    "    verbose=0, # suppress output since we'll plot the curves\n",
    ")\n",
    "history_df = pd.DataFrame(history.history)\n",
    "history_df.loc[0:, ['loss', 'val_loss']].plot()\n",
    "print(\"Minimum Validation Loss: {:0.4f}\".format(history_df['val_loss'].min()));"
   ]
  },
  {
   "cell_type": "markdown",
   "id": "348f1445",
   "metadata": {
    "papermill": {
     "duration": 0.005197,
     "end_time": "2023-01-15T09:27:08.435024",
     "exception": false,
     "start_time": "2023-01-15T09:27:08.429827",
     "status": "completed"
    },
    "tags": []
   },
   "source": [
    "It's not uncommon for the curves to follow a \"hockey stick\" pattern like you see here. This makes the final part of training hard to see, so let's start at epoch 10 instead:"
   ]
  },
  {
   "cell_type": "code",
   "execution_count": 4,
   "id": "91596d8f",
   "metadata": {
    "execution": {
     "iopub.execute_input": "2023-01-15T09:27:08.449185Z",
     "iopub.status.busy": "2023-01-15T09:27:08.447683Z",
     "iopub.status.idle": "2023-01-15T09:27:08.775436Z",
     "shell.execute_reply": "2023-01-15T09:27:08.774501Z"
    },
    "papermill": {
     "duration": 0.335854,
     "end_time": "2023-01-15T09:27:08.777466",
     "exception": false,
     "start_time": "2023-01-15T09:27:08.441612",
     "status": "completed"
    },
    "tags": []
   },
   "outputs": [
    {
     "name": "stdout",
     "output_type": "stream",
     "text": [
      "Minimum Validation Loss: 0.1961\n"
     ]
    },
    {
     "data": {
      "image/png": "[encoded data removed]",
      "text/plain": [
       "<Figure size 432x288 with 1 Axes>"
      ]
     },
     "metadata": {},
     "output_type": "display_data"
    }
   ],
   "source": [
    "# Start the plot at epoch 10\n",
    "history_df.loc[10:, ['loss', 'val_loss']].plot()\n",
    "print(\"Minimum Validation Loss: {:0.4f}\".format(history_df['val_loss'].min()));"
   ]
  },
  {
   "cell_type": "markdown",
   "id": "ab3e5678",
   "metadata": {
    "papermill": {
     "duration": 0.005321,
     "end_time": "2023-01-15T09:27:08.788552",
     "exception": false,
     "start_time": "2023-01-15T09:27:08.783231",
     "status": "completed"
    },
    "tags": []
   },
   "source": [
    "# 1) Evaluate Baseline\n",
    "\n",
    "What do you think? Would you say this model is underfitting, overfitting, just right?"
   ]
  },
  {
   "cell_type": "code",
   "execution_count": 5,
   "id": "4eb38a0b",
   "metadata": {
    "execution": {
     "iopub.execute_input": "2023-01-15T09:27:08.800660Z",
     "iopub.status.busy": "2023-01-15T09:27:08.800330Z",
     "iopub.status.idle": "2023-01-15T09:27:08.810787Z",
     "shell.execute_reply": "2023-01-15T09:27:08.809724Z"
    },
    "papermill": {
     "duration": 0.019185,
     "end_time": "2023-01-15T09:27:08.813072",
     "exception": false,
     "start_time": "2023-01-15T09:27:08.793887",
     "status": "completed"
    },
    "tags": []
   },
   "outputs": [
    {
     "data": {
      "application/javascript": [
       "parent.postMessage({\"jupyterEvent\": \"custom.exercise_interaction\", \"data\": {\"outcomeType\": 1, \"valueTowardsCompletion\": 0.25, \"interactionType\": 1, \"questionType\": 4, \"questionId\": \"1_Q1\", \"learnToolsVersion\": \"0.3.4\", \"failureMessage\": \"\", \"exceptionClass\": \"\", \"trace\": \"\"}}, \"*\")"
      ],
      "text/plain": [
       "<IPython.core.display.Javascript object>"
      ]
     },
     "metadata": {},
     "output_type": "display_data"
    },
    {
     "data": {
      "text/markdown": [
       "<span style=\"color:#33cc33\">Correct:</span> \n",
       "\n",
       "The gap between these curves is quite small and the validation loss never increases, so it's more likely that the network is underfitting than overfitting. It would be worth experimenting with more capacity to see if that's the case."
      ],
      "text/plain": [
       "Correct: \n",
       "\n",
       "The gap between these curves is quite small and the validation loss never increases, so it's more likely that the network is underfitting than overfitting. It would be worth experimenting with more capacity to see if that's the case."
      ]
     },
     "metadata": {},
     "output_type": "display_data"
    }
   ],
   "source": [
    "# View the solution (Run this cell to receive credit!)\n",
    "q_1.check()"
   ]
  },
  {
   "cell_type": "markdown",
   "id": "2a3eb891",
   "metadata": {
    "papermill": {
     "duration": 0.005533,
     "end_time": "2023-01-15T09:27:08.824103",
     "exception": false,
     "start_time": "2023-01-15T09:27:08.818570",
     "status": "completed"
    },
    "tags": []
   },
   "source": [
    "Now let's add some capacity to our network. We'll add three hidden layers with 128 units each. Run the next cell to train the network and see the learning curves."
   ]
  },
  {
   "cell_type": "code",
   "execution_count": 6,
   "id": "37517644",
   "metadata": {
    "execution": {
     "iopub.execute_input": "2023-01-15T09:27:08.836253Z",
     "iopub.status.busy": "2023-01-15T09:27:08.835983Z",
     "iopub.status.idle": "2023-01-15T09:27:19.682615Z",
     "shell.execute_reply": "2023-01-15T09:27:19.681422Z"
    },
    "papermill": {
     "duration": 10.855243,
     "end_time": "2023-01-15T09:27:19.684791",
     "exception": false,
     "start_time": "2023-01-15T09:27:08.829548",
     "status": "completed"
    },
    "tags": []
   },
   "outputs": [
    {
     "name": "stdout",
     "output_type": "stream",
     "text": [
      "Epoch 1/50\n",
      "50/50 [==============================] - 0s 4ms/step - loss: 0.2352 - val_loss: 0.2041\n",
      "Epoch 2/50\n",
      "50/50 [==============================] - 0s 3ms/step - loss: 0.2011 - val_loss: 0.2004\n",
      "Epoch 3/50\n",
      "50/50 [==============================] - 0s 3ms/step - loss: 0.1960 - val_loss: 0.1975\n",
      "Epoch 4/50\n",
      "50/50 [==============================] - 0s 3ms/step - loss: 0.1933 - val_loss: 0.1980\n",
      "Epoch 5/50\n",
      "50/50 [==============================] - 0s 3ms/step - loss: 0.1920 - val_loss: 0.1972\n",
      "Epoch 6/50\n",
      "50/50 [==============================] - 0s 3ms/step - loss: 0.1899 - val_loss: 0.1975\n",
      "Epoch 7/50\n",
      "50/50 [==============================] - 0s 3ms/step - loss: 0.1888 - val_loss: 0.1982\n",
      "Epoch 8/50\n",
      "50/50 [==============================] - 0s 3ms/step - loss: 0.1875 - val_loss: 0.1973\n",
      "Epoch 9/50\n",
      "50/50 [==============================] - 0s 3ms/step - loss: 0.1863 - val_loss: 0.1982\n",
      "Epoch 10/50\n",
      "50/50 [==============================] - 0s 3ms/step - loss: 0.1860 - val_loss: 0.1973\n",
      "Epoch 11/50\n",
      "50/50 [==============================] - 0s 3ms/step - loss: 0.1848 - val_loss: 0.1967\n",
      "Epoch 12/50\n",
      "50/50 [==============================] - 0s 3ms/step - loss: 0.1847 - val_loss: 0.1966\n",
      "Epoch 13/50\n",
      "50/50 [==============================] - 0s 3ms/step - loss: 0.1832 - val_loss: 0.1966\n",
      "Epoch 14/50\n",
      "50/50 [==============================] - 0s 3ms/step - loss: 0.1829 - val_loss: 0.1975\n",
      "Epoch 15/50\n",
      "50/50 [==============================] - 0s 3ms/step - loss: 0.1828 - val_loss: 0.1996\n",
      "Epoch 16/50\n",
      "50/50 [==============================] - 0s 3ms/step - loss: 0.1819 - val_loss: 0.1974\n",
      "Epoch 17/50\n",
      "50/50 [==============================] - 0s 3ms/step - loss: 0.1806 - val_loss: 0.2008\n",
      "Epoch 18/50\n",
      "50/50 [==============================] - 0s 3ms/step - loss: 0.1811 - val_loss: 0.1984\n",
      "Epoch 19/50\n",
      "50/50 [==============================] - 0s 4ms/step - loss: 0.1802 - val_loss: 0.1982\n",
      "Epoch 20/50\n",
      "50/50 [==============================] - 0s 5ms/step - loss: 0.1807 - val_loss: 0.1989\n",
      "Epoch 21/50\n",
      "50/50 [==============================] - 0s 4ms/step - loss: 0.1793 - val_loss: 0.1979\n",
      "Epoch 22/50\n",
      "50/50 [==============================] - 0s 2ms/step - loss: 0.1781 - val_loss: 0.1983\n",
      "Epoch 23/50\n",
      "50/50 [==============================] - 0s 3ms/step - loss: 0.1775 - val_loss: 0.1989\n",
      "Epoch 24/50\n",
      "50/50 [==============================] - 0s 3ms/step - loss: 0.1773 - val_loss: 0.1978\n",
      "Epoch 25/50\n",
      "50/50 [==============================] - 0s 3ms/step - loss: 0.1771 - val_loss: 0.1988\n",
      "Epoch 26/50\n",
      "50/50 [==============================] - 0s 3ms/step - loss: 0.1761 - val_loss: 0.1995\n",
      "Epoch 27/50\n",
      "50/50 [==============================] - 0s 3ms/step - loss: 0.1761 - val_loss: 0.1990\n",
      "Epoch 28/50\n",
      "50/50 [==============================] - 0s 3ms/step - loss: 0.1749 - val_loss: 0.2013\n",
      "Epoch 29/50\n",
      "50/50 [==============================] - 0s 2ms/step - loss: 0.1744 - val_loss: 0.2014\n",
      "Epoch 30/50\n",
      "50/50 [==============================] - 0s 3ms/step - loss: 0.1747 - val_loss: 0.1992\n",
      "Epoch 31/50\n",
      "50/50 [==============================] - 0s 3ms/step - loss: 0.1738 - val_loss: 0.2004\n",
      "Epoch 32/50\n",
      "50/50 [==============================] - 0s 3ms/step - loss: 0.1729 - val_loss: 0.1987\n",
      "Epoch 33/50\n",
      "50/50 [==============================] - 0s 3ms/step - loss: 0.1746 - val_loss: 0.1996\n",
      "Epoch 34/50\n",
      "50/50 [==============================] - 0s 3ms/step - loss: 0.1727 - val_loss: 0.2008\n",
      "Epoch 35/50\n",
      "50/50 [==============================] - 0s 3ms/step - loss: 0.1722 - val_loss: 0.2016\n",
      "Epoch 36/50\n",
      "50/50 [==============================] - 0s 3ms/step - loss: 0.1716 - val_loss: 0.2024\n",
      "Epoch 37/50\n",
      "50/50 [==============================] - 0s 3ms/step - loss: 0.1710 - val_loss: 0.2013\n",
      "Epoch 38/50\n",
      "50/50 [==============================] - 0s 3ms/step - loss: 0.1701 - val_loss: 0.2005\n",
      "Epoch 39/50\n",
      "50/50 [==============================] - 0s 3ms/step - loss: 0.1699 - val_loss: 0.2018\n",
      "Epoch 40/50\n",
      "50/50 [==============================] - 0s 3ms/step - loss: 0.1695 - val_loss: 0.2022\n",
      "Epoch 41/50\n",
      "50/50 [==============================] - 0s 3ms/step - loss: 0.1691 - val_loss: 0.2030\n",
      "Epoch 42/50\n",
      "50/50 [==============================] - 0s 3ms/step - loss: 0.1692 - val_loss: 0.2029\n",
      "Epoch 43/50\n",
      "50/50 [==============================] - 0s 3ms/step - loss: 0.1690 - val_loss: 0.2050\n",
      "Epoch 44/50\n",
      "50/50 [==============================] - 0s 3ms/step - loss: 0.1688 - val_loss: 0.2034\n",
      "Epoch 45/50\n",
      "50/50 [==============================] - 0s 3ms/step - loss: 0.1669 - val_loss: 0.2024\n",
      "Epoch 46/50\n",
      "50/50 [==============================] - 0s 3ms/step - loss: 0.1670 - val_loss: 0.2047\n",
      "Epoch 47/50\n",
      "50/50 [==============================] - 0s 3ms/step - loss: 0.1680 - val_loss: 0.2035\n",
      "Epoch 48/50\n",
      "50/50 [==============================] - 0s 3ms/step - loss: 0.1663 - val_loss: 0.2033\n",
      "Epoch 49/50\n",
      "50/50 [==============================] - 0s 3ms/step - loss: 0.1669 - val_loss: 0.2033\n",
      "Epoch 50/50\n",
      "50/50 [==============================] - 0s 2ms/step - loss: 0.1657 - val_loss: 0.2024\n",
      "Minimum Validation Loss: 0.1966\n"
     ]
    },
    {
     "data": {
      "image/png": "[encoded data removed]",
      "text/plain": [
       "<Figure size 432x288 with 1 Axes>"
      ]
     },
     "metadata": {},
     "output_type": "display_data"
    }
   ],
   "source": [
    "model = keras.Sequential([\n",
    "    layers.Dense(128, activation='relu', input_shape=input_shape),\n",
    "    layers.Dense(64, activation='relu'),\n",
    "    layers.Dense(1)\n",
    "])\n",
    "model.compile(\n",
    "    optimizer='adam',\n",
    "    loss='mae',\n",
    ")\n",
    "history = model.fit(\n",
    "    X_train, y_train,\n",
    "    validation_data=(X_valid, y_valid),\n",
    "    batch_size=512,\n",
    "    epochs=50,\n",
    ")\n",
    "history_df = pd.DataFrame(history.history)\n",
    "history_df.loc[:, ['loss', 'val_loss']].plot()\n",
    "print(\"Minimum Validation Loss: {:0.4f}\".format(history_df['val_loss'].min()));"
   ]
  },
  {
   "cell_type": "markdown",
   "id": "d6157456",
   "metadata": {
    "papermill": {
     "duration": 0.013613,
     "end_time": "2023-01-15T09:27:19.712786",
     "exception": false,
     "start_time": "2023-01-15T09:27:19.699173",
     "status": "completed"
    },
    "tags": []
   },
   "source": [
    "# 2) Add Capacity\n",
    "\n",
    "What is your evaluation of these curves? Underfitting, overfitting, just right?"
   ]
  },
  {
   "cell_type": "code",
   "execution_count": 7,
   "id": "7fdf72dd",
   "metadata": {
    "execution": {
     "iopub.execute_input": "2023-01-15T09:27:19.742055Z",
     "iopub.status.busy": "2023-01-15T09:27:19.741131Z",
     "iopub.status.idle": "2023-01-15T09:27:19.749361Z",
     "shell.execute_reply": "2023-01-15T09:27:19.748423Z"
    },
    "papermill": {
     "duration": 0.024808,
     "end_time": "2023-01-15T09:27:19.751406",
     "exception": false,
     "start_time": "2023-01-15T09:27:19.726598",
     "status": "completed"
    },
    "tags": []
   },
   "outputs": [
    {
     "data": {
      "application/javascript": [
       "parent.postMessage({\"jupyterEvent\": \"custom.exercise_interaction\", \"data\": {\"outcomeType\": 1, \"valueTowardsCompletion\": 0.25, \"interactionType\": 1, \"questionType\": 4, \"questionId\": \"2_Q2\", \"learnToolsVersion\": \"0.3.4\", \"failureMessage\": \"\", \"exceptionClass\": \"\", \"trace\": \"\"}}, \"*\")"
      ],
      "text/plain": [
       "<IPython.core.display.Javascript object>"
      ]
     },
     "metadata": {},
     "output_type": "display_data"
    },
    {
     "data": {
      "text/markdown": [
       "<span style=\"color:#33cc33\">Correct:</span> \n",
       "\n",
       "Now the validation loss begins to rise very early, while the training loss continues to decrease. This indicates that the network has begun to overfit. At this point, we would need to try something to prevent it, either by reducing the number of units or through a method like early stopping. (We'll see another in the next lesson!)"
      ],
      "text/plain": [
       "Correct: \n",
       "\n",
       "Now the validation loss begins to rise very early, while the training loss continues to decrease. This indicates that the network has begun to overfit. At this point, we would need to try something to prevent it, either by reducing the number of units or through a method like early stopping. (We'll see another in the next lesson!)"
      ]
     },
     "metadata": {},
     "output_type": "display_data"
    }
   ],
   "source": [
    "# View the solution (Run this cell to receive credit!)\n",
    "q_2.check()"
   ]
  },
  {
   "cell_type": "markdown",
   "id": "d3f30856",
   "metadata": {
    "papermill": {
     "duration": 0.014283,
     "end_time": "2023-01-15T09:27:19.779800",
     "exception": false,
     "start_time": "2023-01-15T09:27:19.765517",
     "status": "completed"
    },
    "tags": []
   },
   "source": [
    "# 3) Define Early Stopping Callback\n",
    "\n",
    "Now define an early stopping callback that waits 5 epochs (`patience'`) for a change in validation loss of at least `0.001` (`min_delta`) and keeps the weights with the best loss (`restore_best_weights`)."
   ]
  },
  {
   "cell_type": "code",
   "execution_count": 8,
   "id": "31b10074",
   "metadata": {
    "execution": {
     "iopub.execute_input": "2023-01-15T09:27:19.809370Z",
     "iopub.status.busy": "2023-01-15T09:27:19.809048Z",
     "iopub.status.idle": "2023-01-15T09:27:19.821464Z",
     "shell.execute_reply": "2023-01-15T09:27:19.820505Z"
    },
    "lines_to_next_cell": 0,
    "papermill": {
     "duration": 0.030182,
     "end_time": "2023-01-15T09:27:19.823993",
     "exception": false,
     "start_time": "2023-01-15T09:27:19.793811",
     "status": "completed"
    },
    "tags": []
   },
   "outputs": [
    {
     "data": {
      "application/javascript": [
       "parent.postMessage({\"jupyterEvent\": \"custom.exercise_interaction\", \"data\": {\"outcomeType\": 1, \"valueTowardsCompletion\": 0.25, \"interactionType\": 1, \"questionType\": 2, \"questionId\": \"3_Q3\", \"learnToolsVersion\": \"0.3.4\", \"failureMessage\": \"\", \"exceptionClass\": \"\", \"trace\": \"\"}}, \"*\")"
      ],
      "text/plain": [
       "<IPython.core.display.Javascript object>"
      ]
     },
     "metadata": {},
     "output_type": "display_data"
    },
    {
     "data": {
      "text/markdown": [
       "<span style=\"color:#33cc33\">Correct</span>"
      ],
      "text/plain": [
       "Correct"
      ]
     },
     "metadata": {},
     "output_type": "display_data"
    }
   ],
   "source": [
    "from tensorflow.keras import callbacks\n",
    "from tensorflow.keras.callbacks import EarlyStopping\n",
    "\n",
    "\n",
    "# YOUR CODE HERE: define an early stopping callback\n",
    "early_stopping =  EarlyStopping(\n",
    "    min_delta=0.001, # minimium amount of change to count as an improvement\n",
    "    patience=5, # how many epochs to wait before stopping\n",
    "    restore_best_weights=True,\n",
    ")\n",
    "\n",
    "# Check your answer\n",
    "q_3.check()"
   ]
  },
  {
   "cell_type": "code",
   "execution_count": 9,
   "id": "9eee99e8",
   "metadata": {
    "execution": {
     "iopub.execute_input": "2023-01-15T09:27:19.855697Z",
     "iopub.status.busy": "2023-01-15T09:27:19.855320Z",
     "iopub.status.idle": "2023-01-15T09:27:19.860281Z",
     "shell.execute_reply": "2023-01-15T09:27:19.858531Z"
    },
    "papermill": {
     "duration": 0.024416,
     "end_time": "2023-01-15T09:27:19.862802",
     "exception": false,
     "start_time": "2023-01-15T09:27:19.838386",
     "status": "completed"
    },
    "tags": []
   },
   "outputs": [],
   "source": [
    "# Lines below will give you a hint or solution code\n",
    "#q_3.hint()\n",
    "#q_3.solution()"
   ]
  },
  {
   "cell_type": "markdown",
   "id": "578437be",
   "metadata": {
    "papermill": {
     "duration": 0.014904,
     "end_time": "2023-01-15T09:27:19.894762",
     "exception": false,
     "start_time": "2023-01-15T09:27:19.879858",
     "status": "completed"
    },
    "tags": []
   },
   "source": [
    "Now run this cell to train the model and get the learning curves. Notice the `callbacks` argument in `model.fit`."
   ]
  },
  {
   "cell_type": "code",
   "execution_count": 10,
   "id": "4ed09733",
   "metadata": {
    "execution": {
     "iopub.execute_input": "2023-01-15T09:27:19.923927Z",
     "iopub.status.busy": "2023-01-15T09:27:19.923639Z",
     "iopub.status.idle": "2023-01-15T09:27:22.316062Z",
     "shell.execute_reply": "2023-01-15T09:27:22.315172Z"
    },
    "papermill": {
     "duration": 2.409402,
     "end_time": "2023-01-15T09:27:22.318121",
     "exception": false,
     "start_time": "2023-01-15T09:27:19.908719",
     "status": "completed"
    },
    "tags": []
   },
   "outputs": [
    {
     "name": "stdout",
     "output_type": "stream",
     "text": [
      "Epoch 1/50\n",
      "50/50 [==============================] - 0s 4ms/step - loss: 0.2360 - val_loss: 0.2073\n",
      "Epoch 2/50\n",
      "50/50 [==============================] - 0s 3ms/step - loss: 0.2022 - val_loss: 0.2013\n",
      "Epoch 3/50\n",
      "50/50 [==============================] - 0s 3ms/step - loss: 0.1966 - val_loss: 0.2009\n",
      "Epoch 4/50\n",
      "50/50 [==============================] - 0s 3ms/step - loss: 0.1933 - val_loss: 0.1969\n",
      "Epoch 5/50\n",
      "50/50 [==============================] - 0s 3ms/step - loss: 0.1914 - val_loss: 0.1974\n",
      "Epoch 6/50\n",
      "50/50 [==============================] - 0s 3ms/step - loss: 0.1899 - val_loss: 0.1984\n",
      "Epoch 7/50\n",
      "50/50 [==============================] - 0s 3ms/step - loss: 0.1882 - val_loss: 0.1972\n",
      "Epoch 8/50\n",
      "50/50 [==============================] - 0s 3ms/step - loss: 0.1872 - val_loss: 0.1953\n",
      "Epoch 9/50\n",
      "50/50 [==============================] - 0s 2ms/step - loss: 0.1864 - val_loss: 0.1953\n",
      "Epoch 10/50\n",
      "50/50 [==============================] - 0s 2ms/step - loss: 0.1862 - val_loss: 0.1984\n",
      "Epoch 11/50\n",
      "50/50 [==============================] - 0s 3ms/step - loss: 0.1851 - val_loss: 0.1974\n",
      "Epoch 12/50\n",
      "50/50 [==============================] - 0s 3ms/step - loss: 0.1838 - val_loss: 0.1959\n",
      "Epoch 13/50\n",
      "50/50 [==============================] - 0s 3ms/step - loss: 0.1830 - val_loss: 0.1954\n",
      "Minimum Validation Loss: 0.1953\n"
     ]
    },
    {
     "data": {
      "image/png": "[encoded data removed]",
      "text/plain": [
       "<Figure size 432x288 with 1 Axes>"
      ]
     },
     "metadata": {},
     "output_type": "display_data"
    }
   ],
   "source": [
    "model = keras.Sequential([\n",
    "    layers.Dense(128, activation='relu', input_shape=input_shape),\n",
    "    layers.Dense(64, activation='relu'),    \n",
    "    layers.Dense(1)\n",
    "])\n",
    "model.compile(\n",
    "    optimizer='adam',\n",
    "    loss='mae',\n",
    ")\n",
    "history = model.fit(\n",
    "    X_train, y_train,\n",
    "    validation_data=(X_valid, y_valid),\n",
    "    batch_size=512,\n",
    "    epochs=50,\n",
    "    callbacks=[early_stopping]\n",
    ")\n",
    "history_df = pd.DataFrame(history.history)\n",
    "history_df.loc[:, ['loss', 'val_loss']].plot()\n",
    "print(\"Minimum Validation Loss: {:0.4f}\".format(history_df['val_loss'].min()));"
   ]
  },
  {
   "cell_type": "markdown",
   "id": "f4d84798",
   "metadata": {
    "papermill": {
     "duration": 0.016431,
     "end_time": "2023-01-15T09:27:22.352894",
     "exception": false,
     "start_time": "2023-01-15T09:27:22.336463",
     "status": "completed"
    },
    "tags": []
   },
   "source": [
    "# 4) Train and Interpret\n",
    "\n",
    "Was this an improvement compared to training without early stopping?"
   ]
  },
  {
   "cell_type": "code",
   "execution_count": 11,
   "id": "9804612e",
   "metadata": {
    "execution": {
     "iopub.execute_input": "2023-01-15T09:27:22.390806Z",
     "iopub.status.busy": "2023-01-15T09:27:22.390433Z",
     "iopub.status.idle": "2023-01-15T09:27:22.398439Z",
     "shell.execute_reply": "2023-01-15T09:27:22.397557Z"
    },
    "papermill": {
     "duration": 0.028534,
     "end_time": "2023-01-15T09:27:22.400506",
     "exception": false,
     "start_time": "2023-01-15T09:27:22.371972",
     "status": "completed"
    },
    "tags": []
   },
   "outputs": [
    {
     "data": {
      "application/javascript": [
       "parent.postMessage({\"jupyterEvent\": \"custom.exercise_interaction\", \"data\": {\"outcomeType\": 1, \"valueTowardsCompletion\": 0.25, \"interactionType\": 1, \"questionType\": 4, \"questionId\": \"4_Q4\", \"learnToolsVersion\": \"0.3.4\", \"failureMessage\": \"\", \"exceptionClass\": \"\", \"trace\": \"\"}}, \"*\")"
      ],
      "text/plain": [
       "<IPython.core.display.Javascript object>"
      ]
     },
     "metadata": {},
     "output_type": "display_data"
    },
    {
     "data": {
      "text/markdown": [
       "<span style=\"color:#33cc33\">Correct:</span> \n",
       "\n",
       "The early stopping callback did stop the training once the network began overfitting. Moreover, by including `restore_best_weights` we still get to keep the model where validation loss was lowest."
      ],
      "text/plain": [
       "Correct: \n",
       "\n",
       "The early stopping callback did stop the training once the network began overfitting. Moreover, by including `restore_best_weights` we still get to keep the model where validation loss was lowest."
      ]
     },
     "metadata": {},
     "output_type": "display_data"
    }
   ],
   "source": [
    "# View the solution (Run this cell to receive credit!)\n",
    "q_4.check()"
   ]
  },
  {
   "cell_type": "markdown",
   "id": "2a0cbcf7",
   "metadata": {
    "papermill": {
     "duration": 0.016968,
     "end_time": "2023-01-15T09:27:22.434708",
     "exception": false,
     "start_time": "2023-01-15T09:27:22.417740",
     "status": "completed"
    },
    "tags": []
   },
   "source": [
    "If you like, try experimenting with `patience` and `min_delta` to see what difference it might make.\n",
    "\n",
    "# Keep Going #\n",
    "\n",
    "Move on to [**learn about a couple of special layers**](https://www.kaggle.com/ryanholbrook/dropout-and-batch-normalization): batch normalization and dropout."
   ]
  },
  {
   "cell_type": "markdown",
   "id": "7362edb5",
   "metadata": {
    "papermill": {
     "duration": 0.016364,
     "end_time": "2023-01-15T09:27:22.467649",
     "exception": false,
     "start_time": "2023-01-15T09:27:22.451285",
     "status": "completed"
    },
    "tags": []
   },
   "source": [
    "---\n",
    "\n",
    "\n",
    "\n",
    "\n",
    "*Have questions or comments? Visit the [course discussion forum](https://www.kaggle.com/learn/intro-to-deep-learning/discussion) to chat with other learners.*"
   ]
  }
 ],
 "metadata": {
  "kernelspec": {
   "display_name": "Python 3",
   "language": "python",
   "name": "python3"
  },
  "language_info": {
   "codemirror_mode": {
    "name": "ipython",
    "version": 3
   },
   "file_extension": ".py",
   "mimetype": "text/x-python",
   "name": "python",
   "nbconvert_exporter": "python",
   "pygments_lexer": "ipython3",
   "version": "3.7.12"
  },
  "papermill": {
   "default_parameters": {},
   "duration": 45.33121,
   "end_time": "2023-01-15T09:27:25.613831",
   "environment_variables": {},
   "exception": null,
   "input_path": "__notebook__.ipynb",
   "output_path": "__notebook__.ipynb",
   "parameters": {},
   "start_time": "2023-01-15T09:26:40.282621",
   "version": "2.3.4"
  }
 },
 "nbformat": 4,
 "nbformat_minor": 5
}
