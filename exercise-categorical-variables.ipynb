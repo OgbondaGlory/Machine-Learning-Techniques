{
 "cells": [
  {
   "cell_type": "markdown",
   "id": "4be719b6",
   "metadata": {
    "papermill": {
     "duration": 0.017184,
     "end_time": "2022-12-30T04:02:56.460818",
     "exception": false,
     "start_time": "2022-12-30T04:02:56.443634",
     "status": "completed"
    },
    "tags": []
   },
   "source": [
    "**This notebook is an exercise in the [Intermediate Machine Learning](https://www.kaggle.com/learn/intermediate-machine-learning) course.  You can reference the tutorial at [this link](https://www.kaggle.com/alexisbcook/categorical-variables).**\n",
    "\n",
    "---\n"
   ]
  },
  {
   "cell_type": "markdown",
   "id": "3f776ef7",
   "metadata": {
    "papermill": {
     "duration": 0.013781,
     "end_time": "2022-12-30T04:02:56.487154",
     "exception": false,
     "start_time": "2022-12-30T04:02:56.473373",
     "status": "completed"
    },
    "tags": []
   },
   "source": [
    "By encoding **categorical variables**, you'll obtain your best results thus far!\n",
    "\n",
    "# Setup\n",
    "\n",
    "The questions below will give you feedback on your work. Run the following cell to set up the feedback system."
   ]
  },
  {
   "cell_type": "code",
   "execution_count": 1,
   "id": "8b262b59",
   "metadata": {
    "execution": {
     "iopub.execute_input": "2022-12-30T04:02:56.514247Z",
     "iopub.status.busy": "2022-12-30T04:02:56.513002Z",
     "iopub.status.idle": "2022-12-30T04:02:56.567542Z",
     "shell.execute_reply": "2022-12-30T04:02:56.566315Z"
    },
    "papermill": {
     "duration": 0.071208,
     "end_time": "2022-12-30T04:02:56.570440",
     "exception": false,
     "start_time": "2022-12-30T04:02:56.499232",
     "status": "completed"
    },
    "tags": []
   },
   "outputs": [
    {
     "name": "stdout",
     "output_type": "stream",
     "text": [
      "Setup Complete\n"
     ]
    }
   ],
   "source": [
    "# Set up code checking\n",
    "import os\n",
    "if not os.path.exists(\"../input/train.csv\"):\n",
    "    os.symlink(\"../input/home-data-for-ml-course/train.csv\", \"../input/train.csv\")  \n",
    "    os.symlink(\"../input/home-data-for-ml-course/test.csv\", \"../input/test.csv\") \n",
    "from learntools.core import binder\n",
    "binder.bind(globals())\n",
    "from learntools.ml_intermediate.ex3 import *\n",
    "print(\"Setup Complete\")"
   ]
  },
  {
   "cell_type": "markdown",
   "id": "5353e18e",
   "metadata": {
    "papermill": {
     "duration": 0.011961,
     "end_time": "2022-12-30T04:02:56.594670",
     "exception": false,
     "start_time": "2022-12-30T04:02:56.582709",
     "status": "completed"
    },
    "tags": []
   },
   "source": [
    "In this exercise, you will work with data from the [Housing Prices Competition for Kaggle Learn Users](https://www.kaggle.com/c/home-data-for-ml-course). \n",
    "\n",
    "![Ames Housing dataset image](https://i.imgur.com/lTJVG4e.png)\n",
    "\n",
    "Run the next code cell without changes to load the training and validation sets in `X_train`, `X_valid`, `y_train`, and `y_valid`.  The test set is loaded in `X_test`."
   ]
  },
  {
   "cell_type": "code",
   "execution_count": 2,
   "id": "364d2b6e",
   "metadata": {
    "execution": {
     "iopub.execute_input": "2022-12-30T04:02:56.622497Z",
     "iopub.status.busy": "2022-12-30T04:02:56.622021Z",
     "iopub.status.idle": "2022-12-30T04:02:57.855273Z",
     "shell.execute_reply": "2022-12-30T04:02:57.854058Z"
    },
    "papermill": {
     "duration": 1.251264,
     "end_time": "2022-12-30T04:02:57.859083",
     "exception": false,
     "start_time": "2022-12-30T04:02:56.607819",
     "status": "completed"
    },
    "tags": []
   },
   "outputs": [],
   "source": [
    "import pandas as pd\n",
    "from sklearn.model_selection import train_test_split\n",
    "\n",
    "# Read the data\n",
    "X = pd.read_csv('../input/train.csv', index_col='Id') \n",
    "X_test = pd.read_csv('../input/test.csv', index_col='Id')\n",
    "\n",
    "# Remove rows with missing target, separate target from predictors\n",
    "X.dropna(axis=0, subset=['SalePrice'], inplace=True)\n",
    "y = X.SalePrice\n",
    "X.drop(['SalePrice'], axis=1, inplace=True)\n",
    "\n",
    "# # To keep things simple, we'll drop columns with missing values\n",
    "cols_with_missing = [col for col in X.columns if X[col].isnull().any()] \n",
    "X.drop(cols_with_missing, axis=1, inplace=True)\n",
    "X_test.drop(cols_with_missing, axis=1, inplace=True)\n",
    "\n",
    "# Break off validation set from training data\n",
    "X_train, X_valid, y_train, y_valid = train_test_split(X, y,\n",
    "                                                      train_size=0.8, test_size=0.2,\n",
    "                                                      random_state=0)"
   ]
  },
  {
   "cell_type": "markdown",
   "id": "c6c06d2d",
   "metadata": {
    "papermill": {
     "duration": 0.012209,
     "end_time": "2022-12-30T04:02:57.889026",
     "exception": false,
     "start_time": "2022-12-30T04:02:57.876817",
     "status": "completed"
    },
    "tags": []
   },
   "source": [
    "Use the next code cell to print the first five rows of the data."
   ]
  },
  {
   "cell_type": "code",
   "execution_count": 3,
   "id": "46f32a4d",
   "metadata": {
    "execution": {
     "iopub.execute_input": "2022-12-30T04:02:57.922529Z",
     "iopub.status.busy": "2022-12-30T04:02:57.921655Z",
     "iopub.status.idle": "2022-12-30T04:02:57.966132Z",
     "shell.execute_reply": "2022-12-30T04:02:57.964150Z"
    },
    "papermill": {
     "duration": 0.068757,
     "end_time": "2022-12-30T04:02:57.970254",
     "exception": false,
     "start_time": "2022-12-30T04:02:57.901497",
     "status": "completed"
    },
    "tags": []
   },
   "outputs": [
    {
     "data": {
      "text/html": [
       "<div>\n",
       "<style scoped>\n",
       "    .dataframe tbody tr th:only-of-type {\n",
       "        vertical-align: middle;\n",
       "    }\n",
       "\n",
       "    .dataframe tbody tr th {\n",
       "        vertical-align: top;\n",
       "    }\n",
       "\n",
       "    .dataframe thead th {\n",
       "        text-align: right;\n",
       "    }\n",
       "</style>\n",
       "<table border=\"1\" class=\"dataframe\">\n",
       "  <thead>\n",
       "    <tr style=\"text-align: right;\">\n",
       "      <th></th>\n",
       "      <th>MSSubClass</th>\n",
       "      <th>MSZoning</th>\n",
       "      <th>LotArea</th>\n",
       "      <th>Street</th>\n",
       "      <th>LotShape</th>\n",
       "      <th>LandContour</th>\n",
       "      <th>Utilities</th>\n",
       "      <th>LotConfig</th>\n",
       "      <th>LandSlope</th>\n",
       "      <th>Neighborhood</th>\n",
       "      <th>...</th>\n",
       "      <th>OpenPorchSF</th>\n",
       "      <th>EnclosedPorch</th>\n",
       "      <th>3SsnPorch</th>\n",
       "      <th>ScreenPorch</th>\n",
       "      <th>PoolArea</th>\n",
       "      <th>MiscVal</th>\n",
       "      <th>MoSold</th>\n",
       "      <th>YrSold</th>\n",
       "      <th>SaleType</th>\n",
       "      <th>SaleCondition</th>\n",
       "    </tr>\n",
       "    <tr>\n",
       "      <th>Id</th>\n",
       "      <th></th>\n",
       "      <th></th>\n",
       "      <th></th>\n",
       "      <th></th>\n",
       "      <th></th>\n",
       "      <th></th>\n",
       "      <th></th>\n",
       "      <th></th>\n",
       "      <th></th>\n",
       "      <th></th>\n",
       "      <th></th>\n",
       "      <th></th>\n",
       "      <th></th>\n",
       "      <th></th>\n",
       "      <th></th>\n",
       "      <th></th>\n",
       "      <th></th>\n",
       "      <th></th>\n",
       "      <th></th>\n",
       "      <th></th>\n",
       "      <th></th>\n",
       "    </tr>\n",
       "  </thead>\n",
       "  <tbody>\n",
       "    <tr>\n",
       "      <th>619</th>\n",
       "      <td>20</td>\n",
       "      <td>RL</td>\n",
       "      <td>11694</td>\n",
       "      <td>Pave</td>\n",
       "      <td>Reg</td>\n",
       "      <td>Lvl</td>\n",
       "      <td>AllPub</td>\n",
       "      <td>Inside</td>\n",
       "      <td>Gtl</td>\n",
       "      <td>NridgHt</td>\n",
       "      <td>...</td>\n",
       "      <td>108</td>\n",
       "      <td>0</td>\n",
       "      <td>0</td>\n",
       "      <td>260</td>\n",
       "      <td>0</td>\n",
       "      <td>0</td>\n",
       "      <td>7</td>\n",
       "      <td>2007</td>\n",
       "      <td>New</td>\n",
       "      <td>Partial</td>\n",
       "    </tr>\n",
       "    <tr>\n",
       "      <th>871</th>\n",
       "      <td>20</td>\n",
       "      <td>RL</td>\n",
       "      <td>6600</td>\n",
       "      <td>Pave</td>\n",
       "      <td>Reg</td>\n",
       "      <td>Lvl</td>\n",
       "      <td>AllPub</td>\n",
       "      <td>Inside</td>\n",
       "      <td>Gtl</td>\n",
       "      <td>NAmes</td>\n",
       "      <td>...</td>\n",
       "      <td>0</td>\n",
       "      <td>0</td>\n",
       "      <td>0</td>\n",
       "      <td>0</td>\n",
       "      <td>0</td>\n",
       "      <td>0</td>\n",
       "      <td>8</td>\n",
       "      <td>2009</td>\n",
       "      <td>WD</td>\n",
       "      <td>Normal</td>\n",
       "    </tr>\n",
       "    <tr>\n",
       "      <th>93</th>\n",
       "      <td>30</td>\n",
       "      <td>RL</td>\n",
       "      <td>13360</td>\n",
       "      <td>Pave</td>\n",
       "      <td>IR1</td>\n",
       "      <td>HLS</td>\n",
       "      <td>AllPub</td>\n",
       "      <td>Inside</td>\n",
       "      <td>Gtl</td>\n",
       "      <td>Crawfor</td>\n",
       "      <td>...</td>\n",
       "      <td>0</td>\n",
       "      <td>44</td>\n",
       "      <td>0</td>\n",
       "      <td>0</td>\n",
       "      <td>0</td>\n",
       "      <td>0</td>\n",
       "      <td>8</td>\n",
       "      <td>2009</td>\n",
       "      <td>WD</td>\n",
       "      <td>Normal</td>\n",
       "    </tr>\n",
       "    <tr>\n",
       "      <th>818</th>\n",
       "      <td>20</td>\n",
       "      <td>RL</td>\n",
       "      <td>13265</td>\n",
       "      <td>Pave</td>\n",
       "      <td>IR1</td>\n",
       "      <td>Lvl</td>\n",
       "      <td>AllPub</td>\n",
       "      <td>CulDSac</td>\n",
       "      <td>Gtl</td>\n",
       "      <td>Mitchel</td>\n",
       "      <td>...</td>\n",
       "      <td>59</td>\n",
       "      <td>0</td>\n",
       "      <td>0</td>\n",
       "      <td>0</td>\n",
       "      <td>0</td>\n",
       "      <td>0</td>\n",
       "      <td>7</td>\n",
       "      <td>2008</td>\n",
       "      <td>WD</td>\n",
       "      <td>Normal</td>\n",
       "    </tr>\n",
       "    <tr>\n",
       "      <th>303</th>\n",
       "      <td>20</td>\n",
       "      <td>RL</td>\n",
       "      <td>13704</td>\n",
       "      <td>Pave</td>\n",
       "      <td>IR1</td>\n",
       "      <td>Lvl</td>\n",
       "      <td>AllPub</td>\n",
       "      <td>Corner</td>\n",
       "      <td>Gtl</td>\n",
       "      <td>CollgCr</td>\n",
       "      <td>...</td>\n",
       "      <td>81</td>\n",
       "      <td>0</td>\n",
       "      <td>0</td>\n",
       "      <td>0</td>\n",
       "      <td>0</td>\n",
       "      <td>0</td>\n",
       "      <td>1</td>\n",
       "      <td>2006</td>\n",
       "      <td>WD</td>\n",
       "      <td>Normal</td>\n",
       "    </tr>\n",
       "  </tbody>\n",
       "</table>\n",
       "<p>5 rows × 60 columns</p>\n",
       "</div>"
      ],
      "text/plain": [
       "     MSSubClass MSZoning  LotArea Street LotShape LandContour Utilities  \\\n",
       "Id                                                                        \n",
       "619          20       RL    11694   Pave      Reg         Lvl    AllPub   \n",
       "871          20       RL     6600   Pave      Reg         Lvl    AllPub   \n",
       "93           30       RL    13360   Pave      IR1         HLS    AllPub   \n",
       "818          20       RL    13265   Pave      IR1         Lvl    AllPub   \n",
       "303          20       RL    13704   Pave      IR1         Lvl    AllPub   \n",
       "\n",
       "    LotConfig LandSlope Neighborhood  ... OpenPorchSF EnclosedPorch 3SsnPorch  \\\n",
       "Id                                    ...                                       \n",
       "619    Inside       Gtl      NridgHt  ...         108             0         0   \n",
       "871    Inside       Gtl        NAmes  ...           0             0         0   \n",
       "93     Inside       Gtl      Crawfor  ...           0            44         0   \n",
       "818   CulDSac       Gtl      Mitchel  ...          59             0         0   \n",
       "303    Corner       Gtl      CollgCr  ...          81             0         0   \n",
       "\n",
       "    ScreenPorch  PoolArea  MiscVal  MoSold  YrSold SaleType SaleCondition  \n",
       "Id                                                                         \n",
       "619         260         0        0       7    2007      New       Partial  \n",
       "871           0         0        0       8    2009       WD        Normal  \n",
       "93            0         0        0       8    2009       WD        Normal  \n",
       "818           0         0        0       7    2008       WD        Normal  \n",
       "303           0         0        0       1    2006       WD        Normal  \n",
       "\n",
       "[5 rows x 60 columns]"
      ]
     },
     "execution_count": 3,
     "metadata": {},
     "output_type": "execute_result"
    }
   ],
   "source": [
    "X_train.head()"
   ]
  },
  {
   "cell_type": "markdown",
   "id": "205bed99",
   "metadata": {
    "papermill": {
     "duration": 0.020564,
     "end_time": "2022-12-30T04:02:58.015572",
     "exception": false,
     "start_time": "2022-12-30T04:02:57.995008",
     "status": "completed"
    },
    "tags": []
   },
   "source": [
    "Notice that the dataset contains both numerical and categorical variables.  You'll need to encode the categorical data before training a model.\n",
    "\n",
    "To compare different models, you'll use the same `score_dataset()` function from the tutorial.  This function reports the [mean absolute error](https://en.wikipedia.org/wiki/Mean_absolute_error) (MAE) from a random forest model."
   ]
  },
  {
   "cell_type": "code",
   "execution_count": 4,
   "id": "aff51e0e",
   "metadata": {
    "execution": {
     "iopub.execute_input": "2022-12-30T04:02:58.047371Z",
     "iopub.status.busy": "2022-12-30T04:02:58.046395Z",
     "iopub.status.idle": "2022-12-30T04:02:58.257956Z",
     "shell.execute_reply": "2022-12-30T04:02:58.256704Z"
    },
    "papermill": {
     "duration": 0.22893,
     "end_time": "2022-12-30T04:02:58.260998",
     "exception": false,
     "start_time": "2022-12-30T04:02:58.032068",
     "status": "completed"
    },
    "tags": []
   },
   "outputs": [],
   "source": [
    "from sklearn.ensemble import RandomForestRegressor\n",
    "from sklearn.metrics import mean_absolute_error\n",
    "\n",
    "# function for comparing different approaches\n",
    "def score_dataset(X_train, X_valid, y_train, y_valid):\n",
    "    model = RandomForestRegressor(n_estimators=100, random_state=0)\n",
    "    model.fit(X_train, y_train)\n",
    "    preds = model.predict(X_valid)\n",
    "    return mean_absolute_error(y_valid, preds)"
   ]
  },
  {
   "cell_type": "markdown",
   "id": "9b0e8b0d",
   "metadata": {
    "papermill": {
     "duration": 0.012584,
     "end_time": "2022-12-30T04:02:58.287101",
     "exception": false,
     "start_time": "2022-12-30T04:02:58.274517",
     "status": "completed"
    },
    "tags": []
   },
   "source": [
    "# Step 1: Drop columns with categorical data\n",
    "\n",
    "You'll get started with the most straightforward approach.  Use the code cell below to preprocess the data in `X_train` and `X_valid` to remove columns with categorical data.  Set the preprocessed DataFrames to `drop_X_train` and `drop_X_valid`, respectively.  "
   ]
  },
  {
   "cell_type": "code",
   "execution_count": 5,
   "id": "992b3759",
   "metadata": {
    "execution": {
     "iopub.execute_input": "2022-12-30T04:02:58.315381Z",
     "iopub.status.busy": "2022-12-30T04:02:58.314185Z",
     "iopub.status.idle": "2022-12-30T04:02:58.330674Z",
     "shell.execute_reply": "2022-12-30T04:02:58.329237Z"
    },
    "papermill": {
     "duration": 0.033745,
     "end_time": "2022-12-30T04:02:58.333646",
     "exception": false,
     "start_time": "2022-12-30T04:02:58.299901",
     "status": "completed"
    },
    "tags": []
   },
   "outputs": [
    {
     "data": {
      "application/javascript": [
       "parent.postMessage({\"jupyterEvent\": \"custom.exercise_interaction\", \"data\": {\"outcomeType\": 1, \"valueTowardsCompletion\": 0.5, \"interactionType\": 1, \"questionType\": 2, \"questionId\": \"1_Drop\", \"learnToolsVersion\": \"0.3.4\", \"failureMessage\": \"\", \"exceptionClass\": \"\", \"trace\": \"\"}}, \"*\")"
      ],
      "text/plain": [
       "<IPython.core.display.Javascript object>"
      ]
     },
     "metadata": {},
     "output_type": "display_data"
    },
    {
     "data": {
      "text/markdown": [
       "<span style=\"color:#33cc33\">Correct</span>"
      ],
      "text/plain": [
       "Correct"
      ]
     },
     "metadata": {},
     "output_type": "display_data"
    }
   ],
   "source": [
    "# Fill in the lines below: drop columns in training and validation data\n",
    "drop_X_train = X_train.select_dtypes(exclude=['object'])\n",
    "drop_X_valid = X_valid.select_dtypes(exclude=['object'])\n",
    "\n",
    "# Check your answers\n",
    "step_1.check()"
   ]
  },
  {
   "cell_type": "code",
   "execution_count": 6,
   "id": "7a168f64",
   "metadata": {
    "execution": {
     "iopub.execute_input": "2022-12-30T04:02:58.376460Z",
     "iopub.status.busy": "2022-12-30T04:02:58.375971Z",
     "iopub.status.idle": "2022-12-30T04:02:58.382997Z",
     "shell.execute_reply": "2022-12-30T04:02:58.381475Z"
    },
    "papermill": {
     "duration": 0.033385,
     "end_time": "2022-12-30T04:02:58.386326",
     "exception": false,
     "start_time": "2022-12-30T04:02:58.352941",
     "status": "completed"
    },
    "tags": []
   },
   "outputs": [],
   "source": [
    "# Lines below will give you a hint or solution code\n",
    "#step_1.hint()\n",
    "#step_1.solution()"
   ]
  },
  {
   "cell_type": "markdown",
   "id": "353f9808",
   "metadata": {
    "papermill": {
     "duration": 0.01648,
     "end_time": "2022-12-30T04:02:58.417845",
     "exception": false,
     "start_time": "2022-12-30T04:02:58.401365",
     "status": "completed"
    },
    "tags": []
   },
   "source": [
    "Run the next code cell to get the MAE for this approach."
   ]
  },
  {
   "cell_type": "code",
   "execution_count": 7,
   "id": "ea227802",
   "metadata": {
    "execution": {
     "iopub.execute_input": "2022-12-30T04:02:58.451444Z",
     "iopub.status.busy": "2022-12-30T04:02:58.450775Z",
     "iopub.status.idle": "2022-12-30T04:02:58.454596Z",
     "shell.execute_reply": "2022-12-30T04:02:58.453845Z"
    },
    "papermill": {
     "duration": 0.025167,
     "end_time": "2022-12-30T04:02:58.456833",
     "exception": false,
     "start_time": "2022-12-30T04:02:58.431666",
     "status": "completed"
    },
    "tags": []
   },
   "outputs": [],
   "source": [
    "# print(\"MAE from Approach 1 (Drop categorical variables):\")\n",
    "# print(score_dataset(drop_X_train, drop_X_valid, y_train, y_valid))"
   ]
  },
  {
   "cell_type": "markdown",
   "id": "43ba8177",
   "metadata": {
    "papermill": {
     "duration": 0.012417,
     "end_time": "2022-12-30T04:02:58.481860",
     "exception": false,
     "start_time": "2022-12-30T04:02:58.469443",
     "status": "completed"
    },
    "tags": []
   },
   "source": [
    "Before jumping into ordinal encoding, we'll investigate the dataset.  Specifically, we'll look at the `'Condition2'` column.  The code cell below prints the unique entries in both the training and validation sets."
   ]
  },
  {
   "cell_type": "code",
   "execution_count": 8,
   "id": "11d80b2c",
   "metadata": {
    "execution": {
     "iopub.execute_input": "2022-12-30T04:02:58.511425Z",
     "iopub.status.busy": "2022-12-30T04:02:58.510633Z",
     "iopub.status.idle": "2022-12-30T04:02:58.518703Z",
     "shell.execute_reply": "2022-12-30T04:02:58.517195Z"
    },
    "papermill": {
     "duration": 0.025046,
     "end_time": "2022-12-30T04:02:58.521156",
     "exception": false,
     "start_time": "2022-12-30T04:02:58.496110",
     "status": "completed"
    },
    "tags": []
   },
   "outputs": [
    {
     "name": "stdout",
     "output_type": "stream",
     "text": [
      "Unique values in 'Condition2' column in training data: ['Norm' 'PosA' 'Feedr' 'PosN' 'Artery' 'RRAe']\n",
      "\n",
      "Unique values in 'Condition2' column in validation data: ['Norm' 'RRAn' 'RRNn' 'Artery' 'Feedr' 'PosN']\n"
     ]
    }
   ],
   "source": [
    "print(\"Unique values in 'Condition2' column in training data:\", X_train['Condition2'].unique())\n",
    "print(\"\\nUnique values in 'Condition2' column in validation data:\", X_valid['Condition2'].unique())"
   ]
  },
  {
   "cell_type": "markdown",
   "id": "7d86cd3e",
   "metadata": {
    "papermill": {
     "duration": 0.012465,
     "end_time": "2022-12-30T04:02:58.546433",
     "exception": false,
     "start_time": "2022-12-30T04:02:58.533968",
     "status": "completed"
    },
    "tags": []
   },
   "source": [
    "# Step 2: Ordinal encoding\n",
    "\n",
    "### Part A\n",
    "\n",
    "If you now write code to: \n",
    "- fit an ordinal encoder to the training data, and then \n",
    "- use it to transform both the training and validation data, \n",
    "\n",
    "you'll get an error.  Can you see why this is the case?  (_You'll need  to use the above output to answer this question._)"
   ]
  },
  {
   "cell_type": "code",
   "execution_count": 9,
   "id": "38b26b59",
   "metadata": {
    "execution": {
     "iopub.execute_input": "2022-12-30T04:02:58.574148Z",
     "iopub.status.busy": "2022-12-30T04:02:58.573708Z",
     "iopub.status.idle": "2022-12-30T04:02:58.583276Z",
     "shell.execute_reply": "2022-12-30T04:02:58.582107Z"
    },
    "papermill": {
     "duration": 0.026235,
     "end_time": "2022-12-30T04:02:58.585647",
     "exception": false,
     "start_time": "2022-12-30T04:02:58.559412",
     "status": "completed"
    },
    "tags": []
   },
   "outputs": [
    {
     "data": {
      "application/javascript": [
       "parent.postMessage({\"jupyterEvent\": \"custom.exercise_interaction\", \"data\": {\"outcomeType\": 1, \"valueTowardsCompletion\": 0.5, \"interactionType\": 1, \"questionType\": 4, \"questionId\": \"2.1_LabelA\", \"learnToolsVersion\": \"0.3.4\", \"failureMessage\": \"\", \"exceptionClass\": \"\", \"trace\": \"\"}}, \"*\")"
      ],
      "text/plain": [
       "<IPython.core.display.Javascript object>"
      ]
     },
     "metadata": {},
     "output_type": "display_data"
    },
    {
     "data": {
      "text/markdown": [
       "<span style=\"color:#33cc33\">Correct:</span> \n",
       "\n",
       "Fitting an ordinal encoder to a column in the training data creates a corresponding integer-valued label for each unique value **that appears in the training data**. In the case that the validation data contains values that don't also appear in the training data, the encoder will throw an error, because these values won't have an integer assigned to them.  Notice that the `'Condition2'` column in the validation data contains the values `'RRAn'` and `'RRNn'`, but these don't appear in the training data -- thus, if we try to use an ordinal encoder with scikit-learn, the code will throw an error."
      ],
      "text/plain": [
       "Correct: \n",
       "\n",
       "Fitting an ordinal encoder to a column in the training data creates a corresponding integer-valued label for each unique value **that appears in the training data**. In the case that the validation data contains values that don't also appear in the training data, the encoder will throw an error, because these values won't have an integer assigned to them.  Notice that the `'Condition2'` column in the validation data contains the values `'RRAn'` and `'RRNn'`, but these don't appear in the training data -- thus, if we try to use an ordinal encoder with scikit-learn, the code will throw an error."
      ]
     },
     "metadata": {},
     "output_type": "display_data"
    }
   ],
   "source": [
    "# Check your answer (Run this code cell to receive credit!)\n",
    "step_2.a.check()"
   ]
  },
  {
   "cell_type": "code",
   "execution_count": 10,
   "id": "8d2c782d",
   "metadata": {
    "execution": {
     "iopub.execute_input": "2022-12-30T04:02:58.613798Z",
     "iopub.status.busy": "2022-12-30T04:02:58.613398Z",
     "iopub.status.idle": "2022-12-30T04:02:58.618640Z",
     "shell.execute_reply": "2022-12-30T04:02:58.617366Z"
    },
    "papermill": {
     "duration": 0.022416,
     "end_time": "2022-12-30T04:02:58.621288",
     "exception": false,
     "start_time": "2022-12-30T04:02:58.598872",
     "status": "completed"
    },
    "tags": []
   },
   "outputs": [],
   "source": [
    "#step_2.a.hint()"
   ]
  },
  {
   "cell_type": "markdown",
   "id": "bd8a7423",
   "metadata": {
    "papermill": {
     "duration": 0.012729,
     "end_time": "2022-12-30T04:02:58.647085",
     "exception": false,
     "start_time": "2022-12-30T04:02:58.634356",
     "status": "completed"
    },
    "tags": []
   },
   "source": [
    "This is a common problem that you'll encounter with real-world data, and there are many approaches to fixing this issue.  For instance, you can write a custom ordinal encoder to deal with new categories.  The simplest approach, however, is to drop the problematic categorical columns.  \n",
    "\n",
    "Run the code cell below to save the problematic columns to a Python list `bad_label_cols`.  Likewise, columns that can be safely ordinal encoded are stored in `good_label_cols`."
   ]
  },
  {
   "cell_type": "code",
   "execution_count": 11,
   "id": "0fa934f1",
   "metadata": {
    "execution": {
     "iopub.execute_input": "2022-12-30T04:02:58.675263Z",
     "iopub.status.busy": "2022-12-30T04:02:58.674801Z",
     "iopub.status.idle": "2022-12-30T04:02:58.692135Z",
     "shell.execute_reply": "2022-12-30T04:02:58.690732Z"
    },
    "papermill": {
     "duration": 0.034359,
     "end_time": "2022-12-30T04:02:58.694909",
     "exception": false,
     "start_time": "2022-12-30T04:02:58.660550",
     "status": "completed"
    },
    "tags": []
   },
   "outputs": [
    {
     "name": "stdout",
     "output_type": "stream",
     "text": [
      "Categorical columns that will be ordinal encoded: ['MSZoning', 'Street', 'LotShape', 'LandContour', 'Utilities', 'LotConfig', 'LandSlope', 'Neighborhood', 'Condition1', 'BldgType', 'HouseStyle', 'RoofStyle', 'Exterior1st', 'Exterior2nd', 'ExterQual', 'ExterCond', 'Foundation', 'Heating', 'HeatingQC', 'CentralAir', 'KitchenQual', 'PavedDrive', 'SaleType', 'SaleCondition']\n",
      "\n",
      "Categorical columns that will be dropped from the dataset: ['Functional', 'Condition2', 'RoofMatl']\n"
     ]
    }
   ],
   "source": [
    "# Categorical columns in the training data\n",
    "object_cols = [col for col in X_train.columns if X_train[col].dtype == \"object\"]\n",
    "\n",
    "# Columns that can be safely ordinal encoded\n",
    "good_label_cols = [col for col in object_cols if \n",
    "                   set(X_valid[col]).issubset(set(X_train[col]))]\n",
    "        \n",
    "# Problematic columns that will be dropped from the dataset\n",
    "bad_label_cols = list(set(object_cols)-set(good_label_cols))\n",
    "        \n",
    "print('Categorical columns that will be ordinal encoded:', good_label_cols)\n",
    "print('\\nCategorical columns that will be dropped from the dataset:', bad_label_cols)"
   ]
  },
  {
   "cell_type": "markdown",
   "id": "1aae6244",
   "metadata": {
    "papermill": {
     "duration": 0.012855,
     "end_time": "2022-12-30T04:02:58.722528",
     "exception": false,
     "start_time": "2022-12-30T04:02:58.709673",
     "status": "completed"
    },
    "tags": []
   },
   "source": [
    "### Part B\n",
    "\n",
    "Use the next code cell to ordinal encode the data in `X_train` and `X_valid`.  Set the preprocessed DataFrames to `label_X_train` and `label_X_valid`, respectively.  \n",
    "- We have provided code below to drop the categorical columns in `bad_label_cols` from the dataset. \n",
    "- You should ordinal encode the categorical columns in `good_label_cols`.  "
   ]
  },
  {
   "cell_type": "code",
   "execution_count": 12,
   "id": "53a41b83",
   "metadata": {
    "execution": {
     "iopub.execute_input": "2022-12-30T04:02:58.750735Z",
     "iopub.status.busy": "2022-12-30T04:02:58.750278Z",
     "iopub.status.idle": "2022-12-30T04:02:58.801320Z",
     "shell.execute_reply": "2022-12-30T04:02:58.800070Z"
    },
    "papermill": {
     "duration": 0.068374,
     "end_time": "2022-12-30T04:02:58.804196",
     "exception": false,
     "start_time": "2022-12-30T04:02:58.735822",
     "status": "completed"
    },
    "tags": []
   },
   "outputs": [
    {
     "data": {
      "application/javascript": [
       "parent.postMessage({\"jupyterEvent\": \"custom.exercise_interaction\", \"data\": {\"outcomeType\": 1, \"valueTowardsCompletion\": 0.5, \"interactionType\": 1, \"questionType\": 2, \"questionId\": \"2.2_LabelB\", \"learnToolsVersion\": \"0.3.4\", \"failureMessage\": \"\", \"exceptionClass\": \"\", \"trace\": \"\"}}, \"*\")"
      ],
      "text/plain": [
       "<IPython.core.display.Javascript object>"
      ]
     },
     "metadata": {},
     "output_type": "display_data"
    },
    {
     "data": {
      "text/markdown": [
       "<span style=\"color:#33cc33\">Correct</span>"
      ],
      "text/plain": [
       "Correct"
      ]
     },
     "metadata": {},
     "output_type": "display_data"
    }
   ],
   "source": [
    "from sklearn.preprocessing import OrdinalEncoder\n",
    "\n",
    "# Drop categorical columns that will not be encoded\n",
    "label_X_train = X_train.drop(bad_label_cols, axis=1)\n",
    "label_X_valid = X_valid.drop(bad_label_cols, axis=1)\n",
    "\n",
    "# Apply ordinal encoder \n",
    "ordinal_encoder = OrdinalEncoder()\n",
    "label_X_train[good_label_cols] = ordinal_encoder.fit_transform(X_train[good_label_cols])\n",
    "label_X_valid[good_label_cols] = ordinal_encoder.transform(X_valid[good_label_cols])# Your code here\n",
    "    \n",
    "# Check your answer\n",
    "step_2.b.check()\n"
   ]
  },
  {
   "cell_type": "code",
   "execution_count": 13,
   "id": "6512df1b",
   "metadata": {
    "execution": {
     "iopub.execute_input": "2022-12-30T04:02:58.833537Z",
     "iopub.status.busy": "2022-12-30T04:02:58.833090Z",
     "iopub.status.idle": "2022-12-30T04:02:58.838086Z",
     "shell.execute_reply": "2022-12-30T04:02:58.836751Z"
    },
    "papermill": {
     "duration": 0.022535,
     "end_time": "2022-12-30T04:02:58.840650",
     "exception": false,
     "start_time": "2022-12-30T04:02:58.818115",
     "status": "completed"
    },
    "tags": []
   },
   "outputs": [],
   "source": [
    "# Lines below will give you a hint or solution code\n",
    "#step_2.b.hint()\n",
    "#step_2.b.solution()"
   ]
  },
  {
   "cell_type": "markdown",
   "id": "4871567a",
   "metadata": {
    "papermill": {
     "duration": 0.013074,
     "end_time": "2022-12-30T04:02:58.867268",
     "exception": false,
     "start_time": "2022-12-30T04:02:58.854194",
     "status": "completed"
    },
    "tags": []
   },
   "source": [
    "Run the next code cell to get the MAE for this approach."
   ]
  },
  {
   "cell_type": "code",
   "execution_count": 14,
   "id": "1900329c",
   "metadata": {
    "execution": {
     "iopub.execute_input": "2022-12-30T04:02:58.897024Z",
     "iopub.status.busy": "2022-12-30T04:02:58.896000Z",
     "iopub.status.idle": "2022-12-30T04:02:58.901362Z",
     "shell.execute_reply": "2022-12-30T04:02:58.900005Z"
    },
    "papermill": {
     "duration": 0.023104,
     "end_time": "2022-12-30T04:02:58.903949",
     "exception": false,
     "start_time": "2022-12-30T04:02:58.880845",
     "status": "completed"
    },
    "tags": []
   },
   "outputs": [],
   "source": [
    "# print(\"MAE from Approach 2 (Ordinal Encoding):\") \n",
    "# print(score_dataset(label_X_train, label_X_valid, y_train, y_valid))"
   ]
  },
  {
   "cell_type": "markdown",
   "id": "6d6712f3",
   "metadata": {
    "papermill": {
     "duration": 0.01318,
     "end_time": "2022-12-30T04:02:58.930666",
     "exception": false,
     "start_time": "2022-12-30T04:02:58.917486",
     "status": "completed"
    },
    "tags": []
   },
   "source": [
    "So far, you've tried two different approaches to dealing with categorical variables.  And, you've seen that encoding categorical data yields better results than removing columns from the dataset.\n",
    "\n",
    "Soon, you'll try one-hot encoding.  Before then, there's one additional topic we need to cover.  Begin by running the next code cell without changes.  "
   ]
  },
  {
   "cell_type": "code",
   "execution_count": 15,
   "id": "c33f6ca6",
   "metadata": {
    "execution": {
     "iopub.execute_input": "2022-12-30T04:02:58.959408Z",
     "iopub.status.busy": "2022-12-30T04:02:58.958963Z",
     "iopub.status.idle": "2022-12-30T04:02:58.975267Z",
     "shell.execute_reply": "2022-12-30T04:02:58.974391Z"
    },
    "papermill": {
     "duration": 0.033175,
     "end_time": "2022-12-30T04:02:58.977485",
     "exception": false,
     "start_time": "2022-12-30T04:02:58.944310",
     "status": "completed"
    },
    "tags": []
   },
   "outputs": [
    {
     "data": {
      "text/plain": [
       "[('Street', 2),\n",
       " ('Utilities', 2),\n",
       " ('CentralAir', 2),\n",
       " ('LandSlope', 3),\n",
       " ('PavedDrive', 3),\n",
       " ('LotShape', 4),\n",
       " ('LandContour', 4),\n",
       " ('ExterQual', 4),\n",
       " ('KitchenQual', 4),\n",
       " ('MSZoning', 5),\n",
       " ('LotConfig', 5),\n",
       " ('BldgType', 5),\n",
       " ('ExterCond', 5),\n",
       " ('HeatingQC', 5),\n",
       " ('Condition2', 6),\n",
       " ('RoofStyle', 6),\n",
       " ('Foundation', 6),\n",
       " ('Heating', 6),\n",
       " ('Functional', 6),\n",
       " ('SaleCondition', 6),\n",
       " ('RoofMatl', 7),\n",
       " ('HouseStyle', 8),\n",
       " ('Condition1', 9),\n",
       " ('SaleType', 9),\n",
       " ('Exterior1st', 15),\n",
       " ('Exterior2nd', 16),\n",
       " ('Neighborhood', 25)]"
      ]
     },
     "execution_count": 15,
     "metadata": {},
     "output_type": "execute_result"
    }
   ],
   "source": [
    "# Get number of unique entries in each column with categorical data\n",
    "object_nunique = list(map(lambda col: X_train[col].nunique(), object_cols))\n",
    "d = dict(zip(object_cols, object_nunique))\n",
    "\n",
    "# Print number of unique entries by column, in ascending order\n",
    "sorted(d.items(), key=lambda x: x[1])"
   ]
  },
  {
   "cell_type": "markdown",
   "id": "cf982f87",
   "metadata": {
    "papermill": {
     "duration": 0.013132,
     "end_time": "2022-12-30T04:02:59.004534",
     "exception": false,
     "start_time": "2022-12-30T04:02:58.991402",
     "status": "completed"
    },
    "tags": []
   },
   "source": [
    "# Step 3: Investigating cardinality\n",
    "\n",
    "### Part A\n",
    "\n",
    "The output above shows, for each column with categorical data, the number of unique values in the column.  For instance, the `'Street'` column in the training data has two unique values: `'Grvl'` and `'Pave'`, corresponding to a gravel road and a paved road, respectively.\n",
    "\n",
    "We refer to the number of unique entries of a categorical variable as the **cardinality** of that categorical variable.  For instance, the `'Street'` variable has cardinality 2.\n",
    "\n",
    "Use the output above to answer the questions below."
   ]
  },
  {
   "cell_type": "code",
   "execution_count": 16,
   "id": "7d1612a0",
   "metadata": {
    "execution": {
     "iopub.execute_input": "2022-12-30T04:02:59.036724Z",
     "iopub.status.busy": "2022-12-30T04:02:59.035874Z",
     "iopub.status.idle": "2022-12-30T04:02:59.048208Z",
     "shell.execute_reply": "2022-12-30T04:02:59.046660Z"
    },
    "papermill": {
     "duration": 0.033076,
     "end_time": "2022-12-30T04:02:59.051260",
     "exception": false,
     "start_time": "2022-12-30T04:02:59.018184",
     "status": "completed"
    },
    "tags": []
   },
   "outputs": [
    {
     "data": {
      "application/javascript": [
       "parent.postMessage({\"jupyterEvent\": \"custom.exercise_interaction\", \"data\": {\"outcomeType\": 1, \"valueTowardsCompletion\": 0.5, \"interactionType\": 1, \"questionType\": 1, \"questionId\": \"3.1_CardinalityA\", \"learnToolsVersion\": \"0.3.4\", \"failureMessage\": \"\", \"exceptionClass\": \"\", \"trace\": \"\"}}, \"*\")"
      ],
      "text/plain": [
       "<IPython.core.display.Javascript object>"
      ]
     },
     "metadata": {},
     "output_type": "display_data"
    },
    {
     "data": {
      "text/markdown": [
       "<span style=\"color:#33cc33\">Correct</span>"
      ],
      "text/plain": [
       "Correct"
      ]
     },
     "metadata": {},
     "output_type": "display_data"
    }
   ],
   "source": [
    "# Fill in the line below: How many categorical variables in the training data\n",
    "# have cardinality greater than 10?\n",
    "high_cardinality_numcols = 3\n",
    "\n",
    "# Fill in the line below: How many columns are needed to one-hot encode the \n",
    "# 'Neighborhood' variable in the training data?\n",
    "num_cols_neighborhood = 25\n",
    "\n",
    "# Check your answers\n",
    "step_3.a.check()"
   ]
  },
  {
   "cell_type": "code",
   "execution_count": 17,
   "id": "30c5d9f2",
   "metadata": {
    "execution": {
     "iopub.execute_input": "2022-12-30T04:02:59.086870Z",
     "iopub.status.busy": "2022-12-30T04:02:59.086377Z",
     "iopub.status.idle": "2022-12-30T04:02:59.091528Z",
     "shell.execute_reply": "2022-12-30T04:02:59.090252Z"
    },
    "papermill": {
     "duration": 0.025236,
     "end_time": "2022-12-30T04:02:59.094079",
     "exception": false,
     "start_time": "2022-12-30T04:02:59.068843",
     "status": "completed"
    },
    "tags": []
   },
   "outputs": [],
   "source": [
    "# Lines below will give you a hint or solution code\n",
    "#step_3.a.hint()\n",
    "#step_3.a.solution()"
   ]
  },
  {
   "cell_type": "markdown",
   "id": "18a832ea",
   "metadata": {
    "papermill": {
     "duration": 0.013641,
     "end_time": "2022-12-30T04:02:59.121779",
     "exception": false,
     "start_time": "2022-12-30T04:02:59.108138",
     "status": "completed"
    },
    "tags": []
   },
   "source": [
    "### Part B\n",
    "\n",
    "For large datasets with many rows, one-hot encoding can greatly expand the size of the dataset.  For this reason, we typically will only one-hot encode columns with relatively low cardinality.  Then, high cardinality columns can either be dropped from the dataset, or we can use ordinal encoding.\n",
    "\n",
    "As an example, consider a dataset with 10,000 rows, and containing one categorical column with 100 unique entries.  \n",
    "- If this column is replaced with the corresponding one-hot encoding, how many entries are added to the dataset?  \n",
    "- If we instead replace the column with the ordinal encoding, how many entries are added?  \n",
    "\n",
    "Use your answers to fill in the lines below."
   ]
  },
  {
   "cell_type": "code",
   "execution_count": 18,
   "id": "72dc1f5c",
   "metadata": {
    "execution": {
     "iopub.execute_input": "2022-12-30T04:02:59.153591Z",
     "iopub.status.busy": "2022-12-30T04:02:59.153101Z",
     "iopub.status.idle": "2022-12-30T04:02:59.163789Z",
     "shell.execute_reply": "2022-12-30T04:02:59.162538Z"
    },
    "papermill": {
     "duration": 0.029873,
     "end_time": "2022-12-30T04:02:59.166405",
     "exception": false,
     "start_time": "2022-12-30T04:02:59.136532",
     "status": "completed"
    },
    "tags": []
   },
   "outputs": [
    {
     "data": {
      "application/javascript": [
       "parent.postMessage({\"jupyterEvent\": \"custom.exercise_interaction\", \"data\": {\"outcomeType\": 1, \"valueTowardsCompletion\": 0.5, \"interactionType\": 1, \"questionType\": 1, \"questionId\": \"3.2_CardinalityB\", \"learnToolsVersion\": \"0.3.4\", \"failureMessage\": \"\", \"exceptionClass\": \"\", \"trace\": \"\"}}, \"*\")"
      ],
      "text/plain": [
       "<IPython.core.display.Javascript object>"
      ]
     },
     "metadata": {},
     "output_type": "display_data"
    },
    {
     "data": {
      "text/markdown": [
       "<span style=\"color:#33cc33\">Correct</span>"
      ],
      "text/plain": [
       "Correct"
      ]
     },
     "metadata": {},
     "output_type": "display_data"
    }
   ],
   "source": [
    "# Fill in the line below: How many entries are added to the dataset by \n",
    "# replacing the column with a one-hot encoding?\n",
    "OH_entries_added = 1e4*100 - 1e4\n",
    "\n",
    "# Fill in the line below: How many entries are added to the dataset by\n",
    "# replacing the column with an ordinal encoding?\n",
    "label_entries_added = 0\n",
    "\n",
    "# Check your answers\n",
    "step_3.b.check()"
   ]
  },
  {
   "cell_type": "code",
   "execution_count": 19,
   "id": "d7e10663",
   "metadata": {
    "execution": {
     "iopub.execute_input": "2022-12-30T04:02:59.196642Z",
     "iopub.status.busy": "2022-12-30T04:02:59.196189Z",
     "iopub.status.idle": "2022-12-30T04:02:59.200912Z",
     "shell.execute_reply": "2022-12-30T04:02:59.199948Z"
    },
    "papermill": {
     "duration": 0.022502,
     "end_time": "2022-12-30T04:02:59.203246",
     "exception": false,
     "start_time": "2022-12-30T04:02:59.180744",
     "status": "completed"
    },
    "tags": []
   },
   "outputs": [],
   "source": [
    "# Lines below will give you a hint or solution code\n",
    "#step_3.b.hint()\n",
    "#step_3.b.solution()"
   ]
  },
  {
   "cell_type": "markdown",
   "id": "8ba5f8f3",
   "metadata": {
    "papermill": {
     "duration": 0.013674,
     "end_time": "2022-12-30T04:02:59.231097",
     "exception": false,
     "start_time": "2022-12-30T04:02:59.217423",
     "status": "completed"
    },
    "tags": []
   },
   "source": [
    "Next, you'll experiment with one-hot encoding.  But, instead of encoding all of the categorical variables in the dataset, you'll only create a one-hot encoding for columns with cardinality less than 10.\n",
    "\n",
    "Run the code cell below without changes to set `low_cardinality_cols` to a Python list containing the columns that will be one-hot encoded.  Likewise, `high_cardinality_cols` contains a list of categorical columns that will be dropped from the dataset."
   ]
  },
  {
   "cell_type": "code",
   "execution_count": 20,
   "id": "7efacc04",
   "metadata": {
    "execution": {
     "iopub.execute_input": "2022-12-30T04:02:59.261247Z",
     "iopub.status.busy": "2022-12-30T04:02:59.260479Z",
     "iopub.status.idle": "2022-12-30T04:02:59.272495Z",
     "shell.execute_reply": "2022-12-30T04:02:59.271442Z"
    },
    "papermill": {
     "duration": 0.030153,
     "end_time": "2022-12-30T04:02:59.275231",
     "exception": false,
     "start_time": "2022-12-30T04:02:59.245078",
     "status": "completed"
    },
    "tags": []
   },
   "outputs": [
    {
     "name": "stdout",
     "output_type": "stream",
     "text": [
      "Categorical columns that will be one-hot encoded: ['MSZoning', 'Street', 'LotShape', 'LandContour', 'Utilities', 'LotConfig', 'LandSlope', 'Condition1', 'Condition2', 'BldgType', 'HouseStyle', 'RoofStyle', 'RoofMatl', 'ExterQual', 'ExterCond', 'Foundation', 'Heating', 'HeatingQC', 'CentralAir', 'KitchenQual', 'Functional', 'PavedDrive', 'SaleType', 'SaleCondition']\n",
      "\n",
      "Categorical columns that will be dropped from the dataset: ['Exterior2nd', 'Neighborhood', 'Exterior1st']\n"
     ]
    }
   ],
   "source": [
    "# Columns that will be one-hot encoded\n",
    "low_cardinality_cols = [col for col in object_cols if X_train[col].nunique() < 10]\n",
    "\n",
    "# Columns that will be dropped from the dataset\n",
    "high_cardinality_cols = list(set(object_cols)-set(low_cardinality_cols))\n",
    "\n",
    "print('Categorical columns that will be one-hot encoded:', low_cardinality_cols)\n",
    "print('\\nCategorical columns that will be dropped from the dataset:', high_cardinality_cols)\n"
   ]
  },
  {
   "cell_type": "markdown",
   "id": "98aa929c",
   "metadata": {
    "papermill": {
     "duration": 0.013793,
     "end_time": "2022-12-30T04:02:59.303302",
     "exception": false,
     "start_time": "2022-12-30T04:02:59.289509",
     "status": "completed"
    },
    "tags": []
   },
   "source": [
    "# Step 4: One-hot encoding\n",
    "\n",
    "Use the next code cell to one-hot encode the data in `X_train` and `X_valid`.  Set the preprocessed DataFrames to `OH_X_train` and `OH_X_valid`, respectively.  \n",
    "- The full list of categorical columns in the dataset can be found in the Python list `object_cols`.\n",
    "- You should only one-hot encode the categorical columns in `low_cardinality_cols`.  All other categorical columns should be dropped from the dataset. "
   ]
  },
  {
   "cell_type": "code",
   "execution_count": 21,
   "id": "fd968f15",
   "metadata": {
    "execution": {
     "iopub.execute_input": "2022-12-30T04:02:59.333807Z",
     "iopub.status.busy": "2022-12-30T04:02:59.333338Z",
     "iopub.status.idle": "2022-12-30T04:02:59.353379Z",
     "shell.execute_reply": "2022-12-30T04:02:59.351838Z"
    },
    "papermill": {
     "duration": 0.038416,
     "end_time": "2022-12-30T04:02:59.355855",
     "exception": false,
     "start_time": "2022-12-30T04:02:59.317439",
     "status": "completed"
    },
    "tags": []
   },
   "outputs": [
    {
     "name": "stdout",
     "output_type": "stream",
     "text": [
      "Categorical columns that will be one-hot encoded: ['MSZoning', 'Street', 'LotShape', 'LandContour', 'Utilities', 'LotConfig', 'LandSlope', 'Condition1', 'Condition2', 'BldgType', 'HouseStyle', 'RoofStyle', 'RoofMatl', 'ExterQual', 'ExterCond', 'Foundation', 'Heating', 'HeatingQC', 'CentralAir', 'KitchenQual', 'Functional', 'PavedDrive', 'SaleType', 'SaleCondition']\n",
      "\n",
      "Categorical columns that will be dropped from the dataset: ['Exterior2nd', 'Neighborhood', 'Exterior1st']\n",
      "\n",
      "Numerical Columns from the dataset: ['MSSubClass', 'LotArea', 'OverallQual', 'OverallCond', 'YearBuilt', 'YearRemodAdd', 'BsmtFinSF1', 'BsmtFinSF2', 'BsmtUnfSF', 'TotalBsmtSF', '1stFlrSF', '2ndFlrSF', 'LowQualFinSF', 'GrLivArea', 'BsmtFullBath', 'BsmtHalfBath', 'FullBath', 'HalfBath', 'BedroomAbvGr', 'KitchenAbvGr', 'TotRmsAbvGrd', 'Fireplaces', 'GarageCars', 'GarageArea', 'WoodDeckSF', 'OpenPorchSF', 'EnclosedPorch', '3SsnPorch', 'ScreenPorch', 'PoolArea', 'MiscVal', 'MoSold', 'YrSold'] \n",
      "\n"
     ]
    }
   ],
   "source": [
    "# \"Cardinality\" means the number of unique values in a column\n",
    "# Get list of categorical variables\n",
    "s = (X_train.dtypes == 'object')\n",
    "object_cols = list(s[s].index)\n",
    "# Select categorical columns with relatively low cardinality (convenient but arbitrary)\n",
    "low_cardinality_cols = [col for col in object_cols if X_train[col].nunique() < 10]\n",
    "# Columns that will be dropped from the dataset\n",
    "high_cardinality_cols = list(set(object_cols)-set(low_cardinality_cols))\n",
    "\n",
    "print('Categorical columns that will be one-hot encoded:', low_cardinality_cols)\n",
    "print('\\nCategorical columns that will be dropped from the dataset:', high_cardinality_cols)\n",
    "\n",
    "\n",
    "#Or you can do this if you know the columns to drop\n",
    "# X.drop(['Name', 'Cabin', 'Ticket'], axis=1, inplace=True)\n",
    "\n",
    "# Select numerical columns\n",
    "numerical_cols = [cname for cname in X_train.columns if X_train[cname].dtype in ['int64', 'float64']]\n",
    "print('\\nNumerical Columns from the dataset:', numerical_cols,'\\n')\n",
    "\n",
    "# Keep selected columns only\n",
    "my_cols = low_cardinality_cols + numerical_cols  \n",
    "# my_cols = train_data['Cabin']\n",
    "X_train = X_train[my_cols].copy()\n",
    "X_valid = X_valid[my_cols].copy()\n",
    "\n",
    "\n",
    "# # Get number of unique entries in each column with categorical data\n",
    "# object_nunique = list(map(lambda col: X_train[col].nunique(), object_cols))\n",
    "# d = dict(zip(object_cols, object_nunique))\n",
    "\n",
    "# # # # Print number of unique entries by column, in ascending order\n",
    "# print('Number of Unique entries :',sorted(d.items(), key=lambda x: x[1]))"
   ]
  },
  {
   "cell_type": "code",
   "execution_count": 22,
   "id": "c8968d58",
   "metadata": {
    "execution": {
     "iopub.execute_input": "2022-12-30T04:02:59.387290Z",
     "iopub.status.busy": "2022-12-30T04:02:59.386657Z",
     "iopub.status.idle": "2022-12-30T04:02:59.427763Z",
     "shell.execute_reply": "2022-12-30T04:02:59.426089Z"
    },
    "papermill": {
     "duration": 0.059826,
     "end_time": "2022-12-30T04:02:59.430607",
     "exception": false,
     "start_time": "2022-12-30T04:02:59.370781",
     "status": "completed"
    },
    "tags": []
   },
   "outputs": [
    {
     "name": "stdout",
     "output_type": "stream",
     "text": [
      "(1168, 57)\n",
      "(292, 155)\n"
     ]
    }
   ],
   "source": [
    "#Selecting Training Data with categories using oneHot encoder and splitting to train and validation \n",
    "from sklearn.preprocessing import OneHotEncoder\n",
    "s = (X_train.dtypes == 'object')\n",
    "object_cols = list(s[s].index)\n",
    "# features = [\"Pclass\", \"Sex\", \"SibSp\", \"Parch\", 'Embarked','Age']\n",
    "# Apply one-hot encoder to each column with categorical data\n",
    "OH_encoder = OneHotEncoder(handle_unknown='ignore', sparse=False)\n",
    "OH_cols_train = pd.DataFrame(OH_encoder.fit_transform(X_train[object_cols]))\n",
    "OH_cols_valid = pd.DataFrame(OH_encoder.transform(X_valid[object_cols]))\n",
    "\n",
    "# One-hot encoding removed index; put it back\n",
    "OH_cols_train.index = X_train.index\n",
    "OH_cols_valid.index = X_valid.index\n",
    "\n",
    "# Remove categorical columns (will replace with one-hot encoding)\n",
    "num_X_train = X_train.drop(object_cols, axis=1)\n",
    "num_X_valid = X_valid.drop(object_cols, axis=1)\n",
    "\n",
    "# Add one-hot encoded columns to numerical features\n",
    "OH_X_train = pd.concat([num_X_train, OH_cols_train], axis=1)\n",
    "OH_X_valid = pd.concat([num_X_valid, OH_cols_valid], axis=1)\n",
    "print(X_train.shape)\n",
    "\n",
    "print(OH_X_valid.shape)\n"
   ]
  },
  {
   "cell_type": "code",
   "execution_count": 23,
   "id": "aa94bbd3",
   "metadata": {
    "execution": {
     "iopub.execute_input": "2022-12-30T04:02:59.461372Z",
     "iopub.status.busy": "2022-12-30T04:02:59.460926Z",
     "iopub.status.idle": "2022-12-30T04:02:59.465826Z",
     "shell.execute_reply": "2022-12-30T04:02:59.464611Z"
    },
    "papermill": {
     "duration": 0.023244,
     "end_time": "2022-12-30T04:02:59.468396",
     "exception": false,
     "start_time": "2022-12-30T04:02:59.445152",
     "status": "completed"
    },
    "tags": []
   },
   "outputs": [],
   "source": [
    "# Lines below will give you a hint or solution code\n",
    "#step_4.hint()\n",
    "#step_4.solution()"
   ]
  },
  {
   "cell_type": "markdown",
   "id": "d6236527",
   "metadata": {
    "papermill": {
     "duration": 0.015386,
     "end_time": "2022-12-30T04:02:59.498201",
     "exception": false,
     "start_time": "2022-12-30T04:02:59.482815",
     "status": "completed"
    },
    "tags": []
   },
   "source": [
    "Run the next code cell to get the MAE for this approach."
   ]
  },
  {
   "cell_type": "markdown",
   "id": "1da91719",
   "metadata": {
    "papermill": {
     "duration": 0.017371,
     "end_time": "2022-12-30T04:02:59.536652",
     "exception": false,
     "start_time": "2022-12-30T04:02:59.519281",
     "status": "completed"
    },
    "tags": []
   },
   "source": [
    "## Handling Missing Values "
   ]
  },
  {
   "cell_type": "code",
   "execution_count": 24,
   "id": "464de194",
   "metadata": {
    "execution": {
     "iopub.execute_input": "2022-12-30T04:02:59.579508Z",
     "iopub.status.busy": "2022-12-30T04:02:59.578908Z",
     "iopub.status.idle": "2022-12-30T04:02:59.628060Z",
     "shell.execute_reply": "2022-12-30T04:02:59.626910Z"
    },
    "papermill": {
     "duration": 0.073958,
     "end_time": "2022-12-30T04:02:59.630918",
     "exception": false,
     "start_time": "2022-12-30T04:02:59.556960",
     "status": "completed"
    },
    "tags": []
   },
   "outputs": [
    {
     "name": "stdout",
     "output_type": "stream",
     "text": [
      "(1168, 155)\n",
      "Series([], dtype: int64)\n"
     ]
    }
   ],
   "source": [
    "# Get names of columns with missing values in Xtrain\n",
    "cols_with_missing = [col for col in OH_X_train.columns\n",
    "                     if OH_X_train[col].isnull().any()]\n",
    "\n",
    "# Shape of training data (num_rows, num_columns)\n",
    "print(OH_X_train.shape)\n",
    "\n",
    "# Number of missing values in each column of training data\n",
    "missing_val_count_by_column = (OH_X_train.isnull().sum())\n",
    "print(missing_val_count_by_column[missing_val_count_by_column > 0])"
   ]
  },
  {
   "cell_type": "code",
   "execution_count": 25,
   "id": "b6eb0e0f",
   "metadata": {
    "execution": {
     "iopub.execute_input": "2022-12-30T04:02:59.661660Z",
     "iopub.status.busy": "2022-12-30T04:02:59.661228Z",
     "iopub.status.idle": "2022-12-30T04:02:59.699812Z",
     "shell.execute_reply": "2022-12-30T04:02:59.698247Z"
    },
    "papermill": {
     "duration": 0.05691,
     "end_time": "2022-12-30T04:02:59.702272",
     "exception": false,
     "start_time": "2022-12-30T04:02:59.645362",
     "status": "completed"
    },
    "tags": []
   },
   "outputs": [
    {
     "name": "stdout",
     "output_type": "stream",
     "text": [
      "(292, 155)\n",
      "Series([], dtype: int64)\n"
     ]
    }
   ],
   "source": [
    "# Get names of columns with missing values in Valid_X\n",
    "cols_with_missing = [col for col in OH_X_valid.columns\n",
    "                     if OH_X_valid[col].isnull().any()]\n",
    "\n",
    "# Shape of training data (num_rows, num_columns)\n",
    "print(OH_X_valid.shape)\n",
    "\n",
    "# Number of missing values in each column of training data\n",
    "missing_val_count_by_column = (OH_X_valid.isnull().sum())\n",
    "print(missing_val_count_by_column[missing_val_count_by_column > 0])\n"
   ]
  },
  {
   "cell_type": "code",
   "execution_count": 26,
   "id": "2f42a221",
   "metadata": {
    "execution": {
     "iopub.execute_input": "2022-12-30T04:02:59.733982Z",
     "iopub.status.busy": "2022-12-30T04:02:59.733023Z",
     "iopub.status.idle": "2022-12-30T04:02:59.768079Z",
     "shell.execute_reply": "2022-12-30T04:02:59.765158Z"
    },
    "papermill": {
     "duration": 0.054322,
     "end_time": "2022-12-30T04:02:59.771407",
     "exception": false,
     "start_time": "2022-12-30T04:02:59.717085",
     "status": "completed"
    },
    "tags": []
   },
   "outputs": [
    {
     "name": "stderr",
     "output_type": "stream",
     "text": [
      "/opt/conda/lib/python3.7/site-packages/sklearn/utils/validation.py:1692: FutureWarning: Feature names only support names that are all strings. Got feature names with dtypes: ['int', 'str']. An error will be raised in 1.2.\n",
      "  FutureWarning,\n",
      "/opt/conda/lib/python3.7/site-packages/sklearn/utils/validation.py:1692: FutureWarning: Feature names only support names that are all strings. Got feature names with dtypes: ['int', 'str']. An error will be raised in 1.2.\n",
      "  FutureWarning,\n",
      "/opt/conda/lib/python3.7/site-packages/sklearn/utils/validation.py:1692: FutureWarning: Feature names only support names that are all strings. Got feature names with dtypes: ['int', 'str']. An error will be raised in 1.2.\n",
      "  FutureWarning,\n"
     ]
    }
   ],
   "source": [
    "#For Handling Missing Values \n",
    "from sklearn.impute import SimpleImputer\n",
    "# Imputation\n",
    "my_imputer = SimpleImputer()\n",
    "imputed_X_train = pd.DataFrame(my_imputer.fit_transform(OH_X_train))\n",
    "imputed_X_valid = pd.DataFrame(my_imputer.transform(OH_X_valid))\n",
    "\n",
    "# Imputation removed column names; put them back\n",
    "imputed_X_train.columns = OH_X_train.columns\n",
    "imputed_X_valid.columns = OH_X_valid.columns\n"
   ]
  },
  {
   "cell_type": "code",
   "execution_count": 27,
   "id": "b86e8368",
   "metadata": {
    "execution": {
     "iopub.execute_input": "2022-12-30T04:02:59.804414Z",
     "iopub.status.busy": "2022-12-30T04:02:59.803195Z",
     "iopub.status.idle": "2022-12-30T04:03:01.608481Z",
     "shell.execute_reply": "2022-12-30T04:03:01.606896Z"
    },
    "papermill": {
     "duration": 1.825076,
     "end_time": "2022-12-30T04:03:01.611114",
     "exception": false,
     "start_time": "2022-12-30T04:02:59.786038",
     "status": "completed"
    },
    "tags": []
   },
   "outputs": [
    {
     "name": "stdout",
     "output_type": "stream",
     "text": [
      "MAE from Approach 3 (One-Hot Encoding):\n"
     ]
    },
    {
     "name": "stderr",
     "output_type": "stream",
     "text": [
      "/opt/conda/lib/python3.7/site-packages/sklearn/utils/validation.py:1692: FutureWarning: Feature names only support names that are all strings. Got feature names with dtypes: ['int', 'str']. An error will be raised in 1.2.\n",
      "  FutureWarning,\n"
     ]
    },
    {
     "name": "stdout",
     "output_type": "stream",
     "text": [
      "17525.345719178084\n"
     ]
    },
    {
     "name": "stderr",
     "output_type": "stream",
     "text": [
      "/opt/conda/lib/python3.7/site-packages/sklearn/utils/validation.py:1692: FutureWarning: Feature names only support names that are all strings. Got feature names with dtypes: ['int', 'str']. An error will be raised in 1.2.\n",
      "  FutureWarning,\n"
     ]
    }
   ],
   "source": [
    "print(\"MAE from Approach 3 (One-Hot Encoding):\") \n",
    "print(score_dataset(imputed_X_train, imputed_X_valid, y_train, y_valid))"
   ]
  },
  {
   "cell_type": "markdown",
   "id": "38543511",
   "metadata": {
    "papermill": {
     "duration": 0.014359,
     "end_time": "2022-12-30T04:03:01.640483",
     "exception": false,
     "start_time": "2022-12-30T04:03:01.626124",
     "status": "completed"
    },
    "tags": []
   },
   "source": [
    "## **Generate Test Predictions**"
   ]
  },
  {
   "cell_type": "markdown",
   "id": "3fca4d2c",
   "metadata": {
    "papermill": {
     "duration": 0.014654,
     "end_time": "2022-12-30T04:03:01.669734",
     "exception": false,
     "start_time": "2022-12-30T04:03:01.655080",
     "status": "completed"
    },
    "tags": []
   },
   "source": [
    "### Data Preprocessing for Testing Set"
   ]
  },
  {
   "cell_type": "code",
   "execution_count": 28,
   "id": "c62786cb",
   "metadata": {
    "execution": {
     "iopub.execute_input": "2022-12-30T04:03:01.701181Z",
     "iopub.status.busy": "2022-12-30T04:03:01.700736Z",
     "iopub.status.idle": "2022-12-30T04:03:01.730502Z",
     "shell.execute_reply": "2022-12-30T04:03:01.729524Z"
    },
    "papermill": {
     "duration": 0.048332,
     "end_time": "2022-12-30T04:03:01.732842",
     "exception": false,
     "start_time": "2022-12-30T04:03:01.684510",
     "status": "completed"
    },
    "tags": []
   },
   "outputs": [
    {
     "data": {
      "text/html": [
       "<div>\n",
       "<style scoped>\n",
       "    .dataframe tbody tr th:only-of-type {\n",
       "        vertical-align: middle;\n",
       "    }\n",
       "\n",
       "    .dataframe tbody tr th {\n",
       "        vertical-align: top;\n",
       "    }\n",
       "\n",
       "    .dataframe thead th {\n",
       "        text-align: right;\n",
       "    }\n",
       "</style>\n",
       "<table border=\"1\" class=\"dataframe\">\n",
       "  <thead>\n",
       "    <tr style=\"text-align: right;\">\n",
       "      <th></th>\n",
       "      <th>MSSubClass</th>\n",
       "      <th>MSZoning</th>\n",
       "      <th>LotArea</th>\n",
       "      <th>Street</th>\n",
       "      <th>LotShape</th>\n",
       "      <th>LandContour</th>\n",
       "      <th>Utilities</th>\n",
       "      <th>LotConfig</th>\n",
       "      <th>LandSlope</th>\n",
       "      <th>Neighborhood</th>\n",
       "      <th>...</th>\n",
       "      <th>OpenPorchSF</th>\n",
       "      <th>EnclosedPorch</th>\n",
       "      <th>3SsnPorch</th>\n",
       "      <th>ScreenPorch</th>\n",
       "      <th>PoolArea</th>\n",
       "      <th>MiscVal</th>\n",
       "      <th>MoSold</th>\n",
       "      <th>YrSold</th>\n",
       "      <th>SaleType</th>\n",
       "      <th>SaleCondition</th>\n",
       "    </tr>\n",
       "    <tr>\n",
       "      <th>Id</th>\n",
       "      <th></th>\n",
       "      <th></th>\n",
       "      <th></th>\n",
       "      <th></th>\n",
       "      <th></th>\n",
       "      <th></th>\n",
       "      <th></th>\n",
       "      <th></th>\n",
       "      <th></th>\n",
       "      <th></th>\n",
       "      <th></th>\n",
       "      <th></th>\n",
       "      <th></th>\n",
       "      <th></th>\n",
       "      <th></th>\n",
       "      <th></th>\n",
       "      <th></th>\n",
       "      <th></th>\n",
       "      <th></th>\n",
       "      <th></th>\n",
       "      <th></th>\n",
       "    </tr>\n",
       "  </thead>\n",
       "  <tbody>\n",
       "    <tr>\n",
       "      <th>1461</th>\n",
       "      <td>20</td>\n",
       "      <td>RH</td>\n",
       "      <td>11622</td>\n",
       "      <td>Pave</td>\n",
       "      <td>Reg</td>\n",
       "      <td>Lvl</td>\n",
       "      <td>AllPub</td>\n",
       "      <td>Inside</td>\n",
       "      <td>Gtl</td>\n",
       "      <td>NAmes</td>\n",
       "      <td>...</td>\n",
       "      <td>0</td>\n",
       "      <td>0</td>\n",
       "      <td>0</td>\n",
       "      <td>120</td>\n",
       "      <td>0</td>\n",
       "      <td>0</td>\n",
       "      <td>6</td>\n",
       "      <td>2010</td>\n",
       "      <td>WD</td>\n",
       "      <td>Normal</td>\n",
       "    </tr>\n",
       "    <tr>\n",
       "      <th>1462</th>\n",
       "      <td>20</td>\n",
       "      <td>RL</td>\n",
       "      <td>14267</td>\n",
       "      <td>Pave</td>\n",
       "      <td>IR1</td>\n",
       "      <td>Lvl</td>\n",
       "      <td>AllPub</td>\n",
       "      <td>Corner</td>\n",
       "      <td>Gtl</td>\n",
       "      <td>NAmes</td>\n",
       "      <td>...</td>\n",
       "      <td>36</td>\n",
       "      <td>0</td>\n",
       "      <td>0</td>\n",
       "      <td>0</td>\n",
       "      <td>0</td>\n",
       "      <td>12500</td>\n",
       "      <td>6</td>\n",
       "      <td>2010</td>\n",
       "      <td>WD</td>\n",
       "      <td>Normal</td>\n",
       "    </tr>\n",
       "    <tr>\n",
       "      <th>1463</th>\n",
       "      <td>60</td>\n",
       "      <td>RL</td>\n",
       "      <td>13830</td>\n",
       "      <td>Pave</td>\n",
       "      <td>IR1</td>\n",
       "      <td>Lvl</td>\n",
       "      <td>AllPub</td>\n",
       "      <td>Inside</td>\n",
       "      <td>Gtl</td>\n",
       "      <td>Gilbert</td>\n",
       "      <td>...</td>\n",
       "      <td>34</td>\n",
       "      <td>0</td>\n",
       "      <td>0</td>\n",
       "      <td>0</td>\n",
       "      <td>0</td>\n",
       "      <td>0</td>\n",
       "      <td>3</td>\n",
       "      <td>2010</td>\n",
       "      <td>WD</td>\n",
       "      <td>Normal</td>\n",
       "    </tr>\n",
       "    <tr>\n",
       "      <th>1464</th>\n",
       "      <td>60</td>\n",
       "      <td>RL</td>\n",
       "      <td>9978</td>\n",
       "      <td>Pave</td>\n",
       "      <td>IR1</td>\n",
       "      <td>Lvl</td>\n",
       "      <td>AllPub</td>\n",
       "      <td>Inside</td>\n",
       "      <td>Gtl</td>\n",
       "      <td>Gilbert</td>\n",
       "      <td>...</td>\n",
       "      <td>36</td>\n",
       "      <td>0</td>\n",
       "      <td>0</td>\n",
       "      <td>0</td>\n",
       "      <td>0</td>\n",
       "      <td>0</td>\n",
       "      <td>6</td>\n",
       "      <td>2010</td>\n",
       "      <td>WD</td>\n",
       "      <td>Normal</td>\n",
       "    </tr>\n",
       "    <tr>\n",
       "      <th>1465</th>\n",
       "      <td>120</td>\n",
       "      <td>RL</td>\n",
       "      <td>5005</td>\n",
       "      <td>Pave</td>\n",
       "      <td>IR1</td>\n",
       "      <td>HLS</td>\n",
       "      <td>AllPub</td>\n",
       "      <td>Inside</td>\n",
       "      <td>Gtl</td>\n",
       "      <td>StoneBr</td>\n",
       "      <td>...</td>\n",
       "      <td>82</td>\n",
       "      <td>0</td>\n",
       "      <td>0</td>\n",
       "      <td>144</td>\n",
       "      <td>0</td>\n",
       "      <td>0</td>\n",
       "      <td>1</td>\n",
       "      <td>2010</td>\n",
       "      <td>WD</td>\n",
       "      <td>Normal</td>\n",
       "    </tr>\n",
       "    <tr>\n",
       "      <th>...</th>\n",
       "      <td>...</td>\n",
       "      <td>...</td>\n",
       "      <td>...</td>\n",
       "      <td>...</td>\n",
       "      <td>...</td>\n",
       "      <td>...</td>\n",
       "      <td>...</td>\n",
       "      <td>...</td>\n",
       "      <td>...</td>\n",
       "      <td>...</td>\n",
       "      <td>...</td>\n",
       "      <td>...</td>\n",
       "      <td>...</td>\n",
       "      <td>...</td>\n",
       "      <td>...</td>\n",
       "      <td>...</td>\n",
       "      <td>...</td>\n",
       "      <td>...</td>\n",
       "      <td>...</td>\n",
       "      <td>...</td>\n",
       "      <td>...</td>\n",
       "    </tr>\n",
       "    <tr>\n",
       "      <th>2915</th>\n",
       "      <td>160</td>\n",
       "      <td>RM</td>\n",
       "      <td>1936</td>\n",
       "      <td>Pave</td>\n",
       "      <td>Reg</td>\n",
       "      <td>Lvl</td>\n",
       "      <td>AllPub</td>\n",
       "      <td>Inside</td>\n",
       "      <td>Gtl</td>\n",
       "      <td>MeadowV</td>\n",
       "      <td>...</td>\n",
       "      <td>0</td>\n",
       "      <td>0</td>\n",
       "      <td>0</td>\n",
       "      <td>0</td>\n",
       "      <td>0</td>\n",
       "      <td>0</td>\n",
       "      <td>6</td>\n",
       "      <td>2006</td>\n",
       "      <td>WD</td>\n",
       "      <td>Normal</td>\n",
       "    </tr>\n",
       "    <tr>\n",
       "      <th>2916</th>\n",
       "      <td>160</td>\n",
       "      <td>RM</td>\n",
       "      <td>1894</td>\n",
       "      <td>Pave</td>\n",
       "      <td>Reg</td>\n",
       "      <td>Lvl</td>\n",
       "      <td>AllPub</td>\n",
       "      <td>Inside</td>\n",
       "      <td>Gtl</td>\n",
       "      <td>MeadowV</td>\n",
       "      <td>...</td>\n",
       "      <td>24</td>\n",
       "      <td>0</td>\n",
       "      <td>0</td>\n",
       "      <td>0</td>\n",
       "      <td>0</td>\n",
       "      <td>0</td>\n",
       "      <td>4</td>\n",
       "      <td>2006</td>\n",
       "      <td>WD</td>\n",
       "      <td>Abnorml</td>\n",
       "    </tr>\n",
       "    <tr>\n",
       "      <th>2917</th>\n",
       "      <td>20</td>\n",
       "      <td>RL</td>\n",
       "      <td>20000</td>\n",
       "      <td>Pave</td>\n",
       "      <td>Reg</td>\n",
       "      <td>Lvl</td>\n",
       "      <td>AllPub</td>\n",
       "      <td>Inside</td>\n",
       "      <td>Gtl</td>\n",
       "      <td>Mitchel</td>\n",
       "      <td>...</td>\n",
       "      <td>0</td>\n",
       "      <td>0</td>\n",
       "      <td>0</td>\n",
       "      <td>0</td>\n",
       "      <td>0</td>\n",
       "      <td>0</td>\n",
       "      <td>9</td>\n",
       "      <td>2006</td>\n",
       "      <td>WD</td>\n",
       "      <td>Abnorml</td>\n",
       "    </tr>\n",
       "    <tr>\n",
       "      <th>2918</th>\n",
       "      <td>85</td>\n",
       "      <td>RL</td>\n",
       "      <td>10441</td>\n",
       "      <td>Pave</td>\n",
       "      <td>Reg</td>\n",
       "      <td>Lvl</td>\n",
       "      <td>AllPub</td>\n",
       "      <td>Inside</td>\n",
       "      <td>Gtl</td>\n",
       "      <td>Mitchel</td>\n",
       "      <td>...</td>\n",
       "      <td>32</td>\n",
       "      <td>0</td>\n",
       "      <td>0</td>\n",
       "      <td>0</td>\n",
       "      <td>0</td>\n",
       "      <td>700</td>\n",
       "      <td>7</td>\n",
       "      <td>2006</td>\n",
       "      <td>WD</td>\n",
       "      <td>Normal</td>\n",
       "    </tr>\n",
       "    <tr>\n",
       "      <th>2919</th>\n",
       "      <td>60</td>\n",
       "      <td>RL</td>\n",
       "      <td>9627</td>\n",
       "      <td>Pave</td>\n",
       "      <td>Reg</td>\n",
       "      <td>Lvl</td>\n",
       "      <td>AllPub</td>\n",
       "      <td>Inside</td>\n",
       "      <td>Mod</td>\n",
       "      <td>Mitchel</td>\n",
       "      <td>...</td>\n",
       "      <td>48</td>\n",
       "      <td>0</td>\n",
       "      <td>0</td>\n",
       "      <td>0</td>\n",
       "      <td>0</td>\n",
       "      <td>0</td>\n",
       "      <td>11</td>\n",
       "      <td>2006</td>\n",
       "      <td>WD</td>\n",
       "      <td>Normal</td>\n",
       "    </tr>\n",
       "  </tbody>\n",
       "</table>\n",
       "<p>1459 rows × 60 columns</p>\n",
       "</div>"
      ],
      "text/plain": [
       "      MSSubClass MSZoning  LotArea Street LotShape LandContour Utilities  \\\n",
       "Id                                                                         \n",
       "1461          20       RH    11622   Pave      Reg         Lvl    AllPub   \n",
       "1462          20       RL    14267   Pave      IR1         Lvl    AllPub   \n",
       "1463          60       RL    13830   Pave      IR1         Lvl    AllPub   \n",
       "1464          60       RL     9978   Pave      IR1         Lvl    AllPub   \n",
       "1465         120       RL     5005   Pave      IR1         HLS    AllPub   \n",
       "...          ...      ...      ...    ...      ...         ...       ...   \n",
       "2915         160       RM     1936   Pave      Reg         Lvl    AllPub   \n",
       "2916         160       RM     1894   Pave      Reg         Lvl    AllPub   \n",
       "2917          20       RL    20000   Pave      Reg         Lvl    AllPub   \n",
       "2918          85       RL    10441   Pave      Reg         Lvl    AllPub   \n",
       "2919          60       RL     9627   Pave      Reg         Lvl    AllPub   \n",
       "\n",
       "     LotConfig LandSlope Neighborhood  ... OpenPorchSF EnclosedPorch  \\\n",
       "Id                                     ...                             \n",
       "1461    Inside       Gtl        NAmes  ...           0             0   \n",
       "1462    Corner       Gtl        NAmes  ...          36             0   \n",
       "1463    Inside       Gtl      Gilbert  ...          34             0   \n",
       "1464    Inside       Gtl      Gilbert  ...          36             0   \n",
       "1465    Inside       Gtl      StoneBr  ...          82             0   \n",
       "...        ...       ...          ...  ...         ...           ...   \n",
       "2915    Inside       Gtl      MeadowV  ...           0             0   \n",
       "2916    Inside       Gtl      MeadowV  ...          24             0   \n",
       "2917    Inside       Gtl      Mitchel  ...           0             0   \n",
       "2918    Inside       Gtl      Mitchel  ...          32             0   \n",
       "2919    Inside       Mod      Mitchel  ...          48             0   \n",
       "\n",
       "     3SsnPorch ScreenPorch  PoolArea  MiscVal  MoSold  YrSold SaleType  \\\n",
       "Id                                                                       \n",
       "1461         0         120         0        0       6    2010       WD   \n",
       "1462         0           0         0    12500       6    2010       WD   \n",
       "1463         0           0         0        0       3    2010       WD   \n",
       "1464         0           0         0        0       6    2010       WD   \n",
       "1465         0         144         0        0       1    2010       WD   \n",
       "...        ...         ...       ...      ...     ...     ...      ...   \n",
       "2915         0           0         0        0       6    2006       WD   \n",
       "2916         0           0         0        0       4    2006       WD   \n",
       "2917         0           0         0        0       9    2006       WD   \n",
       "2918         0           0         0      700       7    2006       WD   \n",
       "2919         0           0         0        0      11    2006       WD   \n",
       "\n",
       "     SaleCondition  \n",
       "Id                  \n",
       "1461        Normal  \n",
       "1462        Normal  \n",
       "1463        Normal  \n",
       "1464        Normal  \n",
       "1465        Normal  \n",
       "...            ...  \n",
       "2915        Normal  \n",
       "2916       Abnorml  \n",
       "2917       Abnorml  \n",
       "2918        Normal  \n",
       "2919        Normal  \n",
       "\n",
       "[1459 rows x 60 columns]"
      ]
     },
     "execution_count": 28,
     "metadata": {},
     "output_type": "execute_result"
    }
   ],
   "source": [
    "X_test"
   ]
  },
  {
   "cell_type": "code",
   "execution_count": 29,
   "id": "97c04171",
   "metadata": {
    "execution": {
     "iopub.execute_input": "2022-12-30T04:03:01.765673Z",
     "iopub.status.busy": "2022-12-30T04:03:01.764968Z",
     "iopub.status.idle": "2022-12-30T04:03:01.800211Z",
     "shell.execute_reply": "2022-12-30T04:03:01.799262Z"
    },
    "papermill": {
     "duration": 0.054601,
     "end_time": "2022-12-30T04:03:01.802624",
     "exception": false,
     "start_time": "2022-12-30T04:03:01.748023",
     "status": "completed"
    },
    "tags": []
   },
   "outputs": [
    {
     "name": "stdout",
     "output_type": "stream",
     "text": [
      "Categorical columns that will be one-hot encoded: ['MSZoning', 'Street', 'LotShape', 'LandContour', 'Utilities', 'LotConfig', 'LandSlope', 'Condition1', 'Condition2', 'BldgType', 'HouseStyle', 'RoofStyle', 'RoofMatl', 'ExterQual', 'ExterCond', 'Foundation', 'Heating', 'HeatingQC', 'CentralAir', 'KitchenQual', 'Functional', 'PavedDrive', 'SaleType', 'SaleCondition']\n",
      "\n",
      "Categorical columns that will be dropped from the dataset: ['Exterior2nd', 'Neighborhood', 'Exterior1st']\n",
      "\n",
      "Numerical Columns from the dataset: ['MSSubClass', 'LotArea', 'OverallQual', 'OverallCond', 'YearBuilt', 'YearRemodAdd', 'BsmtFinSF1', 'BsmtFinSF2', 'BsmtUnfSF', 'TotalBsmtSF', '1stFlrSF', '2ndFlrSF', 'LowQualFinSF', 'GrLivArea', 'BsmtFullBath', 'BsmtHalfBath', 'FullBath', 'HalfBath', 'BedroomAbvGr', 'KitchenAbvGr', 'TotRmsAbvGrd', 'Fireplaces', 'GarageCars', 'GarageArea', 'WoodDeckSF', 'OpenPorchSF', 'EnclosedPorch', '3SsnPorch', 'ScreenPorch', 'PoolArea', 'MiscVal', 'MoSold', 'YrSold'] \n",
      "\n",
      "Categorical variables:\n",
      "['MSZoning', 'Street', 'LotShape', 'LandContour', 'Utilities', 'LotConfig', 'LandSlope', 'Neighborhood', 'Condition1', 'Condition2', 'BldgType', 'HouseStyle', 'RoofStyle', 'RoofMatl', 'Exterior1st', 'Exterior2nd', 'ExterQual', 'ExterCond', 'Foundation', 'Heating', 'HeatingQC', 'CentralAir', 'KitchenQual', 'Functional', 'PavedDrive', 'SaleType', 'SaleCondition'] \n",
      "\n"
     ]
    },
    {
     "data": {
      "text/plain": [
       "[('Utilities', 1),\n",
       " ('Street', 2),\n",
       " ('CentralAir', 2),\n",
       " ('LandSlope', 3),\n",
       " ('PavedDrive', 3),\n",
       " ('LotShape', 4),\n",
       " ('LandContour', 4),\n",
       " ('RoofMatl', 4),\n",
       " ('ExterQual', 4),\n",
       " ('Heating', 4),\n",
       " ('KitchenQual', 4),\n",
       " ('MSZoning', 5),\n",
       " ('LotConfig', 5),\n",
       " ('Condition2', 5),\n",
       " ('BldgType', 5),\n",
       " ('ExterCond', 5),\n",
       " ('HeatingQC', 5),\n",
       " ('RoofStyle', 6),\n",
       " ('Foundation', 6),\n",
       " ('SaleCondition', 6),\n",
       " ('HouseStyle', 7),\n",
       " ('Functional', 7),\n",
       " ('Condition1', 9),\n",
       " ('SaleType', 9)]"
      ]
     },
     "execution_count": 29,
     "metadata": {},
     "output_type": "execute_result"
    }
   ],
   "source": [
    "#Selecting X_test data without categorical variables \n",
    "\n",
    "# \"Cardinality\" means the number of unique values in a column\n",
    "# Select categorical columns with relatively low cardinality (convenient but arbitrary)\n",
    "\n",
    "Ts = (X_test.dtypes == 'object')\n",
    "object_test_cols = list(Ts[Ts].index)\n",
    "# Select categorical columns with relatively low cardinality (convenient but arbitrary)\n",
    "Tlow_cardinality_cols = [col for col in object_test_cols if X_test[col].nunique() < 10]\n",
    "# Columns that will be dropped from the dataset\n",
    "high_cardinality_cols = list(set(object_test_cols)-set(Tlow_cardinality_cols))\n",
    "\n",
    "print('Categorical columns that will be one-hot encoded:', low_cardinality_cols)\n",
    "print('\\nCategorical columns that will be dropped from the dataset:', high_cardinality_cols)\n",
    "\n",
    "\n",
    "#Or you can do this if you know the columns to drop\n",
    "# X.drop(['Name', 'Cabin', 'Ticket'], axis=1, inplace=True)\n",
    "\n",
    "# Select numerical columns\n",
    "numerical_cols = [cname for cname in X_test.columns if X_test[cname].dtype in ['int64', 'float64']]\n",
    "\n",
    "print('\\nNumerical Columns from the dataset:', numerical_cols,'\\n')\n",
    "\n",
    "# Keep selected columns only\n",
    "test_cols = Tlow_cardinality_cols + numerical_cols\n",
    "X_test_Run = X_test[test_cols].copy()\n",
    "\n",
    "print(\"Categorical variables:\")\n",
    "print(object_test_cols,'\\n')\n",
    "\n",
    "# # Get number of unique entries in each column with categorical data\n",
    "object_unique = list(map(lambda col: X_test[col].nunique(), object_cols))\n",
    "d = dict(zip(object_cols, object_unique))\n",
    "\n",
    "# # Print number of unique entries by column, in ascending order\n",
    "sorted(d.items(), key=lambda x: x[1])"
   ]
  },
  {
   "cell_type": "markdown",
   "id": "f4eeff6e",
   "metadata": {
    "papermill": {
     "duration": 0.01516,
     "end_time": "2022-12-30T04:03:01.833914",
     "exception": false,
     "start_time": "2022-12-30T04:03:01.818754",
     "status": "completed"
    },
    "tags": []
   },
   "source": [
    "**Using Onehotencoder**"
   ]
  },
  {
   "cell_type": "code",
   "execution_count": 30,
   "id": "83b1d443",
   "metadata": {
    "execution": {
     "iopub.execute_input": "2022-12-30T04:03:01.867962Z",
     "iopub.status.busy": "2022-12-30T04:03:01.866883Z",
     "iopub.status.idle": "2022-12-30T04:03:01.899118Z",
     "shell.execute_reply": "2022-12-30T04:03:01.897384Z"
    },
    "papermill": {
     "duration": 0.052832,
     "end_time": "2022-12-30T04:03:01.902195",
     "exception": false,
     "start_time": "2022-12-30T04:03:01.849363",
     "status": "completed"
    },
    "tags": []
   },
   "outputs": [
    {
     "name": "stdout",
     "output_type": "stream",
     "text": [
      "(1459, 153)\n"
     ]
    }
   ],
   "source": [
    "# Apply one-hot encoder to each column with categorical data\n",
    "Ts = (X_test_Run.dtypes == 'object')\n",
    "object_test_cols = list(Ts[Ts].index)\n",
    "TOH_cols_test = pd.DataFrame(OH_encoder.fit_transform(X_test_Run[object_test_cols]))\n",
    "\n",
    "# One-hot encoding removed index; put it back\n",
    "TOH_cols_test.index = X_test_Run.index\n",
    "\n",
    "# Remove categorical columns (will replace with one-hot encoding)\n",
    "num_X_test = X_test_Run.drop(object_test_cols, axis=1)\n",
    "\n",
    "# Add one-hot encoded columns to numerical features\n",
    "OH_X_test = pd.concat([num_X_test, TOH_cols_test], axis=1)\n",
    "# OH_X_test['5'] = np.zeros(OH_X_test.shape[0])\n",
    "print(OH_X_test.shape)\n",
    "\n"
   ]
  },
  {
   "cell_type": "code",
   "execution_count": 31,
   "id": "c64b4325",
   "metadata": {
    "execution": {
     "iopub.execute_input": "2022-12-30T04:03:01.936718Z",
     "iopub.status.busy": "2022-12-30T04:03:01.936308Z",
     "iopub.status.idle": "2022-12-30T04:03:01.980598Z",
     "shell.execute_reply": "2022-12-30T04:03:01.979133Z"
    },
    "papermill": {
     "duration": 0.066544,
     "end_time": "2022-12-30T04:03:01.984772",
     "exception": false,
     "start_time": "2022-12-30T04:03:01.918228",
     "status": "completed"
    },
    "tags": []
   },
   "outputs": [
    {
     "name": "stdout",
     "output_type": "stream",
     "text": [
      "(1459, 60)\n",
      "MSZoning        4\n",
      "Utilities       2\n",
      "Exterior1st     1\n",
      "Exterior2nd     1\n",
      "BsmtFinSF1      1\n",
      "BsmtFinSF2      1\n",
      "BsmtUnfSF       1\n",
      "TotalBsmtSF     1\n",
      "BsmtFullBath    2\n",
      "BsmtHalfBath    2\n",
      "KitchenQual     1\n",
      "Functional      2\n",
      "GarageCars      1\n",
      "GarageArea      1\n",
      "SaleType        1\n",
      "dtype: int64\n"
     ]
    },
    {
     "data": {
      "text/html": [
       "<div>\n",
       "<style scoped>\n",
       "    .dataframe tbody tr th:only-of-type {\n",
       "        vertical-align: middle;\n",
       "    }\n",
       "\n",
       "    .dataframe tbody tr th {\n",
       "        vertical-align: top;\n",
       "    }\n",
       "\n",
       "    .dataframe thead th {\n",
       "        text-align: right;\n",
       "    }\n",
       "</style>\n",
       "<table border=\"1\" class=\"dataframe\">\n",
       "  <thead>\n",
       "    <tr style=\"text-align: right;\">\n",
       "      <th></th>\n",
       "      <th>MSSubClass</th>\n",
       "      <th>MSZoning</th>\n",
       "      <th>LotArea</th>\n",
       "      <th>Street</th>\n",
       "      <th>LotShape</th>\n",
       "      <th>LandContour</th>\n",
       "      <th>Utilities</th>\n",
       "      <th>LotConfig</th>\n",
       "      <th>LandSlope</th>\n",
       "      <th>Neighborhood</th>\n",
       "      <th>...</th>\n",
       "      <th>OpenPorchSF</th>\n",
       "      <th>EnclosedPorch</th>\n",
       "      <th>3SsnPorch</th>\n",
       "      <th>ScreenPorch</th>\n",
       "      <th>PoolArea</th>\n",
       "      <th>MiscVal</th>\n",
       "      <th>MoSold</th>\n",
       "      <th>YrSold</th>\n",
       "      <th>SaleType</th>\n",
       "      <th>SaleCondition</th>\n",
       "    </tr>\n",
       "    <tr>\n",
       "      <th>Id</th>\n",
       "      <th></th>\n",
       "      <th></th>\n",
       "      <th></th>\n",
       "      <th></th>\n",
       "      <th></th>\n",
       "      <th></th>\n",
       "      <th></th>\n",
       "      <th></th>\n",
       "      <th></th>\n",
       "      <th></th>\n",
       "      <th></th>\n",
       "      <th></th>\n",
       "      <th></th>\n",
       "      <th></th>\n",
       "      <th></th>\n",
       "      <th></th>\n",
       "      <th></th>\n",
       "      <th></th>\n",
       "      <th></th>\n",
       "      <th></th>\n",
       "      <th></th>\n",
       "    </tr>\n",
       "  </thead>\n",
       "  <tbody>\n",
       "    <tr>\n",
       "      <th>1461</th>\n",
       "      <td>20</td>\n",
       "      <td>RH</td>\n",
       "      <td>11622</td>\n",
       "      <td>Pave</td>\n",
       "      <td>Reg</td>\n",
       "      <td>Lvl</td>\n",
       "      <td>AllPub</td>\n",
       "      <td>Inside</td>\n",
       "      <td>Gtl</td>\n",
       "      <td>NAmes</td>\n",
       "      <td>...</td>\n",
       "      <td>0</td>\n",
       "      <td>0</td>\n",
       "      <td>0</td>\n",
       "      <td>120</td>\n",
       "      <td>0</td>\n",
       "      <td>0</td>\n",
       "      <td>6</td>\n",
       "      <td>2010</td>\n",
       "      <td>WD</td>\n",
       "      <td>Normal</td>\n",
       "    </tr>\n",
       "    <tr>\n",
       "      <th>1462</th>\n",
       "      <td>20</td>\n",
       "      <td>RL</td>\n",
       "      <td>14267</td>\n",
       "      <td>Pave</td>\n",
       "      <td>IR1</td>\n",
       "      <td>Lvl</td>\n",
       "      <td>AllPub</td>\n",
       "      <td>Corner</td>\n",
       "      <td>Gtl</td>\n",
       "      <td>NAmes</td>\n",
       "      <td>...</td>\n",
       "      <td>36</td>\n",
       "      <td>0</td>\n",
       "      <td>0</td>\n",
       "      <td>0</td>\n",
       "      <td>0</td>\n",
       "      <td>12500</td>\n",
       "      <td>6</td>\n",
       "      <td>2010</td>\n",
       "      <td>WD</td>\n",
       "      <td>Normal</td>\n",
       "    </tr>\n",
       "    <tr>\n",
       "      <th>1463</th>\n",
       "      <td>60</td>\n",
       "      <td>RL</td>\n",
       "      <td>13830</td>\n",
       "      <td>Pave</td>\n",
       "      <td>IR1</td>\n",
       "      <td>Lvl</td>\n",
       "      <td>AllPub</td>\n",
       "      <td>Inside</td>\n",
       "      <td>Gtl</td>\n",
       "      <td>Gilbert</td>\n",
       "      <td>...</td>\n",
       "      <td>34</td>\n",
       "      <td>0</td>\n",
       "      <td>0</td>\n",
       "      <td>0</td>\n",
       "      <td>0</td>\n",
       "      <td>0</td>\n",
       "      <td>3</td>\n",
       "      <td>2010</td>\n",
       "      <td>WD</td>\n",
       "      <td>Normal</td>\n",
       "    </tr>\n",
       "    <tr>\n",
       "      <th>1464</th>\n",
       "      <td>60</td>\n",
       "      <td>RL</td>\n",
       "      <td>9978</td>\n",
       "      <td>Pave</td>\n",
       "      <td>IR1</td>\n",
       "      <td>Lvl</td>\n",
       "      <td>AllPub</td>\n",
       "      <td>Inside</td>\n",
       "      <td>Gtl</td>\n",
       "      <td>Gilbert</td>\n",
       "      <td>...</td>\n",
       "      <td>36</td>\n",
       "      <td>0</td>\n",
       "      <td>0</td>\n",
       "      <td>0</td>\n",
       "      <td>0</td>\n",
       "      <td>0</td>\n",
       "      <td>6</td>\n",
       "      <td>2010</td>\n",
       "      <td>WD</td>\n",
       "      <td>Normal</td>\n",
       "    </tr>\n",
       "    <tr>\n",
       "      <th>1465</th>\n",
       "      <td>120</td>\n",
       "      <td>RL</td>\n",
       "      <td>5005</td>\n",
       "      <td>Pave</td>\n",
       "      <td>IR1</td>\n",
       "      <td>HLS</td>\n",
       "      <td>AllPub</td>\n",
       "      <td>Inside</td>\n",
       "      <td>Gtl</td>\n",
       "      <td>StoneBr</td>\n",
       "      <td>...</td>\n",
       "      <td>82</td>\n",
       "      <td>0</td>\n",
       "      <td>0</td>\n",
       "      <td>144</td>\n",
       "      <td>0</td>\n",
       "      <td>0</td>\n",
       "      <td>1</td>\n",
       "      <td>2010</td>\n",
       "      <td>WD</td>\n",
       "      <td>Normal</td>\n",
       "    </tr>\n",
       "  </tbody>\n",
       "</table>\n",
       "<p>5 rows × 60 columns</p>\n",
       "</div>"
      ],
      "text/plain": [
       "      MSSubClass MSZoning  LotArea Street LotShape LandContour Utilities  \\\n",
       "Id                                                                         \n",
       "1461          20       RH    11622   Pave      Reg         Lvl    AllPub   \n",
       "1462          20       RL    14267   Pave      IR1         Lvl    AllPub   \n",
       "1463          60       RL    13830   Pave      IR1         Lvl    AllPub   \n",
       "1464          60       RL     9978   Pave      IR1         Lvl    AllPub   \n",
       "1465         120       RL     5005   Pave      IR1         HLS    AllPub   \n",
       "\n",
       "     LotConfig LandSlope Neighborhood  ... OpenPorchSF EnclosedPorch  \\\n",
       "Id                                     ...                             \n",
       "1461    Inside       Gtl        NAmes  ...           0             0   \n",
       "1462    Corner       Gtl        NAmes  ...          36             0   \n",
       "1463    Inside       Gtl      Gilbert  ...          34             0   \n",
       "1464    Inside       Gtl      Gilbert  ...          36             0   \n",
       "1465    Inside       Gtl      StoneBr  ...          82             0   \n",
       "\n",
       "     3SsnPorch ScreenPorch  PoolArea  MiscVal  MoSold  YrSold SaleType  \\\n",
       "Id                                                                       \n",
       "1461         0         120         0        0       6    2010       WD   \n",
       "1462         0           0         0    12500       6    2010       WD   \n",
       "1463         0           0         0        0       3    2010       WD   \n",
       "1464         0           0         0        0       6    2010       WD   \n",
       "1465         0         144         0        0       1    2010       WD   \n",
       "\n",
       "     SaleCondition  \n",
       "Id                  \n",
       "1461        Normal  \n",
       "1462        Normal  \n",
       "1463        Normal  \n",
       "1464        Normal  \n",
       "1465        Normal  \n",
       "\n",
       "[5 rows x 60 columns]"
      ]
     },
     "execution_count": 31,
     "metadata": {},
     "output_type": "execute_result"
    }
   ],
   "source": [
    "# Get names of columns with missing values in Valid_X\n",
    "cols_with_missing = [col for col in X_test.columns\n",
    "                     if X_test[col].isnull().any()]\n",
    "\n",
    "# Shape of training data (num_rows, num_columns)\n",
    "print(X_test.shape)\n",
    "\n",
    "# Number of missing values in each column of training data\n",
    "missing_val_count_by_column = (X_test.isnull().sum())\n",
    "print(missing_val_count_by_column[missing_val_count_by_column > 0])\n",
    "X_test.head()"
   ]
  },
  {
   "cell_type": "code",
   "execution_count": 32,
   "id": "e6717185",
   "metadata": {
    "execution": {
     "iopub.execute_input": "2022-12-30T04:03:02.020091Z",
     "iopub.status.busy": "2022-12-30T04:03:02.018735Z",
     "iopub.status.idle": "2022-12-30T04:03:02.046718Z",
     "shell.execute_reply": "2022-12-30T04:03:02.045247Z"
    },
    "papermill": {
     "duration": 0.049286,
     "end_time": "2022-12-30T04:03:02.049971",
     "exception": false,
     "start_time": "2022-12-30T04:03:02.000685",
     "status": "completed"
    },
    "tags": []
   },
   "outputs": [
    {
     "name": "stdout",
     "output_type": "stream",
     "text": [
      "(1459, 153)\n",
      "BsmtFinSF1      1\n",
      "BsmtFinSF2      1\n",
      "BsmtUnfSF       1\n",
      "TotalBsmtSF     1\n",
      "BsmtFullBath    2\n",
      "BsmtHalfBath    2\n",
      "GarageCars      1\n",
      "GarageArea      1\n",
      "dtype: int64\n"
     ]
    },
    {
     "name": "stderr",
     "output_type": "stream",
     "text": [
      "/opt/conda/lib/python3.7/site-packages/sklearn/utils/validation.py:1692: FutureWarning: Feature names only support names that are all strings. Got feature names with dtypes: ['int', 'str']. An error will be raised in 1.2.\n",
      "  FutureWarning,\n",
      "/opt/conda/lib/python3.7/site-packages/sklearn/utils/validation.py:1692: FutureWarning: Feature names only support names that are all strings. Got feature names with dtypes: ['int', 'str']. An error will be raised in 1.2.\n",
      "  FutureWarning,\n"
     ]
    }
   ],
   "source": [
    "# # Shape of training data (num_rows, num_columns)\n",
    "print(OH_X_test.shape)\n",
    "\n",
    "# # Number of missing values in each column of training data\n",
    "missing_val_count_by_column = (OH_X_test.isnull().sum())\n",
    "print(missing_val_count_by_column[missing_val_count_by_column > 0])\n",
    "\n",
    "# #Imputing data to the missing numerical data of X_test \n",
    "# final_X_test = pd.DataFrame(test_imputer.fit_transform(OH_X_test))\n",
    "\n",
    "\n",
    "my_imputer = SimpleImputer()\n",
    "imputed_X_train = pd.DataFrame(my_imputer.fit_transform(OH_X_test))\n",
    "\n",
    "# Imputation removed column names; put them back\n",
    "imputed_X_train.columns = OH_X_test.columns\n"
   ]
  },
  {
   "cell_type": "code",
   "execution_count": 33,
   "id": "1cdb5f98",
   "metadata": {
    "execution": {
     "iopub.execute_input": "2022-12-30T04:03:02.084101Z",
     "iopub.status.busy": "2022-12-30T04:03:02.083693Z",
     "iopub.status.idle": "2022-12-30T04:03:02.088915Z",
     "shell.execute_reply": "2022-12-30T04:03:02.087530Z"
    },
    "papermill": {
     "duration": 0.024962,
     "end_time": "2022-12-30T04:03:02.091356",
     "exception": false,
     "start_time": "2022-12-30T04:03:02.066394",
     "status": "completed"
    },
    "tags": []
   },
   "outputs": [],
   "source": [
    "# #Prediction of X_Test\n",
    "# model = RandomForestRegressor(max_leaf_nodes=100, n_estimators=10,random_state=1)\n",
    "# model.fit(imputed_X_valid, y_valid)\n",
    "# preds = model.predict(final_X_test)\n",
    "# preds = (np.floor(preds)).astype(int)\n",
    "# preds\n",
    "\n",
    "\n"
   ]
  },
  {
   "cell_type": "markdown",
   "id": "d819e8df",
   "metadata": {
    "papermill": {
     "duration": 0.016039,
     "end_time": "2022-12-30T04:03:02.123734",
     "exception": false,
     "start_time": "2022-12-30T04:03:02.107695",
     "status": "completed"
    },
    "tags": []
   },
   "source": [
    "# Generate test predictions and submit your results\n",
    "\n",
    "After you complete Step 4, if you'd like to use what you've learned to submit your results to the leaderboard, you'll need to preprocess the test data before generating predictions.\n",
    "\n",
    "**This step is completely optional, and you do not need to submit results to the leaderboard to successfully complete the exercise.**\n",
    "\n",
    "Check out the previous exercise if you need help with remembering how to [join the competition](https://www.kaggle.com/c/home-data-for-ml-course) or save your results to CSV.  Once you have generated a file with your results, follow the instructions below:\n",
    "1. Begin by clicking on the **Save Version** button in the top right corner of the window.  This will generate a pop-up window.  \n",
    "2. Ensure that the **Save and Run All** option is selected, and then click on the **Save** button.\n",
    "3. This generates a window in the bottom left corner of the notebook.  After it has finished running, click on the number to the right of the **Save Version** button.  This pulls up a list of versions on the right of the screen.  Click on the ellipsis **(...)** to the right of the most recent version, and select **Open in Viewer**.  This brings you into view mode of the same page. You will need to scroll down to get back to these instructions.\n",
    "4. Click on the **Output** tab on the right of the screen.  Then, click on the file you would like to submit, and click on the **Submit** button to submit your results to the leaderboard.\n",
    "\n",
    "You have now successfully submitted to the competition!\n",
    "\n",
    "If you want to keep working to improve your performance, select the **Edit** button in the top right of the screen. Then you can change your code and repeat the process. There's a lot of room to improve, and you will climb up the leaderboard as you work.\n"
   ]
  },
  {
   "cell_type": "code",
   "execution_count": 34,
   "id": "7e1aae82",
   "metadata": {
    "execution": {
     "iopub.execute_input": "2022-12-30T04:03:02.160208Z",
     "iopub.status.busy": "2022-12-30T04:03:02.159487Z",
     "iopub.status.idle": "2022-12-30T04:03:02.164591Z",
     "shell.execute_reply": "2022-12-30T04:03:02.163451Z"
    },
    "papermill": {
     "duration": 0.026472,
     "end_time": "2022-12-30T04:03:02.167427",
     "exception": false,
     "start_time": "2022-12-30T04:03:02.140955",
     "status": "completed"
    },
    "tags": []
   },
   "outputs": [],
   "source": [
    "# (Optional) Your code here"
   ]
  },
  {
   "cell_type": "markdown",
   "id": "1c88a219",
   "metadata": {
    "papermill": {
     "duration": 0.016019,
     "end_time": "2022-12-30T04:03:02.200616",
     "exception": false,
     "start_time": "2022-12-30T04:03:02.184597",
     "status": "completed"
    },
    "tags": []
   },
   "source": [
    "# Keep going\n",
    "\n",
    "With missing value handling and categorical encoding, your modeling process is getting complex. This complexity gets worse when you want to save your model to use in the future. The key to managing this complexity is something called **pipelines**. \n",
    "\n",
    "**[Learn to use pipelines](https://www.kaggle.com/alexisbcook/pipelines)** to preprocess datasets with categorical variables, missing values and any other messiness your data throws at you."
   ]
  },
  {
   "cell_type": "markdown",
   "id": "4b6b548c",
   "metadata": {
    "papermill": {
     "duration": 0.015791,
     "end_time": "2022-12-30T04:03:02.232660",
     "exception": false,
     "start_time": "2022-12-30T04:03:02.216869",
     "status": "completed"
    },
    "tags": []
   },
   "source": [
    "---\n",
    "\n",
    "\n",
    "\n",
    "\n",
    "*Have questions or comments? Visit the [course discussion forum](https://www.kaggle.com/learn/intermediate-machine-learning/discussion) to chat with other learners.*"
   ]
  }
 ],
 "metadata": {
  "kernelspec": {
   "display_name": "Python 3",
   "language": "python",
   "name": "python3"
  },
  "language_info": {
   "codemirror_mode": {
    "name": "ipython",
    "version": 3
   },
   "file_extension": ".py",
   "mimetype": "text/x-python",
   "name": "python",
   "nbconvert_exporter": "python",
   "pygments_lexer": "ipython3",
   "version": "3.7.12"
  },
  "papermill": {
   "default_parameters": {},
   "duration": 15.817046,
   "end_time": "2022-12-30T04:03:03.072995",
   "environment_variables": {},
   "exception": null,
   "input_path": "__notebook__.ipynb",
   "output_path": "__notebook__.ipynb",
   "parameters": {},
   "start_time": "2022-12-30T04:02:47.255949",
   "version": "2.3.4"
  }
 },
 "nbformat": 4,
 "nbformat_minor": 5
}
