{
 "cells": [
  {
   "cell_type": "code",
   "execution_count": 1,
   "id": "8deac087",
   "metadata": {
    "_cell_guid": "b1076dfc-b9ad-4769-8c92-a6c4dae69d19",
    "_uuid": "8f2839f25d086af736a60e9eeb907d3b93b6e0e5",
    "execution": {
     "iopub.execute_input": "2022-12-30T04:18:56.009923Z",
     "iopub.status.busy": "2022-12-30T04:18:56.008453Z",
     "iopub.status.idle": "2022-12-30T04:18:57.571698Z",
     "shell.execute_reply": "2022-12-30T04:18:57.570473Z"
    },
    "papermill": {
     "duration": 1.579747,
     "end_time": "2022-12-30T04:18:57.575076",
     "exception": false,
     "start_time": "2022-12-30T04:18:55.995329",
     "status": "completed"
    },
    "tags": []
   },
   "outputs": [
    {
     "name": "stdout",
     "output_type": "stream",
     "text": [
      "/kaggle/input/titanic/train.csv\n",
      "/kaggle/input/titanic/test.csv\n",
      "/kaggle/input/titanic/gender_submission.csv\n"
     ]
    }
   ],
   "source": [
    "# This Python 3 environment comes with many helpful analytics libraries installed\n",
    "# It is defined by the kaggle/python Docker image: https://github.com/kaggle/docker-python\n",
    "# For example, here's several helpful packages to load\n",
    "\n",
    "import numpy as np # linear algebra\n",
    "import pandas as pd # data processing, CSV file I/O (e.g. pd.read_csv)\n",
    "import seaborn as sns\n",
    "import matplotlib.pyplot as plt\n",
    "import missingno as mns\n",
    "from sklearn import set_config\n",
    "from sklearn.pipeline import Pipeline,make_pipeline\n",
    "from sklearn.linear_model import LogisticRegression\n",
    "from sklearn.neighbors import KNeighborsClassifier\n",
    "from sklearn.ensemble import RandomForestClassifier\n",
    "from sklearn.compose import ColumnTransformer\n",
    "from sklearn.preprocessing import OneHotEncoder,StandardScaler\n",
    "from sklearn.model_selection import train_test_split,cross_val_score,ShuffleSplit\n",
    "\n",
    "sns.set_theme(style=\"whitegrid\")\n",
    "set_config(display=\"diagram\")\n",
    "# Input data files are available in the read-only \"../input/\" directory\n",
    "# For example, running this (by clicking run or pressing Shift+Enter) will list all files under the input directory\n",
    "\n",
    "import os\n",
    "for dirname, _, filenames in os.walk('/kaggle/input'):\n",
    "    for filename in filenames:\n",
    "        print(os.path.join(dirname, filename))\n",
    "\n",
    "# You can write up to 20GB to the current directory (/kaggle/working/) that gets preserved as output when you create a version using \"Save & Run All\" \n",
    "# You can also write temporary files to /kaggle/temp/, but they won't be saved outside of the current session"
   ]
  },
  {
   "cell_type": "code",
   "execution_count": 2,
   "id": "0eb8df0b",
   "metadata": {
    "execution": {
     "iopub.execute_input": "2022-12-30T04:18:57.599914Z",
     "iopub.status.busy": "2022-12-30T04:18:57.599424Z",
     "iopub.status.idle": "2022-12-30T04:18:57.651173Z",
     "shell.execute_reply": "2022-12-30T04:18:57.650000Z"
    },
    "papermill": {
     "duration": 0.065662,
     "end_time": "2022-12-30T04:18:57.653597",
     "exception": false,
     "start_time": "2022-12-30T04:18:57.587935",
     "status": "completed"
    },
    "tags": []
   },
   "outputs": [
    {
     "data": {
      "text/html": [
       "<div>\n",
       "<style scoped>\n",
       "    .dataframe tbody tr th:only-of-type {\n",
       "        vertical-align: middle;\n",
       "    }\n",
       "\n",
       "    .dataframe tbody tr th {\n",
       "        vertical-align: top;\n",
       "    }\n",
       "\n",
       "    .dataframe thead th {\n",
       "        text-align: right;\n",
       "    }\n",
       "</style>\n",
       "<table border=\"1\" class=\"dataframe\">\n",
       "  <thead>\n",
       "    <tr style=\"text-align: right;\">\n",
       "      <th></th>\n",
       "      <th>PassengerId</th>\n",
       "      <th>Survived</th>\n",
       "      <th>Pclass</th>\n",
       "      <th>Name</th>\n",
       "      <th>Sex</th>\n",
       "      <th>Age</th>\n",
       "      <th>SibSp</th>\n",
       "      <th>Parch</th>\n",
       "      <th>Ticket</th>\n",
       "      <th>Fare</th>\n",
       "      <th>Cabin</th>\n",
       "      <th>Embarked</th>\n",
       "    </tr>\n",
       "  </thead>\n",
       "  <tbody>\n",
       "    <tr>\n",
       "      <th>0</th>\n",
       "      <td>1</td>\n",
       "      <td>0</td>\n",
       "      <td>3</td>\n",
       "      <td>Braund, Mr. Owen Harris</td>\n",
       "      <td>male</td>\n",
       "      <td>22.0</td>\n",
       "      <td>1</td>\n",
       "      <td>0</td>\n",
       "      <td>A/5 21171</td>\n",
       "      <td>7.2500</td>\n",
       "      <td>NaN</td>\n",
       "      <td>S</td>\n",
       "    </tr>\n",
       "    <tr>\n",
       "      <th>1</th>\n",
       "      <td>2</td>\n",
       "      <td>1</td>\n",
       "      <td>1</td>\n",
       "      <td>Cumings, Mrs. John Bradley (Florence Briggs Th...</td>\n",
       "      <td>female</td>\n",
       "      <td>38.0</td>\n",
       "      <td>1</td>\n",
       "      <td>0</td>\n",
       "      <td>PC 17599</td>\n",
       "      <td>71.2833</td>\n",
       "      <td>C85</td>\n",
       "      <td>C</td>\n",
       "    </tr>\n",
       "    <tr>\n",
       "      <th>2</th>\n",
       "      <td>3</td>\n",
       "      <td>1</td>\n",
       "      <td>3</td>\n",
       "      <td>Heikkinen, Miss. Laina</td>\n",
       "      <td>female</td>\n",
       "      <td>26.0</td>\n",
       "      <td>0</td>\n",
       "      <td>0</td>\n",
       "      <td>STON/O2. 3101282</td>\n",
       "      <td>7.9250</td>\n",
       "      <td>NaN</td>\n",
       "      <td>S</td>\n",
       "    </tr>\n",
       "    <tr>\n",
       "      <th>3</th>\n",
       "      <td>4</td>\n",
       "      <td>1</td>\n",
       "      <td>1</td>\n",
       "      <td>Futrelle, Mrs. Jacques Heath (Lily May Peel)</td>\n",
       "      <td>female</td>\n",
       "      <td>35.0</td>\n",
       "      <td>1</td>\n",
       "      <td>0</td>\n",
       "      <td>113803</td>\n",
       "      <td>53.1000</td>\n",
       "      <td>C123</td>\n",
       "      <td>S</td>\n",
       "    </tr>\n",
       "    <tr>\n",
       "      <th>4</th>\n",
       "      <td>5</td>\n",
       "      <td>0</td>\n",
       "      <td>3</td>\n",
       "      <td>Allen, Mr. William Henry</td>\n",
       "      <td>male</td>\n",
       "      <td>35.0</td>\n",
       "      <td>0</td>\n",
       "      <td>0</td>\n",
       "      <td>373450</td>\n",
       "      <td>8.0500</td>\n",
       "      <td>NaN</td>\n",
       "      <td>S</td>\n",
       "    </tr>\n",
       "  </tbody>\n",
       "</table>\n",
       "</div>"
      ],
      "text/plain": [
       "   PassengerId  Survived  Pclass  \\\n",
       "0            1         0       3   \n",
       "1            2         1       1   \n",
       "2            3         1       3   \n",
       "3            4         1       1   \n",
       "4            5         0       3   \n",
       "\n",
       "                                                Name     Sex   Age  SibSp  \\\n",
       "0                            Braund, Mr. Owen Harris    male  22.0      1   \n",
       "1  Cumings, Mrs. John Bradley (Florence Briggs Th...  female  38.0      1   \n",
       "2                             Heikkinen, Miss. Laina  female  26.0      0   \n",
       "3       Futrelle, Mrs. Jacques Heath (Lily May Peel)  female  35.0      1   \n",
       "4                           Allen, Mr. William Henry    male  35.0      0   \n",
       "\n",
       "   Parch            Ticket     Fare Cabin Embarked  \n",
       "0      0         A/5 21171   7.2500   NaN        S  \n",
       "1      0          PC 17599  71.2833   C85        C  \n",
       "2      0  STON/O2. 3101282   7.9250   NaN        S  \n",
       "3      0            113803  53.1000  C123        S  \n",
       "4      0            373450   8.0500   NaN        S  "
      ]
     },
     "execution_count": 2,
     "metadata": {},
     "output_type": "execute_result"
    }
   ],
   "source": [
    "# load train dataset\n",
    "df = pd.read_csv(\"/kaggle/input/titanic/train.csv\")\n",
    "df.head()\n"
   ]
  },
  {
   "cell_type": "code",
   "execution_count": 3,
   "id": "b371b44a",
   "metadata": {
    "execution": {
     "iopub.execute_input": "2022-12-30T04:18:57.677884Z",
     "iopub.status.busy": "2022-12-30T04:18:57.677013Z",
     "iopub.status.idle": "2022-12-30T04:18:57.684618Z",
     "shell.execute_reply": "2022-12-30T04:18:57.683576Z"
    },
    "papermill": {
     "duration": 0.02372,
     "end_time": "2022-12-30T04:18:57.686944",
     "exception": false,
     "start_time": "2022-12-30T04:18:57.663224",
     "status": "completed"
    },
    "tags": []
   },
   "outputs": [
    {
     "data": {
      "text/plain": [
       "(891, 12)"
      ]
     },
     "execution_count": 3,
     "metadata": {},
     "output_type": "execute_result"
    }
   ],
   "source": [
    "# shape of the dataset\n",
    "df.shape"
   ]
  },
  {
   "cell_type": "code",
   "execution_count": 4,
   "id": "e1de4cc7",
   "metadata": {
    "execution": {
     "iopub.execute_input": "2022-12-30T04:18:57.711951Z",
     "iopub.status.busy": "2022-12-30T04:18:57.710824Z",
     "iopub.status.idle": "2022-12-30T04:18:57.738203Z",
     "shell.execute_reply": "2022-12-30T04:18:57.736984Z"
    },
    "papermill": {
     "duration": 0.043908,
     "end_time": "2022-12-30T04:18:57.740945",
     "exception": false,
     "start_time": "2022-12-30T04:18:57.697037",
     "status": "completed"
    },
    "tags": []
   },
   "outputs": [
    {
     "name": "stdout",
     "output_type": "stream",
     "text": [
      "<class 'pandas.core.frame.DataFrame'>\n",
      "RangeIndex: 891 entries, 0 to 890\n",
      "Data columns (total 12 columns):\n",
      " #   Column       Non-Null Count  Dtype  \n",
      "---  ------       --------------  -----  \n",
      " 0   PassengerId  891 non-null    int64  \n",
      " 1   Survived     891 non-null    int64  \n",
      " 2   Pclass       891 non-null    int64  \n",
      " 3   Name         891 non-null    object \n",
      " 4   Sex          891 non-null    object \n",
      " 5   Age          714 non-null    float64\n",
      " 6   SibSp        891 non-null    int64  \n",
      " 7   Parch        891 non-null    int64  \n",
      " 8   Ticket       891 non-null    object \n",
      " 9   Fare         891 non-null    float64\n",
      " 10  Cabin        204 non-null    object \n",
      " 11  Embarked     889 non-null    object \n",
      "dtypes: float64(2), int64(5), object(5)\n",
      "memory usage: 83.7+ KB\n"
     ]
    }
   ],
   "source": [
    "# basic info\n",
    "df.info()"
   ]
  },
  {
   "cell_type": "code",
   "execution_count": 5,
   "id": "fa808f60",
   "metadata": {
    "execution": {
     "iopub.execute_input": "2022-12-30T04:18:57.763150Z",
     "iopub.status.busy": "2022-12-30T04:18:57.761955Z",
     "iopub.status.idle": "2022-12-30T04:18:57.800001Z",
     "shell.execute_reply": "2022-12-30T04:18:57.798762Z"
    },
    "papermill": {
     "duration": 0.05171,
     "end_time": "2022-12-30T04:18:57.802548",
     "exception": false,
     "start_time": "2022-12-30T04:18:57.750838",
     "status": "completed"
    },
    "tags": []
   },
   "outputs": [
    {
     "data": {
      "text/html": [
       "<div>\n",
       "<style scoped>\n",
       "    .dataframe tbody tr th:only-of-type {\n",
       "        vertical-align: middle;\n",
       "    }\n",
       "\n",
       "    .dataframe tbody tr th {\n",
       "        vertical-align: top;\n",
       "    }\n",
       "\n",
       "    .dataframe thead th {\n",
       "        text-align: right;\n",
       "    }\n",
       "</style>\n",
       "<table border=\"1\" class=\"dataframe\">\n",
       "  <thead>\n",
       "    <tr style=\"text-align: right;\">\n",
       "      <th></th>\n",
       "      <th>PassengerId</th>\n",
       "      <th>Survived</th>\n",
       "      <th>Pclass</th>\n",
       "      <th>Age</th>\n",
       "      <th>SibSp</th>\n",
       "      <th>Parch</th>\n",
       "      <th>Fare</th>\n",
       "    </tr>\n",
       "  </thead>\n",
       "  <tbody>\n",
       "    <tr>\n",
       "      <th>count</th>\n",
       "      <td>891.000000</td>\n",
       "      <td>891.000000</td>\n",
       "      <td>891.000000</td>\n",
       "      <td>714.000000</td>\n",
       "      <td>891.000000</td>\n",
       "      <td>891.000000</td>\n",
       "      <td>891.000000</td>\n",
       "    </tr>\n",
       "    <tr>\n",
       "      <th>mean</th>\n",
       "      <td>446.000000</td>\n",
       "      <td>0.383838</td>\n",
       "      <td>2.308642</td>\n",
       "      <td>29.699118</td>\n",
       "      <td>0.523008</td>\n",
       "      <td>0.381594</td>\n",
       "      <td>32.204208</td>\n",
       "    </tr>\n",
       "    <tr>\n",
       "      <th>std</th>\n",
       "      <td>257.353842</td>\n",
       "      <td>0.486592</td>\n",
       "      <td>0.836071</td>\n",
       "      <td>14.526497</td>\n",
       "      <td>1.102743</td>\n",
       "      <td>0.806057</td>\n",
       "      <td>49.693429</td>\n",
       "    </tr>\n",
       "    <tr>\n",
       "      <th>min</th>\n",
       "      <td>1.000000</td>\n",
       "      <td>0.000000</td>\n",
       "      <td>1.000000</td>\n",
       "      <td>0.420000</td>\n",
       "      <td>0.000000</td>\n",
       "      <td>0.000000</td>\n",
       "      <td>0.000000</td>\n",
       "    </tr>\n",
       "    <tr>\n",
       "      <th>25%</th>\n",
       "      <td>223.500000</td>\n",
       "      <td>0.000000</td>\n",
       "      <td>2.000000</td>\n",
       "      <td>20.125000</td>\n",
       "      <td>0.000000</td>\n",
       "      <td>0.000000</td>\n",
       "      <td>7.910400</td>\n",
       "    </tr>\n",
       "    <tr>\n",
       "      <th>50%</th>\n",
       "      <td>446.000000</td>\n",
       "      <td>0.000000</td>\n",
       "      <td>3.000000</td>\n",
       "      <td>28.000000</td>\n",
       "      <td>0.000000</td>\n",
       "      <td>0.000000</td>\n",
       "      <td>14.454200</td>\n",
       "    </tr>\n",
       "    <tr>\n",
       "      <th>75%</th>\n",
       "      <td>668.500000</td>\n",
       "      <td>1.000000</td>\n",
       "      <td>3.000000</td>\n",
       "      <td>38.000000</td>\n",
       "      <td>1.000000</td>\n",
       "      <td>0.000000</td>\n",
       "      <td>31.000000</td>\n",
       "    </tr>\n",
       "    <tr>\n",
       "      <th>max</th>\n",
       "      <td>891.000000</td>\n",
       "      <td>1.000000</td>\n",
       "      <td>3.000000</td>\n",
       "      <td>80.000000</td>\n",
       "      <td>8.000000</td>\n",
       "      <td>6.000000</td>\n",
       "      <td>512.329200</td>\n",
       "    </tr>\n",
       "  </tbody>\n",
       "</table>\n",
       "</div>"
      ],
      "text/plain": [
       "       PassengerId    Survived      Pclass         Age       SibSp  \\\n",
       "count   891.000000  891.000000  891.000000  714.000000  891.000000   \n",
       "mean    446.000000    0.383838    2.308642   29.699118    0.523008   \n",
       "std     257.353842    0.486592    0.836071   14.526497    1.102743   \n",
       "min       1.000000    0.000000    1.000000    0.420000    0.000000   \n",
       "25%     223.500000    0.000000    2.000000   20.125000    0.000000   \n",
       "50%     446.000000    0.000000    3.000000   28.000000    0.000000   \n",
       "75%     668.500000    1.000000    3.000000   38.000000    1.000000   \n",
       "max     891.000000    1.000000    3.000000   80.000000    8.000000   \n",
       "\n",
       "            Parch        Fare  \n",
       "count  891.000000  891.000000  \n",
       "mean     0.381594   32.204208  \n",
       "std      0.806057   49.693429  \n",
       "min      0.000000    0.000000  \n",
       "25%      0.000000    7.910400  \n",
       "50%      0.000000   14.454200  \n",
       "75%      0.000000   31.000000  \n",
       "max      6.000000  512.329200  "
      ]
     },
     "execution_count": 5,
     "metadata": {},
     "output_type": "execute_result"
    }
   ],
   "source": [
    "# basic statical info\n",
    "df.describe()"
   ]
  },
  {
   "cell_type": "code",
   "execution_count": 6,
   "id": "7380542d",
   "metadata": {
    "execution": {
     "iopub.execute_input": "2022-12-30T04:18:57.827595Z",
     "iopub.status.busy": "2022-12-30T04:18:57.826306Z",
     "iopub.status.idle": "2022-12-30T04:18:58.209161Z",
     "shell.execute_reply": "2022-12-30T04:18:58.207864Z"
    },
    "papermill": {
     "duration": 0.398022,
     "end_time": "2022-12-30T04:18:58.211758",
     "exception": false,
     "start_time": "2022-12-30T04:18:57.813736",
     "status": "completed"
    },
    "tags": []
   },
   "outputs": [
    {
     "data": {
      "image/png": "[encoded data removed]",
      "text/plain": [
       "<Figure size 864x432 with 2 Axes>"
      ]
     },
     "metadata": {},
     "output_type": "display_data"
    }
   ],
   "source": [
    "# Check for the null values\n",
    "plt.figure(figsize=(12,6))\n",
    "sns.heatmap(df.isna(),yticklabels=False)\n",
    "plt.show()"
   ]
  },
  {
   "cell_type": "code",
   "execution_count": 7,
   "id": "77b6f0b4",
   "metadata": {
    "execution": {
     "iopub.execute_input": "2022-12-30T04:18:58.235677Z",
     "iopub.status.busy": "2022-12-30T04:18:58.234414Z",
     "iopub.status.idle": "2022-12-30T04:18:58.246837Z",
     "shell.execute_reply": "2022-12-30T04:18:58.245700Z"
    },
    "papermill": {
     "duration": 0.026946,
     "end_time": "2022-12-30T04:18:58.249296",
     "exception": false,
     "start_time": "2022-12-30T04:18:58.222350",
     "status": "completed"
    },
    "tags": []
   },
   "outputs": [
    {
     "data": {
      "text/plain": [
       "PassengerId     0.00\n",
       "Survived        0.00\n",
       "Pclass          0.00\n",
       "Name            0.00\n",
       "Sex             0.00\n",
       "Age            19.87\n",
       "SibSp           0.00\n",
       "Parch           0.00\n",
       "Ticket          0.00\n",
       "Fare            0.00\n",
       "Cabin          77.10\n",
       "Embarked        0.22\n",
       "dtype: float64"
      ]
     },
     "execution_count": 7,
     "metadata": {},
     "output_type": "execute_result"
    }
   ],
   "source": [
    "# percentage of the missing values\n",
    "round(df.isna().sum() / df.shape[0] * 100,2)\n",
    "\n",
    "#There is a 77% Missing Values available in cabin column. So, we will drop that column."
   ]
  },
  {
   "cell_type": "code",
   "execution_count": 8,
   "id": "96bcf49a",
   "metadata": {
    "execution": {
     "iopub.execute_input": "2022-12-30T04:18:58.273799Z",
     "iopub.status.busy": "2022-12-30T04:18:58.273335Z",
     "iopub.status.idle": "2022-12-30T04:18:58.279736Z",
     "shell.execute_reply": "2022-12-30T04:18:58.278691Z"
    },
    "papermill": {
     "duration": 0.021794,
     "end_time": "2022-12-30T04:18:58.281957",
     "exception": false,
     "start_time": "2022-12-30T04:18:58.260163",
     "status": "completed"
    },
    "tags": []
   },
   "outputs": [],
   "source": [
    "# drop cabin column\n",
    "df.drop(\"Cabin\",axis=1,inplace=True)"
   ]
  },
  {
   "cell_type": "code",
   "execution_count": 9,
   "id": "3a07e7c5",
   "metadata": {
    "execution": {
     "iopub.execute_input": "2022-12-30T04:18:58.305486Z",
     "iopub.status.busy": "2022-12-30T04:18:58.305037Z",
     "iopub.status.idle": "2022-12-30T04:18:58.317564Z",
     "shell.execute_reply": "2022-12-30T04:18:58.316572Z"
    },
    "papermill": {
     "duration": 0.027235,
     "end_time": "2022-12-30T04:18:58.319936",
     "exception": false,
     "start_time": "2022-12-30T04:18:58.292701",
     "status": "completed"
    },
    "tags": []
   },
   "outputs": [
    {
     "data": {
      "text/plain": [
       "0"
      ]
     },
     "execution_count": 9,
     "metadata": {},
     "output_type": "execute_result"
    }
   ],
   "source": [
    "# check for the duplicated values\n",
    "df.duplicated().sum()"
   ]
  },
  {
   "cell_type": "markdown",
   "id": "b67cac8f",
   "metadata": {
    "papermill": {
     "duration": 0.010215,
     "end_time": "2022-12-30T04:18:58.340844",
     "exception": false,
     "start_time": "2022-12-30T04:18:58.330629",
     "status": "completed"
    },
    "tags": []
   },
   "source": [
    "## Exploratory Data Analysis"
   ]
  },
  {
   "cell_type": "code",
   "execution_count": 10,
   "id": "c6f1c7fa",
   "metadata": {
    "execution": {
     "iopub.execute_input": "2022-12-30T04:18:58.364259Z",
     "iopub.status.busy": "2022-12-30T04:18:58.363803Z",
     "iopub.status.idle": "2022-12-30T04:18:58.565101Z",
     "shell.execute_reply": "2022-12-30T04:18:58.564266Z"
    },
    "papermill": {
     "duration": 0.216929,
     "end_time": "2022-12-30T04:18:58.568241",
     "exception": false,
     "start_time": "2022-12-30T04:18:58.351312",
     "status": "completed"
    },
    "tags": []
   },
   "outputs": [
    {
     "data": {
      "image/png": "[encoded data removed]",
      "text/plain": [
       "<Figure size 432x288 with 1 Axes>"
      ]
     },
     "metadata": {},
     "output_type": "display_data"
    },
    {
     "name": "stdout",
     "output_type": "stream",
     "text": [
      "male      577\n",
      "female    314\n",
      "Name: Sex, dtype: int64\n"
     ]
    }
   ],
   "source": [
    "# Let's Visualize, How many males and females were there ?\n",
    "sns.countplot(x=\"Sex\",data=df)\n",
    "plt.title(\"Count of Male and Female\",size=15,color='red')\n",
    "plt.xlabel(\"Gender\",color='red')\n",
    "plt.ylabel(\"Count\",color='red')\n",
    "plt.show()\n",
    "print(df[\"Sex\"].value_counts())\n",
    "\n",
    "# We can clearly see Males are more than Females in data."
   ]
  },
  {
   "cell_type": "code",
   "execution_count": 11,
   "id": "faf8a17d",
   "metadata": {
    "execution": {
     "iopub.execute_input": "2022-12-30T04:18:58.594048Z",
     "iopub.status.busy": "2022-12-30T04:18:58.593143Z",
     "iopub.status.idle": "2022-12-30T04:18:58.782163Z",
     "shell.execute_reply": "2022-12-30T04:18:58.781225Z"
    },
    "papermill": {
     "duration": 0.205698,
     "end_time": "2022-12-30T04:18:58.785836",
     "exception": false,
     "start_time": "2022-12-30T04:18:58.580138",
     "status": "completed"
    },
    "tags": []
   },
   "outputs": [
    {
     "data": {
      "image/png": "[encoded data removed]",
      "text/plain": [
       "<Figure size 432x288 with 1 Axes>"
      ]
     },
     "metadata": {},
     "output_type": "display_data"
    },
    {
     "name": "stdout",
     "output_type": "stream",
     "text": [
      "0    549\n",
      "1    342\n",
      "Name: Survived, dtype: int64\n"
     ]
    }
   ],
   "source": [
    "# Let's see how many passengers are Survived.\n",
    "sns.countplot(x=\"Survived\",data=df)\n",
    "plt.title(\"Count of Survived\",size=15,color='red')\n",
    "plt.xlabel(\"Survived\",color='red')\n",
    "plt.ylabel(\"Count\",color='red')\n",
    "plt.show()\n",
    "print(df[\"Survived\"].value_counts())\n",
    "\n",
    "# There is only 342 Passengers are Survived out of 891."
   ]
  },
  {
   "cell_type": "code",
   "execution_count": 12,
   "id": "a3ae9348",
   "metadata": {
    "execution": {
     "iopub.execute_input": "2022-12-30T04:18:58.812830Z",
     "iopub.status.busy": "2022-12-30T04:18:58.812108Z",
     "iopub.status.idle": "2022-12-30T04:18:58.828897Z",
     "shell.execute_reply": "2022-12-30T04:18:58.828042Z"
    },
    "papermill": {
     "duration": 0.032387,
     "end_time": "2022-12-30T04:18:58.831041",
     "exception": false,
     "start_time": "2022-12-30T04:18:58.798654",
     "status": "completed"
    },
    "tags": []
   },
   "outputs": [
    {
     "data": {
      "text/html": [
       "<div>\n",
       "<style scoped>\n",
       "    .dataframe tbody tr th:only-of-type {\n",
       "        vertical-align: middle;\n",
       "    }\n",
       "\n",
       "    .dataframe tbody tr th {\n",
       "        vertical-align: top;\n",
       "    }\n",
       "\n",
       "    .dataframe thead th {\n",
       "        text-align: right;\n",
       "    }\n",
       "</style>\n",
       "<table border=\"1\" class=\"dataframe\">\n",
       "  <thead>\n",
       "    <tr style=\"text-align: right;\">\n",
       "      <th></th>\n",
       "      <th>PassengerId</th>\n",
       "      <th>Name</th>\n",
       "      <th>Sex</th>\n",
       "      <th>Fare</th>\n",
       "      <th>Survived</th>\n",
       "    </tr>\n",
       "  </thead>\n",
       "  <tbody>\n",
       "    <tr>\n",
       "      <th>258</th>\n",
       "      <td>259</td>\n",
       "      <td>Ward, Miss. Anna</td>\n",
       "      <td>female</td>\n",
       "      <td>512.3292</td>\n",
       "      <td>1</td>\n",
       "    </tr>\n",
       "    <tr>\n",
       "      <th>737</th>\n",
       "      <td>738</td>\n",
       "      <td>Lesurer, Mr. Gustave J</td>\n",
       "      <td>male</td>\n",
       "      <td>512.3292</td>\n",
       "      <td>1</td>\n",
       "    </tr>\n",
       "    <tr>\n",
       "      <th>679</th>\n",
       "      <td>680</td>\n",
       "      <td>Cardeza, Mr. Thomas Drake Martinez</td>\n",
       "      <td>male</td>\n",
       "      <td>512.3292</td>\n",
       "      <td>1</td>\n",
       "    </tr>\n",
       "    <tr>\n",
       "      <th>88</th>\n",
       "      <td>89</td>\n",
       "      <td>Fortune, Miss. Mabel Helen</td>\n",
       "      <td>female</td>\n",
       "      <td>263.0000</td>\n",
       "      <td>1</td>\n",
       "    </tr>\n",
       "    <tr>\n",
       "      <th>27</th>\n",
       "      <td>28</td>\n",
       "      <td>Fortune, Mr. Charles Alexander</td>\n",
       "      <td>male</td>\n",
       "      <td>263.0000</td>\n",
       "      <td>0</td>\n",
       "    </tr>\n",
       "    <tr>\n",
       "      <th>341</th>\n",
       "      <td>342</td>\n",
       "      <td>Fortune, Miss. Alice Elizabeth</td>\n",
       "      <td>female</td>\n",
       "      <td>263.0000</td>\n",
       "      <td>1</td>\n",
       "    </tr>\n",
       "    <tr>\n",
       "      <th>438</th>\n",
       "      <td>439</td>\n",
       "      <td>Fortune, Mr. Mark</td>\n",
       "      <td>male</td>\n",
       "      <td>263.0000</td>\n",
       "      <td>0</td>\n",
       "    </tr>\n",
       "    <tr>\n",
       "      <th>311</th>\n",
       "      <td>312</td>\n",
       "      <td>Ryerson, Miss. Emily Borie</td>\n",
       "      <td>female</td>\n",
       "      <td>262.3750</td>\n",
       "      <td>1</td>\n",
       "    </tr>\n",
       "    <tr>\n",
       "      <th>742</th>\n",
       "      <td>743</td>\n",
       "      <td>Ryerson, Miss. Susan Parker \"Suzette\"</td>\n",
       "      <td>female</td>\n",
       "      <td>262.3750</td>\n",
       "      <td>1</td>\n",
       "    </tr>\n",
       "    <tr>\n",
       "      <th>118</th>\n",
       "      <td>119</td>\n",
       "      <td>Baxter, Mr. Quigg Edmond</td>\n",
       "      <td>male</td>\n",
       "      <td>247.5208</td>\n",
       "      <td>0</td>\n",
       "    </tr>\n",
       "    <tr>\n",
       "      <th>299</th>\n",
       "      <td>300</td>\n",
       "      <td>Baxter, Mrs. James (Helene DeLaudeniere Chaput)</td>\n",
       "      <td>female</td>\n",
       "      <td>247.5208</td>\n",
       "      <td>1</td>\n",
       "    </tr>\n",
       "    <tr>\n",
       "      <th>557</th>\n",
       "      <td>558</td>\n",
       "      <td>Robbins, Mr. Victor</td>\n",
       "      <td>male</td>\n",
       "      <td>227.5250</td>\n",
       "      <td>0</td>\n",
       "    </tr>\n",
       "    <tr>\n",
       "      <th>700</th>\n",
       "      <td>701</td>\n",
       "      <td>Astor, Mrs. John Jacob (Madeleine Talmadge Force)</td>\n",
       "      <td>female</td>\n",
       "      <td>227.5250</td>\n",
       "      <td>1</td>\n",
       "    </tr>\n",
       "    <tr>\n",
       "      <th>380</th>\n",
       "      <td>381</td>\n",
       "      <td>Bidois, Miss. Rosalie</td>\n",
       "      <td>female</td>\n",
       "      <td>227.5250</td>\n",
       "      <td>1</td>\n",
       "    </tr>\n",
       "    <tr>\n",
       "      <th>716</th>\n",
       "      <td>717</td>\n",
       "      <td>Endres, Miss. Caroline Louise</td>\n",
       "      <td>female</td>\n",
       "      <td>227.5250</td>\n",
       "      <td>1</td>\n",
       "    </tr>\n",
       "    <tr>\n",
       "      <th>527</th>\n",
       "      <td>528</td>\n",
       "      <td>Farthing, Mr. John</td>\n",
       "      <td>male</td>\n",
       "      <td>221.7792</td>\n",
       "      <td>0</td>\n",
       "    </tr>\n",
       "    <tr>\n",
       "      <th>377</th>\n",
       "      <td>378</td>\n",
       "      <td>Widener, Mr. Harry Elkins</td>\n",
       "      <td>male</td>\n",
       "      <td>211.5000</td>\n",
       "      <td>0</td>\n",
       "    </tr>\n",
       "    <tr>\n",
       "      <th>730</th>\n",
       "      <td>731</td>\n",
       "      <td>Allen, Miss. Elisabeth Walton</td>\n",
       "      <td>female</td>\n",
       "      <td>211.3375</td>\n",
       "      <td>1</td>\n",
       "    </tr>\n",
       "    <tr>\n",
       "      <th>779</th>\n",
       "      <td>780</td>\n",
       "      <td>Robert, Mrs. Edward Scott (Elisabeth Walton Mc...</td>\n",
       "      <td>female</td>\n",
       "      <td>211.3375</td>\n",
       "      <td>1</td>\n",
       "    </tr>\n",
       "    <tr>\n",
       "      <th>689</th>\n",
       "      <td>690</td>\n",
       "      <td>Madill, Miss. Georgette Alexandra</td>\n",
       "      <td>female</td>\n",
       "      <td>211.3375</td>\n",
       "      <td>1</td>\n",
       "    </tr>\n",
       "  </tbody>\n",
       "</table>\n",
       "</div>"
      ],
      "text/plain": [
       "     PassengerId                                               Name     Sex  \\\n",
       "258          259                                   Ward, Miss. Anna  female   \n",
       "737          738                             Lesurer, Mr. Gustave J    male   \n",
       "679          680                 Cardeza, Mr. Thomas Drake Martinez    male   \n",
       "88            89                         Fortune, Miss. Mabel Helen  female   \n",
       "27            28                     Fortune, Mr. Charles Alexander    male   \n",
       "341          342                     Fortune, Miss. Alice Elizabeth  female   \n",
       "438          439                                  Fortune, Mr. Mark    male   \n",
       "311          312                         Ryerson, Miss. Emily Borie  female   \n",
       "742          743              Ryerson, Miss. Susan Parker \"Suzette\"  female   \n",
       "118          119                           Baxter, Mr. Quigg Edmond    male   \n",
       "299          300    Baxter, Mrs. James (Helene DeLaudeniere Chaput)  female   \n",
       "557          558                                Robbins, Mr. Victor    male   \n",
       "700          701  Astor, Mrs. John Jacob (Madeleine Talmadge Force)  female   \n",
       "380          381                              Bidois, Miss. Rosalie  female   \n",
       "716          717                      Endres, Miss. Caroline Louise  female   \n",
       "527          528                                 Farthing, Mr. John    male   \n",
       "377          378                          Widener, Mr. Harry Elkins    male   \n",
       "730          731                      Allen, Miss. Elisabeth Walton  female   \n",
       "779          780  Robert, Mrs. Edward Scott (Elisabeth Walton Mc...  female   \n",
       "689          690                  Madill, Miss. Georgette Alexandra  female   \n",
       "\n",
       "         Fare  Survived  \n",
       "258  512.3292         1  \n",
       "737  512.3292         1  \n",
       "679  512.3292         1  \n",
       "88   263.0000         1  \n",
       "27   263.0000         0  \n",
       "341  263.0000         1  \n",
       "438  263.0000         0  \n",
       "311  262.3750         1  \n",
       "742  262.3750         1  \n",
       "118  247.5208         0  \n",
       "299  247.5208         1  \n",
       "557  227.5250         0  \n",
       "700  227.5250         1  \n",
       "380  227.5250         1  \n",
       "716  227.5250         1  \n",
       "527  221.7792         0  \n",
       "377  211.5000         0  \n",
       "730  211.3375         1  \n",
       "779  211.3375         1  \n",
       "689  211.3375         1  "
      ]
     },
     "execution_count": 12,
     "metadata": {},
     "output_type": "execute_result"
    }
   ],
   "source": [
    "# Let' see that 10 Passengers with Highest Fair are Survived or not.\n",
    "df.sort_values(\"Fare\",ascending=False)[[\"PassengerId\",\"Name\",\"Sex\",\"Fare\",\"Survived\"]][:20]\n"
   ]
  },
  {
   "cell_type": "markdown",
   "id": "caf08782",
   "metadata": {
    "papermill": {
     "duration": 0.012075,
     "end_time": "2022-12-30T04:18:58.855223",
     "exception": false,
     "start_time": "2022-12-30T04:18:58.843148",
     "status": "completed"
    },
    "tags": []
   },
   "source": [
    "### Observation\n",
    "\n",
    "* Out of 20 total 14 Passengers are Survived with Highest Fair. \n",
    "* Females used to pay high fare in compare to Males."
   ]
  },
  {
   "cell_type": "code",
   "execution_count": 13,
   "id": "22c68bf3",
   "metadata": {
    "execution": {
     "iopub.execute_input": "2022-12-30T04:18:58.882530Z",
     "iopub.status.busy": "2022-12-30T04:18:58.881259Z",
     "iopub.status.idle": "2022-12-30T04:18:59.093673Z",
     "shell.execute_reply": "2022-12-30T04:18:59.092808Z"
    },
    "papermill": {
     "duration": 0.228972,
     "end_time": "2022-12-30T04:18:59.095986",
     "exception": false,
     "start_time": "2022-12-30T04:18:58.867014",
     "status": "completed"
    },
    "tags": []
   },
   "outputs": [
    {
     "data": {
      "image/png": "[encoded data removed]",
      "text/plain": [
       "<Figure size 432x288 with 1 Axes>"
      ]
     },
     "metadata": {},
     "output_type": "display_data"
    }
   ],
   "source": [
    "# let's see how many males and females are survived.\n",
    "sns.countplot(x=\"Sex\",data=df,hue=\"Survived\")\n",
    "plt.title(\"Count of Survived by Gender\",size=15,color='red')\n",
    "plt.xlabel(\"Sex\",color='red')\n",
    "plt.ylabel(\"Count\",color='red')\n",
    "plt.show()"
   ]
  },
  {
   "cell_type": "markdown",
   "id": "49bbd663",
   "metadata": {
    "papermill": {
     "duration": 0.011622,
     "end_time": "2022-12-30T04:18:59.119608",
     "exception": false,
     "start_time": "2022-12-30T04:18:59.107986",
     "status": "completed"
    },
    "tags": []
   },
   "source": [
    "### Observation\n",
    "\n",
    "* Survived Rate of Female is Very High in Compare to Male."
   ]
  },
  {
   "cell_type": "code",
   "execution_count": 14,
   "id": "61f129d1",
   "metadata": {
    "execution": {
     "iopub.execute_input": "2022-12-30T04:18:59.146562Z",
     "iopub.status.busy": "2022-12-30T04:18:59.145435Z",
     "iopub.status.idle": "2022-12-30T04:18:59.457919Z",
     "shell.execute_reply": "2022-12-30T04:18:59.456525Z"
    },
    "papermill": {
     "duration": 0.329134,
     "end_time": "2022-12-30T04:18:59.460703",
     "exception": false,
     "start_time": "2022-12-30T04:18:59.131569",
     "status": "completed"
    },
    "tags": []
   },
   "outputs": [
    {
     "data": {
      "image/png": "[encoded data removed]",
      "text/plain": [
       "<Figure size 864x432 with 1 Axes>"
      ]
     },
     "metadata": {},
     "output_type": "display_data"
    }
   ],
   "source": [
    "# Let's see Age Distribution\n",
    "plt.figure(figsize=(12,6))\n",
    "sns.kdeplot(x=\"Age\",data=df.dropna(),shade=True,alpha=1,color=\"orange\")\n",
    "plt.title(\"Age Distribution\",size=15,color='red')\n",
    "plt.xlabel(\"Age\",color='red')\n",
    "plt.ylabel(\"Density\",color='red')\n",
    "plt.legend()\n",
    "plt.show()"
   ]
  },
  {
   "cell_type": "markdown",
   "id": "8592813e",
   "metadata": {
    "papermill": {
     "duration": 0.012654,
     "end_time": "2022-12-30T04:18:59.486345",
     "exception": false,
     "start_time": "2022-12-30T04:18:59.473691",
     "status": "completed"
    },
    "tags": []
   },
   "source": [
    "### Observation\n",
    "\n",
    "* Most of the people's age is between 20-40. So, Most of the people were young.\n",
    "* There is very few people whose age is between 60-80."
   ]
  },
  {
   "cell_type": "code",
   "execution_count": 15,
   "id": "ef38fe8d",
   "metadata": {
    "execution": {
     "iopub.execute_input": "2022-12-30T04:18:59.513622Z",
     "iopub.status.busy": "2022-12-30T04:18:59.513148Z",
     "iopub.status.idle": "2022-12-30T04:18:59.830831Z",
     "shell.execute_reply": "2022-12-30T04:18:59.829598Z"
    },
    "papermill": {
     "duration": 0.334413,
     "end_time": "2022-12-30T04:18:59.833467",
     "exception": false,
     "start_time": "2022-12-30T04:18:59.499054",
     "status": "completed"
    },
    "tags": []
   },
   "outputs": [
    {
     "data": {
      "image/png": "[encoded data removed]",
      "text/plain": [
       "<Figure size 864x432 with 1 Axes>"
      ]
     },
     "metadata": {},
     "output_type": "display_data"
    }
   ],
   "source": [
    "# Let's see Age Distribution by Survived Column\n",
    "plt.figure(figsize=(12,6))\n",
    "sns.kdeplot(x=\"Age\",data=df[df['Survived']==0].dropna(),shade=True,alpha=1,color=\"orange\",label=\"Not Survived\")\n",
    "sns.kdeplot(x=\"Age\",data=df[df['Survived']==1].dropna(),shade=True,alpha=0.5,color=\"blue\",label=\"Survived\")\n",
    "plt.title(\"Age Distribution by Survived Column\",size=15,color='red')\n",
    "plt.xlabel(\"Age\",color='red')\n",
    "plt.ylabel(\"Density\",color='red')\n",
    "plt.legend()\n",
    "plt.show()"
   ]
  },
  {
   "cell_type": "markdown",
   "id": "77532871",
   "metadata": {
    "papermill": {
     "duration": 0.013464,
     "end_time": "2022-12-30T04:18:59.860689",
     "exception": false,
     "start_time": "2022-12-30T04:18:59.847225",
     "status": "completed"
    },
    "tags": []
   },
   "source": [
    "### Observation\n",
    "\n",
    "* If your age is between 0-10 (Child) then there is high chance that you survive.\n",
    "* If your age is between 60-80 (Elder) then there is high chance that you not survive."
   ]
  },
  {
   "cell_type": "code",
   "execution_count": 16,
   "id": "3f48c6c3",
   "metadata": {
    "execution": {
     "iopub.execute_input": "2022-12-30T04:18:59.890030Z",
     "iopub.status.busy": "2022-12-30T04:18:59.889560Z",
     "iopub.status.idle": "2022-12-30T04:19:00.154849Z",
     "shell.execute_reply": "2022-12-30T04:19:00.153768Z"
    },
    "papermill": {
     "duration": 0.283711,
     "end_time": "2022-12-30T04:19:00.157608",
     "exception": false,
     "start_time": "2022-12-30T04:18:59.873897",
     "status": "completed"
    },
    "tags": []
   },
   "outputs": [
    {
     "data": {
      "text/plain": [
       "<AxesSubplot:xlabel='Embarked', ylabel='count'>"
      ]
     },
     "execution_count": 16,
     "metadata": {},
     "output_type": "execute_result"
    },
    {
     "data": {
      "image/png": "[encoded data removed]",
      "text/plain": [
       "<Figure size 432x288 with 1 Axes>"
      ]
     },
     "metadata": {},
     "output_type": "display_data"
    }
   ],
   "source": [
    "# let's visualize embarked column with Survived\n",
    "sns.countplot(x=\"Embarked\",data=df,hue=\"Survived\")"
   ]
  },
  {
   "cell_type": "markdown",
   "id": "6cd48cd0",
   "metadata": {
    "papermill": {
     "duration": 0.012981,
     "end_time": "2022-12-30T04:19:00.184048",
     "exception": false,
     "start_time": "2022-12-30T04:19:00.171067",
     "status": "completed"
    },
    "tags": []
   },
   "source": [
    "### Observation\n",
    "\n",
    "* around 70% Passengers Mounted from S(Southampton).\n",
    "* Most of the Passengers who were Mounted from S(Southampton) they weren't Survived. "
   ]
  },
  {
   "cell_type": "code",
   "execution_count": 17,
   "id": "6414493d",
   "metadata": {
    "execution": {
     "iopub.execute_input": "2022-12-30T04:19:00.213192Z",
     "iopub.status.busy": "2022-12-30T04:19:00.211988Z",
     "iopub.status.idle": "2022-12-30T04:19:00.452142Z",
     "shell.execute_reply": "2022-12-30T04:19:00.450654Z"
    },
    "papermill": {
     "duration": 0.258758,
     "end_time": "2022-12-30T04:19:00.455988",
     "exception": false,
     "start_time": "2022-12-30T04:19:00.197230",
     "status": "completed"
    },
    "tags": []
   },
   "outputs": [
    {
     "data": {
      "image/png": "[encoded data removed]",
      "text/plain": [
       "<Figure size 432x288 with 1 Axes>"
      ]
     },
     "metadata": {},
     "output_type": "display_data"
    }
   ],
   "source": [
    "# Let's check which class has less number of chance to survive. \n",
    "sns.countplot(x=\"Survived\",data=df,hue=\"Pclass\")\n",
    "plt.title(\"Pclass Vs. Survive\",size=15,color='red')\n",
    "plt.xlabel(\"Pclass\",color='red')\n",
    "plt.ylabel(\"Count\",color='red')\n",
    "plt.show()"
   ]
  },
  {
   "cell_type": "markdown",
   "id": "44599ebc",
   "metadata": {
    "papermill": {
     "duration": 0.014932,
     "end_time": "2022-12-30T04:19:00.486148",
     "exception": false,
     "start_time": "2022-12-30T04:19:00.471216",
     "status": "completed"
    },
    "tags": []
   },
   "source": [
    "## Observation\n",
    "\n",
    "* Most of the Passengers from Class 3 weren't Survived.\n",
    "* Most if the Passengers from Class 1 Survived."
   ]
  },
  {
   "cell_type": "code",
   "execution_count": 18,
   "id": "04b4fa2e",
   "metadata": {
    "execution": {
     "iopub.execute_input": "2022-12-30T04:19:00.516118Z",
     "iopub.status.busy": "2022-12-30T04:19:00.515602Z",
     "iopub.status.idle": "2022-12-30T04:19:00.802089Z",
     "shell.execute_reply": "2022-12-30T04:19:00.800955Z"
    },
    "papermill": {
     "duration": 0.304467,
     "end_time": "2022-12-30T04:19:00.804538",
     "exception": false,
     "start_time": "2022-12-30T04:19:00.500071",
     "status": "completed"
    },
    "tags": []
   },
   "outputs": [
    {
     "data": {
      "image/png": "[encoded data removed]",
      "text/plain": [
       "<Figure size 432x288 with 1 Axes>"
      ]
     },
     "metadata": {},
     "output_type": "display_data"
    }
   ],
   "source": [
    "# Let's check average age of Passengers in Every Pclass\n",
    "\n",
    "sns.barplot(x=\"Pclass\",y=\"Age\",data=df)\n",
    "plt.title(\"Age average by Each Pclass\",size=15,color='red')\n",
    "plt.xlabel(\"Pclass\",color='red')\n",
    "plt.ylabel(\"Age\",color='red')\n",
    "plt.show()"
   ]
  },
  {
   "cell_type": "markdown",
   "id": "8392a222",
   "metadata": {
    "papermill": {
     "duration": 0.013525,
     "end_time": "2022-12-30T04:19:00.832096",
     "exception": false,
     "start_time": "2022-12-30T04:19:00.818571",
     "status": "completed"
    },
    "tags": []
   },
   "source": [
    "## Observation\n",
    "\n",
    "* PClass 1 Average age is around 37, PClass 2 Average age is around 30 and PClass 3 Average age is around 25.\n",
    "* We can fill Null values of Age column by this average values."
   ]
  },
  {
   "cell_type": "markdown",
   "id": "7aa3168b",
   "metadata": {
    "papermill": {
     "duration": 0.013507,
     "end_time": "2022-12-30T04:19:00.859419",
     "exception": false,
     "start_time": "2022-12-30T04:19:00.845912",
     "status": "completed"
    },
    "tags": []
   },
   "source": [
    "# Data Preprocessing"
   ]
  },
  {
   "cell_type": "code",
   "execution_count": 19,
   "id": "e9b32266",
   "metadata": {
    "execution": {
     "iopub.execute_input": "2022-12-30T04:19:00.889627Z",
     "iopub.status.busy": "2022-12-30T04:19:00.889159Z",
     "iopub.status.idle": "2022-12-30T04:19:00.912005Z",
     "shell.execute_reply": "2022-12-30T04:19:00.910850Z"
    },
    "papermill": {
     "duration": 0.041047,
     "end_time": "2022-12-30T04:19:00.914455",
     "exception": false,
     "start_time": "2022-12-30T04:19:00.873408",
     "status": "completed"
    },
    "tags": []
   },
   "outputs": [],
   "source": [
    "# Age Column Imputation\n",
    "def AgeImputation(value):\n",
    "    age = value[0]\n",
    "    pclass = value[1]\n",
    "    \n",
    "    if np.isnan(age):\n",
    "        if pclass == 1:\n",
    "            return 38.10\n",
    "        elif pclass == 2:\n",
    "            return 29.87\n",
    "        else:\n",
    "            return 25.14\n",
    "        \n",
    "    else:\n",
    "        return age\n",
    "        \n",
    "df[\"Age\"] = df[[\"Age\",\"Pclass\"]].apply(AgeImputation,axis=1)"
   ]
  },
  {
   "cell_type": "code",
   "execution_count": 20,
   "id": "6df31b15",
   "metadata": {
    "execution": {
     "iopub.execute_input": "2022-12-30T04:19:00.945280Z",
     "iopub.status.busy": "2022-12-30T04:19:00.944827Z",
     "iopub.status.idle": "2022-12-30T04:19:00.953606Z",
     "shell.execute_reply": "2022-12-30T04:19:00.952438Z"
    },
    "papermill": {
     "duration": 0.027068,
     "end_time": "2022-12-30T04:19:00.955994",
     "exception": false,
     "start_time": "2022-12-30T04:19:00.928926",
     "status": "completed"
    },
    "tags": []
   },
   "outputs": [],
   "source": [
    "# Embarked Column has Just 2 Null values, we will drop that\n",
    "df.dropna(inplace=True)"
   ]
  },
  {
   "cell_type": "code",
   "execution_count": 21,
   "id": "8ac6c251",
   "metadata": {
    "execution": {
     "iopub.execute_input": "2022-12-30T04:19:00.986604Z",
     "iopub.status.busy": "2022-12-30T04:19:00.986108Z",
     "iopub.status.idle": "2022-12-30T04:19:00.992865Z",
     "shell.execute_reply": "2022-12-30T04:19:00.991893Z"
    },
    "papermill": {
     "duration": 0.024681,
     "end_time": "2022-12-30T04:19:00.994985",
     "exception": false,
     "start_time": "2022-12-30T04:19:00.970304",
     "status": "completed"
    },
    "tags": []
   },
   "outputs": [],
   "source": [
    "# Drop Redundant Columns like PassengerId, Name, and Ticket \n",
    "# That's Not Important in Classification Problem\n",
    "df.drop(columns=[\"PassengerId\",\"Name\",\"Ticket\"],inplace=True)"
   ]
  },
  {
   "cell_type": "code",
   "execution_count": 22,
   "id": "cdbaf9d6",
   "metadata": {
    "execution": {
     "iopub.execute_input": "2022-12-30T04:19:01.026409Z",
     "iopub.status.busy": "2022-12-30T04:19:01.025445Z",
     "iopub.status.idle": "2022-12-30T04:19:01.033009Z",
     "shell.execute_reply": "2022-12-30T04:19:01.031960Z"
    },
    "papermill": {
     "duration": 0.026051,
     "end_time": "2022-12-30T04:19:01.035516",
     "exception": false,
     "start_time": "2022-12-30T04:19:01.009465",
     "status": "completed"
    },
    "tags": []
   },
   "outputs": [],
   "source": [
    "# Extract X and y\n",
    "X = df.drop(\"Survived\",axis=1)\n",
    "y = df[\"Survived\"]"
   ]
  },
  {
   "cell_type": "code",
   "execution_count": 23,
   "id": "0f270fb1",
   "metadata": {
    "execution": {
     "iopub.execute_input": "2022-12-30T04:19:01.065281Z",
     "iopub.status.busy": "2022-12-30T04:19:01.064818Z",
     "iopub.status.idle": "2022-12-30T04:19:01.072988Z",
     "shell.execute_reply": "2022-12-30T04:19:01.071974Z"
    },
    "papermill": {
     "duration": 0.025671,
     "end_time": "2022-12-30T04:19:01.075205",
     "exception": false,
     "start_time": "2022-12-30T04:19:01.049534",
     "status": "completed"
    },
    "tags": []
   },
   "outputs": [],
   "source": [
    "# train and test split\n",
    "X_train,X_test,y_train,y_test = train_test_split(X,y,train_size=0.8,random_state=42,stratify=y)"
   ]
  },
  {
   "cell_type": "code",
   "execution_count": 24,
   "id": "ae038e9c",
   "metadata": {
    "execution": {
     "iopub.execute_input": "2022-12-30T04:19:01.105419Z",
     "iopub.status.busy": "2022-12-30T04:19:01.104964Z",
     "iopub.status.idle": "2022-12-30T04:19:01.111431Z",
     "shell.execute_reply": "2022-12-30T04:19:01.110285Z"
    },
    "papermill": {
     "duration": 0.024336,
     "end_time": "2022-12-30T04:19:01.113816",
     "exception": false,
     "start_time": "2022-12-30T04:19:01.089480",
     "status": "completed"
    },
    "tags": []
   },
   "outputs": [],
   "source": [
    "# creating a pipeline for OneHotEncoding of Categorical Columns\n",
    "categorical_processor = ColumnTransformer(transformers=[\n",
    "    (\"OHE\",OneHotEncoder(drop='first'),[\"Sex\",\"Embarked\"]),\n",
    "],remainder=\"passthrough\")\n",
    "\n",
    "pipe = Pipeline(steps=[\n",
    "    (\"Categorical_Processor\",categorical_processor),\n",
    "    (\"Standard Scaling\",StandardScaler()),\n",
    "    (\"Model\",LogisticRegression())\n",
    "])"
   ]
  },
  {
   "cell_type": "code",
   "execution_count": 25,
   "id": "8ad59873",
   "metadata": {
    "execution": {
     "iopub.execute_input": "2022-12-30T04:19:01.144407Z",
     "iopub.status.busy": "2022-12-30T04:19:01.143268Z",
     "iopub.status.idle": "2022-12-30T04:19:01.181267Z",
     "shell.execute_reply": "2022-12-30T04:19:01.180031Z"
    },
    "papermill": {
     "duration": 0.05606,
     "end_time": "2022-12-30T04:19:01.183956",
     "exception": false,
     "start_time": "2022-12-30T04:19:01.127896",
     "status": "completed"
    },
    "tags": []
   },
   "outputs": [
    {
     "data": {
      "text/html": [
       "<style>#sk-fed86001-5d0f-40d7-92ed-099cb6eb1e77 {color: black;background-color: white;}#sk-fed86001-5d0f-40d7-92ed-099cb6eb1e77 pre{padding: 0;}#sk-fed86001-5d0f-40d7-92ed-099cb6eb1e77 div.sk-toggleable {background-color: white;}#sk-fed86001-5d0f-40d7-92ed-099cb6eb1e77 label.sk-toggleable__label {cursor: pointer;display: block;width: 100%;margin-bottom: 0;padding: 0.3em;box-sizing: border-box;text-align: center;}#sk-fed86001-5d0f-40d7-92ed-099cb6eb1e77 label.sk-toggleable__label-arrow:before {content: \"▸\";float: left;margin-right: 0.25em;color: #696969;}#sk-fed86001-5d0f-40d7-92ed-099cb6eb1e77 label.sk-toggleable__label-arrow:hover:before {color: black;}#sk-fed86001-5d0f-40d7-92ed-099cb6eb1e77 div.sk-estimator:hover label.sk-toggleable__label-arrow:before {color: black;}#sk-fed86001-5d0f-40d7-92ed-099cb6eb1e77 div.sk-toggleable__content {max-height: 0;max-width: 0;overflow: hidden;text-align: left;background-color: #f0f8ff;}#sk-fed86001-5d0f-40d7-92ed-099cb6eb1e77 div.sk-toggleable__content pre {margin: 0.2em;color: black;border-radius: 0.25em;background-color: #f0f8ff;}#sk-fed86001-5d0f-40d7-92ed-099cb6eb1e77 input.sk-toggleable__control:checked~div.sk-toggleable__content {max-height: 200px;max-width: 100%;overflow: auto;}#sk-fed86001-5d0f-40d7-92ed-099cb6eb1e77 input.sk-toggleable__control:checked~label.sk-toggleable__label-arrow:before {content: \"▾\";}#sk-fed86001-5d0f-40d7-92ed-099cb6eb1e77 div.sk-estimator input.sk-toggleable__control:checked~label.sk-toggleable__label {background-color: #d4ebff;}#sk-fed86001-5d0f-40d7-92ed-099cb6eb1e77 div.sk-label input.sk-toggleable__control:checked~label.sk-toggleable__label {background-color: #d4ebff;}#sk-fed86001-5d0f-40d7-92ed-099cb6eb1e77 input.sk-hidden--visually {border: 0;clip: rect(1px 1px 1px 1px);clip: rect(1px, 1px, 1px, 1px);height: 1px;margin: -1px;overflow: hidden;padding: 0;position: absolute;width: 1px;}#sk-fed86001-5d0f-40d7-92ed-099cb6eb1e77 div.sk-estimator {font-family: monospace;background-color: #f0f8ff;border: 1px dotted black;border-radius: 0.25em;box-sizing: border-box;margin-bottom: 0.5em;}#sk-fed86001-5d0f-40d7-92ed-099cb6eb1e77 div.sk-estimator:hover {background-color: #d4ebff;}#sk-fed86001-5d0f-40d7-92ed-099cb6eb1e77 div.sk-parallel-item::after {content: \"\";width: 100%;border-bottom: 1px solid gray;flex-grow: 1;}#sk-fed86001-5d0f-40d7-92ed-099cb6eb1e77 div.sk-label:hover label.sk-toggleable__label {background-color: #d4ebff;}#sk-fed86001-5d0f-40d7-92ed-099cb6eb1e77 div.sk-serial::before {content: \"\";position: absolute;border-left: 1px solid gray;box-sizing: border-box;top: 2em;bottom: 0;left: 50%;}#sk-fed86001-5d0f-40d7-92ed-099cb6eb1e77 div.sk-serial {display: flex;flex-direction: column;align-items: center;background-color: white;padding-right: 0.2em;padding-left: 0.2em;}#sk-fed86001-5d0f-40d7-92ed-099cb6eb1e77 div.sk-item {z-index: 1;}#sk-fed86001-5d0f-40d7-92ed-099cb6eb1e77 div.sk-parallel {display: flex;align-items: stretch;justify-content: center;background-color: white;}#sk-fed86001-5d0f-40d7-92ed-099cb6eb1e77 div.sk-parallel::before {content: \"\";position: absolute;border-left: 1px solid gray;box-sizing: border-box;top: 2em;bottom: 0;left: 50%;}#sk-fed86001-5d0f-40d7-92ed-099cb6eb1e77 div.sk-parallel-item {display: flex;flex-direction: column;position: relative;background-color: white;}#sk-fed86001-5d0f-40d7-92ed-099cb6eb1e77 div.sk-parallel-item:first-child::after {align-self: flex-end;width: 50%;}#sk-fed86001-5d0f-40d7-92ed-099cb6eb1e77 div.sk-parallel-item:last-child::after {align-self: flex-start;width: 50%;}#sk-fed86001-5d0f-40d7-92ed-099cb6eb1e77 div.sk-parallel-item:only-child::after {width: 0;}#sk-fed86001-5d0f-40d7-92ed-099cb6eb1e77 div.sk-dashed-wrapped {border: 1px dashed gray;margin: 0 0.4em 0.5em 0.4em;box-sizing: border-box;padding-bottom: 0.4em;background-color: white;position: relative;}#sk-fed86001-5d0f-40d7-92ed-099cb6eb1e77 div.sk-label label {font-family: monospace;font-weight: bold;background-color: white;display: inline-block;line-height: 1.2em;}#sk-fed86001-5d0f-40d7-92ed-099cb6eb1e77 div.sk-label-container {position: relative;z-index: 2;text-align: center;}#sk-fed86001-5d0f-40d7-92ed-099cb6eb1e77 div.sk-container {/* jupyter's `normalize.less` sets `[hidden] { display: none; }` but bootstrap.min.css set `[hidden] { display: none !important; }` so we also need the `!important` here to be able to override the default hidden behavior on the sphinx rendered scikit-learn.org. See: https://github.com/scikit-learn/scikit-learn/issues/21755 */display: inline-block !important;position: relative;}#sk-fed86001-5d0f-40d7-92ed-099cb6eb1e77 div.sk-text-repr-fallback {display: none;}</style><div id=\"sk-fed86001-5d0f-40d7-92ed-099cb6eb1e77\" class=\"sk-top-container\"><div class=\"sk-text-repr-fallback\"><pre>Pipeline(steps=[(&#x27;Categorical_Processor&#x27;,\n",
       "                 ColumnTransformer(remainder=&#x27;passthrough&#x27;,\n",
       "                                   transformers=[(&#x27;OHE&#x27;,\n",
       "                                                  OneHotEncoder(drop=&#x27;first&#x27;),\n",
       "                                                  [&#x27;Sex&#x27;, &#x27;Embarked&#x27;])])),\n",
       "                (&#x27;Standard Scaling&#x27;, StandardScaler()),\n",
       "                (&#x27;Model&#x27;, LogisticRegression())])</pre><b>Please rerun this cell to show the HTML repr or trust the notebook.</b></div><div class=\"sk-container\" hidden><div class=\"sk-item sk-dashed-wrapped\"><div class=\"sk-label-container\"><div class=\"sk-label sk-toggleable\"><input class=\"sk-toggleable__control sk-hidden--visually\" id=\"ff7b68a9-ce57-4bb3-ae69-1e268ec96df4\" type=\"checkbox\" ><label for=\"ff7b68a9-ce57-4bb3-ae69-1e268ec96df4\" class=\"sk-toggleable__label sk-toggleable__label-arrow\">Pipeline</label><div class=\"sk-toggleable__content\"><pre>Pipeline(steps=[(&#x27;Categorical_Processor&#x27;,\n",
       "                 ColumnTransformer(remainder=&#x27;passthrough&#x27;,\n",
       "                                   transformers=[(&#x27;OHE&#x27;,\n",
       "                                                  OneHotEncoder(drop=&#x27;first&#x27;),\n",
       "                                                  [&#x27;Sex&#x27;, &#x27;Embarked&#x27;])])),\n",
       "                (&#x27;Standard Scaling&#x27;, StandardScaler()),\n",
       "                (&#x27;Model&#x27;, LogisticRegression())])</pre></div></div></div><div class=\"sk-serial\"><div class=\"sk-item sk-dashed-wrapped\"><div class=\"sk-label-container\"><div class=\"sk-label sk-toggleable\"><input class=\"sk-toggleable__control sk-hidden--visually\" id=\"a4a1589c-934c-4029-9169-a5f9191eaab8\" type=\"checkbox\" ><label for=\"a4a1589c-934c-4029-9169-a5f9191eaab8\" class=\"sk-toggleable__label sk-toggleable__label-arrow\">Categorical_Processor: ColumnTransformer</label><div class=\"sk-toggleable__content\"><pre>ColumnTransformer(remainder=&#x27;passthrough&#x27;,\n",
       "                  transformers=[(&#x27;OHE&#x27;, OneHotEncoder(drop=&#x27;first&#x27;),\n",
       "                                 [&#x27;Sex&#x27;, &#x27;Embarked&#x27;])])</pre></div></div></div><div class=\"sk-parallel\"><div class=\"sk-parallel-item\"><div class=\"sk-item\"><div class=\"sk-label-container\"><div class=\"sk-label sk-toggleable\"><input class=\"sk-toggleable__control sk-hidden--visually\" id=\"cebac77a-59d2-4216-84e3-239efc550ef3\" type=\"checkbox\" ><label for=\"cebac77a-59d2-4216-84e3-239efc550ef3\" class=\"sk-toggleable__label sk-toggleable__label-arrow\">OHE</label><div class=\"sk-toggleable__content\"><pre>[&#x27;Sex&#x27;, &#x27;Embarked&#x27;]</pre></div></div></div><div class=\"sk-serial\"><div class=\"sk-item\"><div class=\"sk-estimator sk-toggleable\"><input class=\"sk-toggleable__control sk-hidden--visually\" id=\"a20c2b33-0df1-41dc-835c-7df3e52dce10\" type=\"checkbox\" ><label for=\"a20c2b33-0df1-41dc-835c-7df3e52dce10\" class=\"sk-toggleable__label sk-toggleable__label-arrow\">OneHotEncoder</label><div class=\"sk-toggleable__content\"><pre>OneHotEncoder(drop=&#x27;first&#x27;)</pre></div></div></div></div></div></div><div class=\"sk-parallel-item\"><div class=\"sk-item\"><div class=\"sk-label-container\"><div class=\"sk-label sk-toggleable\"><input class=\"sk-toggleable__control sk-hidden--visually\" id=\"f7550582-6e3b-46b1-b0d8-b8e56684f441\" type=\"checkbox\" ><label for=\"f7550582-6e3b-46b1-b0d8-b8e56684f441\" class=\"sk-toggleable__label sk-toggleable__label-arrow\">remainder</label><div class=\"sk-toggleable__content\"><pre>[&#x27;Pclass&#x27;, &#x27;Age&#x27;, &#x27;SibSp&#x27;, &#x27;Parch&#x27;, &#x27;Fare&#x27;]</pre></div></div></div><div class=\"sk-serial\"><div class=\"sk-item\"><div class=\"sk-estimator sk-toggleable\"><input class=\"sk-toggleable__control sk-hidden--visually\" id=\"d83b21c7-9a0d-43ac-94fd-2dfd6484f07f\" type=\"checkbox\" ><label for=\"d83b21c7-9a0d-43ac-94fd-2dfd6484f07f\" class=\"sk-toggleable__label sk-toggleable__label-arrow\">passthrough</label><div class=\"sk-toggleable__content\"><pre>passthrough</pre></div></div></div></div></div></div></div></div><div class=\"sk-item\"><div class=\"sk-estimator sk-toggleable\"><input class=\"sk-toggleable__control sk-hidden--visually\" id=\"c7377f61-227f-4f36-9ee1-f173e631b04b\" type=\"checkbox\" ><label for=\"c7377f61-227f-4f36-9ee1-f173e631b04b\" class=\"sk-toggleable__label sk-toggleable__label-arrow\">StandardScaler</label><div class=\"sk-toggleable__content\"><pre>StandardScaler()</pre></div></div></div><div class=\"sk-item\"><div class=\"sk-estimator sk-toggleable\"><input class=\"sk-toggleable__control sk-hidden--visually\" id=\"5194da5c-5196-46f9-9f42-ab53a798ae96\" type=\"checkbox\" ><label for=\"5194da5c-5196-46f9-9f42-ab53a798ae96\" class=\"sk-toggleable__label sk-toggleable__label-arrow\">LogisticRegression</label><div class=\"sk-toggleable__content\"><pre>LogisticRegression()</pre></div></div></div></div></div></div></div>"
      ],
      "text/plain": [
       "Pipeline(steps=[('Categorical_Processor',\n",
       "                 ColumnTransformer(remainder='passthrough',\n",
       "                                   transformers=[('OHE',\n",
       "                                                  OneHotEncoder(drop='first'),\n",
       "                                                  ['Sex', 'Embarked'])])),\n",
       "                ('Standard Scaling', StandardScaler()),\n",
       "                ('Model', LogisticRegression())])"
      ]
     },
     "execution_count": 25,
     "metadata": {},
     "output_type": "execute_result"
    }
   ],
   "source": [
    "pipe.fit(X_train,y_train)"
   ]
  },
  {
   "cell_type": "code",
   "execution_count": 26,
   "id": "c672faf5",
   "metadata": {
    "execution": {
     "iopub.execute_input": "2022-12-30T04:19:01.215642Z",
     "iopub.status.busy": "2022-12-30T04:19:01.215159Z",
     "iopub.status.idle": "2022-12-30T04:19:01.230196Z",
     "shell.execute_reply": "2022-12-30T04:19:01.229061Z"
    },
    "papermill": {
     "duration": 0.033565,
     "end_time": "2022-12-30T04:19:01.232485",
     "exception": false,
     "start_time": "2022-12-30T04:19:01.198920",
     "status": "completed"
    },
    "tags": []
   },
   "outputs": [
    {
     "data": {
      "text/plain": [
       "0.8258426966292135"
      ]
     },
     "execution_count": 26,
     "metadata": {},
     "output_type": "execute_result"
    }
   ],
   "source": [
    "# Accuracy Score on test data\n",
    "from sklearn.metrics import accuracy_score,confusion_matrix\n",
    "accuracy_score(y_test,pipe.predict(X_test))"
   ]
  },
  {
   "cell_type": "code",
   "execution_count": 27,
   "id": "38518f0d",
   "metadata": {
    "execution": {
     "iopub.execute_input": "2022-12-30T04:19:01.264309Z",
     "iopub.status.busy": "2022-12-30T04:19:01.263854Z",
     "iopub.status.idle": "2022-12-30T04:19:01.538658Z",
     "shell.execute_reply": "2022-12-30T04:19:01.537673Z"
    },
    "papermill": {
     "duration": 0.293731,
     "end_time": "2022-12-30T04:19:01.541300",
     "exception": false,
     "start_time": "2022-12-30T04:19:01.247569",
     "status": "completed"
    },
    "tags": []
   },
   "outputs": [
    {
     "data": {
      "image/png": "[encoded data removed]",
      "text/plain": [
       "<Figure size 432x288 with 2 Axes>"
      ]
     },
     "metadata": {},
     "output_type": "display_data"
    }
   ],
   "source": [
    "# confusion matrix\n",
    "sns.heatmap(confusion_matrix(y_test,pipe.predict(X_test)),annot=True)\n",
    "plt.title(\"Confusion Matrix of Test data\",size=18,color='red')\n",
    "plt.show()"
   ]
  },
  {
   "cell_type": "code",
   "execution_count": 28,
   "id": "a5e1fc51",
   "metadata": {
    "execution": {
     "iopub.execute_input": "2022-12-30T04:19:01.573188Z",
     "iopub.status.busy": "2022-12-30T04:19:01.572727Z",
     "iopub.status.idle": "2022-12-30T04:19:01.596683Z",
     "shell.execute_reply": "2022-12-30T04:19:01.595539Z"
    },
    "papermill": {
     "duration": 0.042769,
     "end_time": "2022-12-30T04:19:01.599095",
     "exception": false,
     "start_time": "2022-12-30T04:19:01.556326",
     "status": "completed"
    },
    "tags": []
   },
   "outputs": [
    {
     "data": {
      "text/html": [
       "<div>\n",
       "<style scoped>\n",
       "    .dataframe tbody tr th:only-of-type {\n",
       "        vertical-align: middle;\n",
       "    }\n",
       "\n",
       "    .dataframe tbody tr th {\n",
       "        vertical-align: top;\n",
       "    }\n",
       "\n",
       "    .dataframe thead th {\n",
       "        text-align: right;\n",
       "    }\n",
       "</style>\n",
       "<table border=\"1\" class=\"dataframe\">\n",
       "  <thead>\n",
       "    <tr style=\"text-align: right;\">\n",
       "      <th></th>\n",
       "      <th>PassengerId</th>\n",
       "      <th>Pclass</th>\n",
       "      <th>Sex</th>\n",
       "      <th>Age</th>\n",
       "      <th>SibSp</th>\n",
       "      <th>Parch</th>\n",
       "      <th>Fare</th>\n",
       "      <th>Embarked</th>\n",
       "    </tr>\n",
       "  </thead>\n",
       "  <tbody>\n",
       "    <tr>\n",
       "      <th>0</th>\n",
       "      <td>892</td>\n",
       "      <td>3</td>\n",
       "      <td>male</td>\n",
       "      <td>34.5</td>\n",
       "      <td>0</td>\n",
       "      <td>0</td>\n",
       "      <td>7.8292</td>\n",
       "      <td>Q</td>\n",
       "    </tr>\n",
       "    <tr>\n",
       "      <th>1</th>\n",
       "      <td>893</td>\n",
       "      <td>3</td>\n",
       "      <td>female</td>\n",
       "      <td>47.0</td>\n",
       "      <td>1</td>\n",
       "      <td>0</td>\n",
       "      <td>7.0000</td>\n",
       "      <td>S</td>\n",
       "    </tr>\n",
       "    <tr>\n",
       "      <th>2</th>\n",
       "      <td>894</td>\n",
       "      <td>2</td>\n",
       "      <td>male</td>\n",
       "      <td>62.0</td>\n",
       "      <td>0</td>\n",
       "      <td>0</td>\n",
       "      <td>9.6875</td>\n",
       "      <td>Q</td>\n",
       "    </tr>\n",
       "    <tr>\n",
       "      <th>3</th>\n",
       "      <td>895</td>\n",
       "      <td>3</td>\n",
       "      <td>male</td>\n",
       "      <td>27.0</td>\n",
       "      <td>0</td>\n",
       "      <td>0</td>\n",
       "      <td>8.6625</td>\n",
       "      <td>S</td>\n",
       "    </tr>\n",
       "    <tr>\n",
       "      <th>4</th>\n",
       "      <td>896</td>\n",
       "      <td>3</td>\n",
       "      <td>female</td>\n",
       "      <td>22.0</td>\n",
       "      <td>1</td>\n",
       "      <td>1</td>\n",
       "      <td>12.2875</td>\n",
       "      <td>S</td>\n",
       "    </tr>\n",
       "  </tbody>\n",
       "</table>\n",
       "</div>"
      ],
      "text/plain": [
       "   PassengerId  Pclass     Sex   Age  SibSp  Parch     Fare Embarked\n",
       "0          892       3    male  34.5      0      0   7.8292        Q\n",
       "1          893       3  female  47.0      1      0   7.0000        S\n",
       "2          894       2    male  62.0      0      0   9.6875        Q\n",
       "3          895       3    male  27.0      0      0   8.6625        S\n",
       "4          896       3  female  22.0      1      1  12.2875        S"
      ]
     },
     "execution_count": 28,
     "metadata": {},
     "output_type": "execute_result"
    }
   ],
   "source": [
    "# load test dataset\n",
    "df_test = pd.read_csv(\"/kaggle/input/titanic/test.csv\",usecols=[\"PassengerId\",\"Pclass\",\"Sex\",\"Age\",\"SibSp\",\"Parch\",\"Fare\",\"Embarked\"])\n",
    "df_test.head()"
   ]
  },
  {
   "cell_type": "code",
   "execution_count": 29,
   "id": "c3a4926a",
   "metadata": {
    "execution": {
     "iopub.execute_input": "2022-12-30T04:19:01.632477Z",
     "iopub.status.busy": "2022-12-30T04:19:01.631679Z",
     "iopub.status.idle": "2022-12-30T04:19:01.647406Z",
     "shell.execute_reply": "2022-12-30T04:19:01.646224Z"
    },
    "papermill": {
     "duration": 0.035353,
     "end_time": "2022-12-30T04:19:01.649826",
     "exception": false,
     "start_time": "2022-12-30T04:19:01.614473",
     "status": "completed"
    },
    "tags": []
   },
   "outputs": [],
   "source": [
    "# Handle Missing Values from test data\n",
    "df_test[\"Age\"] = df_test[[\"Age\",\"Pclass\"]].apply(AgeImputation,axis=1)\n",
    "df_test[\"Fare\"] = df_test[\"Fare\"].fillna(df_test[\"Fare\"].mean())"
   ]
  },
  {
   "cell_type": "code",
   "execution_count": 30,
   "id": "20750cd1",
   "metadata": {
    "execution": {
     "iopub.execute_input": "2022-12-30T04:19:01.682180Z",
     "iopub.status.busy": "2022-12-30T04:19:01.681315Z",
     "iopub.status.idle": "2022-12-30T04:19:01.692894Z",
     "shell.execute_reply": "2022-12-30T04:19:01.691919Z"
    },
    "papermill": {
     "duration": 0.030297,
     "end_time": "2022-12-30T04:19:01.695359",
     "exception": false,
     "start_time": "2022-12-30T04:19:01.665062",
     "status": "completed"
    },
    "tags": []
   },
   "outputs": [],
   "source": [
    "# prediction on test data\n",
    "test_pred = pipe.predict(df_test.drop(\"PassengerId\",axis=1))"
   ]
  },
  {
   "cell_type": "code",
   "execution_count": 31,
   "id": "ab5eb8fa",
   "metadata": {
    "execution": {
     "iopub.execute_input": "2022-12-30T04:19:01.729161Z",
     "iopub.status.busy": "2022-12-30T04:19:01.728071Z",
     "iopub.status.idle": "2022-12-30T04:19:01.734439Z",
     "shell.execute_reply": "2022-12-30T04:19:01.733680Z"
    },
    "papermill": {
     "duration": 0.025588,
     "end_time": "2022-12-30T04:19:01.736743",
     "exception": false,
     "start_time": "2022-12-30T04:19:01.711155",
     "status": "completed"
    },
    "tags": []
   },
   "outputs": [],
   "source": [
    "df_test[\"Survived\"] = test_pred"
   ]
  },
  {
   "cell_type": "code",
   "execution_count": 32,
   "id": "ab94c9c9",
   "metadata": {
    "execution": {
     "iopub.execute_input": "2022-12-30T04:19:01.768594Z",
     "iopub.status.busy": "2022-12-30T04:19:01.768150Z",
     "iopub.status.idle": "2022-12-30T04:19:01.778333Z",
     "shell.execute_reply": "2022-12-30T04:19:01.777444Z"
    },
    "papermill": {
     "duration": 0.028799,
     "end_time": "2022-12-30T04:19:01.780587",
     "exception": false,
     "start_time": "2022-12-30T04:19:01.751788",
     "status": "completed"
    },
    "tags": []
   },
   "outputs": [],
   "source": [
    "submission = df_test[[\"PassengerId\",\"Survived\"]]\n",
    "submission.to_csv(\"Submission.csv\",index=False)"
   ]
  },
  {
   "cell_type": "code",
   "execution_count": null,
   "id": "8b2761fe",
   "metadata": {
    "papermill": {
     "duration": 0.01463,
     "end_time": "2022-12-30T04:19:01.810435",
     "exception": false,
     "start_time": "2022-12-30T04:19:01.795805",
     "status": "completed"
    },
    "tags": []
   },
   "outputs": [],
   "source": []
  }
 ],
 "metadata": {
  "kernelspec": {
   "display_name": "Python 3",
   "language": "python",
   "name": "python3"
  },
  "language_info": {
   "codemirror_mode": {
    "name": "ipython",
    "version": 3
   },
   "file_extension": ".py",
   "mimetype": "text/x-python",
   "name": "python",
   "nbconvert_exporter": "python",
   "pygments_lexer": "ipython3",
   "version": "3.7.12"
  },
  "papermill": {
   "default_parameters": {},
   "duration": 15.710478,
   "end_time": "2022-12-30T04:19:02.949054",
   "environment_variables": {},
   "exception": null,
   "input_path": "__notebook__.ipynb",
   "output_path": "__notebook__.ipynb",
   "parameters": {},
   "start_time": "2022-12-30T04:18:47.238576",
   "version": "2.3.4"
  }
 },
 "nbformat": 4,
 "nbformat_minor": 5
}
